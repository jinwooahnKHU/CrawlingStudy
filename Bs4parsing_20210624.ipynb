{
 "cells": [
  {
   "cell_type": "markdown",
   "id": "bf886fa5",
   "metadata": {
    "ExecuteTime": {
     "end_time": "2021-06-24T00:54:32.389894Z",
     "start_time": "2021-06-24T00:54:32.298468Z"
    }
   },
   "source": [
    "# 2021.06.24 크롤링 공부"
   ]
  },
  {
   "cell_type": "markdown",
   "id": "f3bb09c8",
   "metadata": {},
   "source": [
    "[https://www.fun-coding.org/crawl_basic2.html](https://www.fun-coding.org/crawl_basic2.html) 참조하였음."
   ]
  },
  {
   "cell_type": "markdown",
   "id": "04a34b08",
   "metadata": {},
   "source": [
    "## Bs4를 이용해서 HTML 가져오기"
   ]
  },
  {
   "cell_type": "code",
   "execution_count": 1,
   "id": "c8d75491",
   "metadata": {
    "ExecuteTime": {
     "end_time": "2021-06-24T04:53:32.746998Z",
     "start_time": "2021-06-24T04:53:32.672748Z"
    }
   },
   "outputs": [],
   "source": [
    "import requests\n",
    "#Request로 HTML 페이지 요청\n",
    "from bs4 import BeautifulSoup"
   ]
  },
  {
   "cell_type": "code",
   "execution_count": 2,
   "id": "36e4e584",
   "metadata": {
    "ExecuteTime": {
     "end_time": "2021-06-24T04:53:32.950896Z",
     "start_time": "2021-06-24T04:53:32.747981Z"
    }
   },
   "outputs": [
    {
     "name": "stdout",
     "output_type": "stream",
     "text": [
      "b'<!doctype html>\\n<html lang=\"ko\"> \\n <head data-cloud-area=\"head\"> \\n  <meta charset=\"utf-8\"> \\n  <meta http-equiv=\"X-UA-Compatible\" content=\"IE=edge\"> \\n  <style>\\n            @import url(\\'//t1.daumcdn.net/harmony_static/cloud/page/ff00fb3074e05294cead40f5a7d788bcee30a89b.css\\');\\n            @import url(\\'//t1.daumcdn.net/harmony_static/cloud/2021/06/09/common.8599c65961395aebbd79.css\\')\\n        </style> \\n  <style>\\n            /* \\xeb\\x8b\\xa4\\xec\\x9d\\x8c \\xec\\xb9\\xb4\\xed\\x8e\\x98 \\xec\\x86\\x8c\\xec\\x85\\x9c \\xec\\x89\\x90\\xec\\x96\\xb4 \\xec\\x9e\\x84\\xec\\x8b\\x9c \\xeb\\xb9\\x84\\xed\\x99\\x9c\\xec\\x84\\xb1\\xed\\x99\\x94 */\\n            .list_sns li:nth-child(6) {\\n                display: none;\\n            }\\n        </style> \\n  <meta property=\"mccp:docId\" content=\"nkhSoinQsa\"> \\n  <meta property=\"og:site_name\" content=\"\\xeb\\x8b\\xa4\\xec\\x9d\\x8c\\xeb\\x89\\xb4\\xec\\x8a\\xa4\"> \\n  <meta property=\"og:title\" content=\"\\xec\\x9e\\x94\\xea\\xb8\\x88\\xeb\\x8c\\x80\\xec\\xb6\\x9c\\xec\\x97\\x90\\xeb\\x8f\\x84 DTI \\xea\\xb7\\x9c\\xec\\xa0\\x9c \\xec\\xa0\\x81\\xec\\x9a\\xa9 \\xea\\xb2\\x80\\xed\\x86\\xa0\"> \\n  <meta property=\"og:regDate\" content=\"20170615203440\"> \\n  <meta property=\"og:type\" content=\"article\"> \\n  <meta property=\"og:url\" content=\"https://news.v.daum.net/v/nkhSoinQsa\"> \\n  <meta property=\"og:image\" content=\"https://img1.daumcdn.net/thumb/S1200x630/?fname=https://t1.daumcdn.net/news/201706/15/hankooki/20170615044256378kzbd.jpg\"> \\n  <meta property=\"og:image:width\" content=\"1200\"> \\n  <meta property=\"og:image:height\" content=\"630\"> \\n  <meta property=\"og:description\" content=\"\\xeb\\x82\\xb4\\xec\\xa3\\xbc \\xeb\\xb6\\x80\\xeb\\x8f\\x99\\xec\\x82\\xb0 \\xec\\xa2\\x85\\xed\\x95\\xa9\\xeb\\x8c\\x80\\xec\\xb1\\x85 \\xeb\\xb0\\x9c\\xed\\x91\\x9c \\xec\\xa7\\x91\\xea\\xb0\\x92 \\xec\\x83\\x81\\xec\\x8a\\xb9 \\xeb\\x85\\xb8\\xeb\\xa6\\xb0 \\xed\\x88\\xac\\xea\\xb8\\xb0 \\xeb\\xb6\\x84\\xec\\x96\\x91 \\xec\\xb0\\xa8\\xeb\\x8b\\xa8 LTV\\xe3\\x86\\x8dDTI \\xea\\xb7\\x9c\\xec\\xa0\\x9c \\xeb\\x8b\\xa4\\xec\\x8b\\x9c \\xea\\xb0\\x95\\xed\\x99\\x94\\xed\\x95\\xa0 \\xeb\\x93\\xaf \\xec\\xa0\\x80\\xec\\x86\\x8c\\xeb\\x93\\x9d \\xec\\x8b\\xa4\\xec\\x88\\x98\\xec\\x9a\\x94\\xec\\x9e\\x90 \\xed\\x94\\xbc\\xed\\x95\\xb4 \\xec\\x9a\\xb0\\xeb\\xa0\\xa4\\xeb\\x8f\\x84 \\xea\\xb8\\x88\\xec\\x9c\\xb5\\xeb\\x8b\\xb9\\xea\\xb5\\xad\\xec\\x9d\\xb4 \\xea\\xb8\\x89\\xec\\xa6\\x9d\\xed\\x95\\x98\\xeb\\x8a\\x94 \\xea\\xb0\\x80\\xea\\xb3\\x84\\xeb\\xb6\\x80\\xec\\xb1\\x84 \\xec\\xa6\\x9d\\xea\\xb0\\x80\\xec\\x84\\xb8\\xeb\\xa5\\xbc \\xeb\\xa7\\x89\\xea\\xb8\\xb0 \\xec\\x9c\\x84\\xed\\x95\\xb4 \\xec\\x95\\x84\\xed\\x8c\\x8c\\xed\\x8a\\xb8 \\xec\\x9e\\x94\\xea\\xb8\\x88\\xeb\\x8c\\x80\\xec\\xb6\\x9c\\xec\\x97\\x90\\xeb\\x8f\\x84 \\xec\\x86\\x8c\\xeb\\x93\\x9d\\xec\\x9d\\x84 \\xeb\\x94\\xb0\\xec\\xa0\\xb8 \\xeb\\x8c\\x80\\xec\\xb6\\x9c\\xed\\x95\\x9c\\xeb\\x8f\\x84\\xeb\\xa5\\xbc \\xec\\xa0\\x95\\xed\\x95\\x98\\xeb\\x8a\\x94 \\xec\\xb4\\x9d\\xeb\\xb6\\x80\\xec\\xb1\\x84\\xec\\x83\\x81\\xed\\x99\\x98\\xeb\\xb9\\x84\\xec\\x9c\\xa8(DTI)\\xec\\x9d\\x84 \\xec\\xa0\\x81\\xec\\x9a\\xa9\\xed\\x95\\x98\\xeb\\x8a\\x94 \\xeb\\xb0\\xa9\\xec\\x95\\x88\\xec\\x9d\\x84 \\xec\\x9c\\xa0\\xeb\\xa0\\xa5\\xed\\x95\\x98\\xea\\xb2\\x8c \\xea\\xb2\\x80\\xed\\x86\\xa0\\xed\\x95\\x98\\xea\\xb3\\xa0 \\xec\\x9e\\x88\\xeb\\x8b\\xa4. \\xec\\xa7\\x80\\xea\\xb8\\x88\\xec\\x9d\\x80 \\xec\\xa7\\x91\\xea\\xb0\\x92\\xec\\x9d\\x84 \\xea\\xb8\\xb0\\xec\\xa4\\x80\\xec\\x9c\\xbc\\xeb\\xa1\\x9c \\xeb\\x8c\\x80\\xec\\xb6\\x9c\\xed\\x95\\x9c\\xeb\\x8f\\x84\\xeb\\xa5\\xbc \\xeb\\xa7\\xa4\\xea\\xb8\\xb0\\xeb\\x8a\\x94 \\xec\\xa3\\xbc\\xed\\x83\\x9d\\xeb\\x8b\\xb4\\xeb\\xb3\\xb4\\xec\\x9d\\xb8\\xec\\xa0\\x95\\xeb\\xb9\\x84\\xec\\x9c\\xa8(LTV) \\xea\\xb7\\x9c\\xec\\xa0\\x9c\"> \\n  <meta property=\"al:android:url\" content=\"daumapps://web?url=https%3A%2F%2Fnews.v.daum.net/v/nkhSoinQsa\"> \\n  <meta property=\"al:android:package\" content=\"net.daum.android.daum\"> \\n  <meta property=\"al:android:app_name\" content=\"\\xeb\\x8b\\xa4\\xec\\x9d\\x8c\\xec\\x95\\xb1\"> \\n  <meta property=\"al:ios:url\" content=\"daumapps://web?url=https%3A%2F%2Fnews.v.daum.net/v/nkhSoinQsa\"> \\n  <meta property=\"al:ios:app_store_id\" content=\"365494029\"> \\n  <meta property=\"al:ios:app_name\" content=\"\\xeb\\x8b\\xa4\\xec\\x9d\\x8c\\xec\\x95\\xb1\"> \\n  <meta property=\"twitter:card\" content=\"summary_large_image\"> \\n  <meta property=\"twitter:app:url:googleplay\" content=\"daumapps://web?url=https%3A%2F%2Fnews.v.daum.net/v/nkhSoinQsa\"> \\n  <meta property=\"twitter:app:id:googleplay\" content=\"net.daum.android.daum\"> \\n  <meta property=\"twitter:app:name:googleplay\" content=\"\\xeb\\x8b\\xa4\\xec\\x9d\\x8c\\xec\\x95\\xb1\"> \\n  <meta property=\"twitter:app:country\" content=\"KR\"> \\n  <meta property=\"twitter:app:url:iphone\" content=\"daumapps://web?url=https%3A%2F%2Fnews.v.daum.net/v/nkhSoinQsa\"> \\n  <meta property=\"twitter:app:id:iphone\" content=\"365494029\"> \\n  <meta property=\"twitter:app:name:iphone\" content=\"\\xeb\\x8b\\xa4\\xec\\x9d\\x8c\\xec\\x95\\xb1\"> \\n  <meta property=\"twitter:app:url:ipad\" content=\"daumapps://web?url=https%3A%2F%2Fnews.v.daum.net/v/nkhSoinQsa\"> \\n  <meta property=\"twitter:app:id:ipad\" content=\"365494029\"> \\n  <meta property=\"twitter:app:name:ipad\" content=\"\\xeb\\x8b\\xa4\\xec\\x9d\\x8c\\xec\\x95\\xb1\"> \\n  <meta name=\"referrer\" content=\"always\"> \\n  <title>\\xec\\x9e\\x94\\xea\\xb8\\x88\\xeb\\x8c\\x80\\xec\\xb6\\x9c\\xec\\x97\\x90\\xeb\\x8f\\x84 DTI \\xea\\xb7\\x9c\\xec\\xa0\\x9c \\xec\\xa0\\x81\\xec\\x9a\\xa9 \\xea\\xb2\\x80\\xed\\x86\\xa0</title> \\n  <link rel=\"shortcut icon\" href=\"//m2.daumcdn.net/img-media/2010ci/Daum_favicon.ico\"> \\n </head> \\n <body class=\"\">      \\n  <div id=\"kakaoIndex\"> <a href=\"#kakaoBody\">\\xeb\\xb3\\xb8\\xeb\\xac\\xb8 \\xeb\\xb0\\x94\\xeb\\xa1\\x9c\\xea\\xb0\\x80\\xea\\xb8\\xb0</a> <a href=\"#kakaoGnb\">\\xeb\\xa9\\x94\\xeb\\x89\\xb4 \\xeb\\xb0\\x94\\xeb\\xa1\\x9c\\xea\\xb0\\x80\\xea\\xb8\\xb0</a> \\n  </div> \\n  <div id=\"kakaoWrap\" class=\"newsview_media\"> \\n   <div id=\"wrapMinidaum\"></div> \\n   <div id=\"kakaoHead\" role=\"banner\" data-cloud-area=\"header\"> \\n    <div class=\"head_media\" data-cloud=\"pc_header_gnb\"> \\n     <h1> <a href=\"https://www.daum.net\" class=\"link_daum\"> <img src=\"//t1.daumcdn.net/media/news/news2016/retina/logo_daum.jpg\" width=\"45\" height=\"19\" class=\"thumb_g\" alt=\"Daum\"> </a> <a href=\"//news.daum.net\" id=\"kakaoServiceLogo\"><span class=\"ir_wa\">\\xeb\\x89\\xb4\\xec\\x8a\\xa4</span></a> </h1> <strong class=\"screen_out\">\\xea\\xb4\\x80\\xeb\\xa0\\xa8\\xec\\x84\\x9c\\xeb\\xb9\\x84\\xec\\x8a\\xa4</strong> \\n     <ul id=\"kakaoRelServices\"> \\n      <li><a href=\"https://entertain.daum.net/\" class=\"link_services link_services1\"><span class=\"ir_wa\">\\xec\\x97\\xb0\\xec\\x98\\x88</span></a></li> \\n      <li><a href=\"https://sports.daum.net/\" class=\"link_services link_services2\"><span class=\"ir_wa\">\\xec\\x8a\\xa4\\xed\\x8f\\xac\\xec\\xb8\\xa0</span></a></li> \\n     </ul> \\n     <h2 class=\"screen_out\">\\xea\\xb2\\x80\\xec\\x83\\x89</h2> \\n     <div class=\"search_news\" id=\"search_news\"> \\n      <form id=\"kakaoSearch\" name=\"kakaoSearch\" action=\"https://search.daum.net/search\" method=\"get\"> \\n       <fieldset class=\"fld_inside\"> <legend class=\"screen_out\">\\xea\\xb2\\x80\\xec\\x83\\x89\\xec\\x96\\xb4 \\xec\\x9e\\x85\\xeb\\xa0\\xa5\\xed\\x8f\\xbc</legend> \\n        <div class=\"box_searchbar\"> <label for=\"qVal\" class=\"lab_search\">\\xed\\x86\\xb5\\xed\\x95\\xa9\\xea\\xb2\\x80\\xec\\x83\\x89</label> \\n         <input type=\"hidden\" name=\"nil_profile\" value=\"search\"> \\n         <input type=\"hidden\" name=\"nil_src\" value=\"media\"> \\n         <input type=\"hidden\" name=\"DA\" value=\"23A\"> \\n         <input type=\"hidden\" name=\"rtmaxcoll\" value=\"NNS\"> \\n         <input type=\"text\" class=\"tf_keyword\" id=\"qVal\" name=\"q\" value=\"\" title=\"\\xea\\xb2\\x80\\xec\\x83\\x89\\xec\\x96\\xb4 \\xec\\x9e\\x85\\xeb\\xa0\\xa5\" autocomplete=\"off\" spellcheck=\"false\"> <button id=\"kakaoBtnSearch\" class=\"btn_search\" type=\"submit\"><span class=\"ir_wa\">\\xea\\xb2\\x80\\xec\\x83\\x89</span></button> \\n        </div> \\n       </fieldset> \\n       <div id=\"wrap_suggestBox\" class=\"wrap_suggestBox\"> \\n        <div id=\"suggestBox\" class=\"suggestBox box_sub\"> \\n         <div class=\"baseBox bg\" style=\"display: none\"></div> \\n        </div> \\n       </div> \\n      </form> \\n     </div> \\n    </div> \\n    <div id=\"kakaoGnb\" role=\"navigation\" data-cloud=\"pc_header_gnb\"> \\n     <div class=\"inner_gnb\"> \\n      <h2 class=\"screen_out\">\\xeb\\x89\\xb4\\xec\\x8a\\xa4 \\xeb\\xa9\\x94\\xec\\x9d\\xb8\\xeb\\xa9\\x94\\xeb\\x89\\xb4</h2> \\n      <ul class=\"gnb_comm\" data-category=\"economic\"> \\n       <li class=\"home\"><a href=\"//news.daum.net/\" class=\"link_gnb link_gnb1\"><span class=\"ir_wa\">\\xed\\x99\\x88</span><span class=\"bar_gnb\"><span class=\"inner_bar\"></span></span></a></li> \\n       <li class=\"society\"><a href=\"//news.daum.net/society/\" class=\"link_gnb link_gnb2\"><span class=\"ir_wa\">\\xec\\x82\\xac\\xed\\x9a\\x8c</span><span class=\"bar_gnb\"><span class=\"inner_bar\"></span></span></a></li> \\n       <li class=\"politics\"><a href=\"//news.daum.net/politics/\" class=\"link_gnb link_gnb3\"><span class=\"ir_wa\">\\xec\\xa0\\x95\\xec\\xb9\\x98</span><span class=\"bar_gnb\"><span class=\"inner_bar\"></span></span></a></li> \\n       <li class=\"economic\"><a href=\"//news.daum.net/economic/\" class=\"link_gnb link_gnb4\"><span class=\"ir_wa\">\\xea\\xb2\\xbd\\xec\\xa0\\x9c</span><span class=\"bar_gnb\"><span class=\"inner_bar\"></span></span></a></li> \\n       <li class=\"foreign\"><a href=\"//news.daum.net/foreign/\" class=\"link_gnb link_gnb5\"><span class=\"ir_wa\">\\xea\\xb5\\xad\\xec\\xa0\\x9c</span><span class=\"bar_gnb\"><span class=\"inner_bar\"></span></span></a></li> \\n       <li class=\"culture\"><a href=\"//news.daum.net/culture/\" class=\"link_gnb link_gnb6\"><span class=\"ir_wa\">\\xeb\\xac\\xb8\\xed\\x99\\x94</span><span class=\"bar_gnb\"><span class=\"inner_bar\"></span></span></a></li> \\n       <li class=\"digital\"><a href=\"//news.daum.net/digital/\" class=\"link_gnb link_gnb7\"><span class=\"ir_wa\">IT</span><span class=\"bar_gnb\"><span class=\"inner_bar\"></span></span></a></li> \\n       <li class=\"popular\"><a href=\"//news.daum.net/ranking/popular\" class=\"link_gnb link_gnb8\"><span class=\"ir_wa\">\\xeb\\x9e\\xad\\xed\\x82\\xb9</span><span class=\"bar_gnb\"><span class=\"inner_bar\"></span></span></a></li> \\n       <li class=\"series editorial\"><a href=\"//news.daum.net/series\" class=\"link_gnb link_gnb9\"><span class=\"ir_wa\">\\xec\\x97\\xb0\\xec\\x9e\\xac</span><span class=\"bar_gnb\"><span class=\"inner_bar\"></span></span></a></li> \\n       <li class=\"photo\"><a href=\"//news.daum.net/photo\" class=\"link_gnb link_gnb10\"><span class=\"ir_wa\">\\xed\\x8f\\xac\\xed\\x86\\xa0</span><span class=\"bar_gnb\"><span class=\"inner_bar\"></span></span></a></li> \\n       <li class=\"tv\"><a href=\"//news.daum.net/tv\" class=\"link_gnb link_gnb11\"><span class=\"ir_wa\">TV</span><span class=\"bar_gnb\"><span class=\"inner_bar\"></span></span></a></li> \\n      </ul> \\n      <div class=\"gnb_etc\"> \\n       <ul class=\"gnb_with\"> \\n        <li><a href=\"//gallery.v.daum.net/p/home\" class=\"link_gnb link_gnb2\"><span class=\"ir_wa\">\\xea\\xb0\\xa4\\xeb\\x9f\\xac\\xeb\\xa6\\xac</span><span class=\"bar_gnb\"><span class=\"inner_bar\"></span></span></a></li> \\n       </ul>  \\n       <div class=\"gnb_weather\"> <strong class=\"screen_out\">\\xeb\\x82\\xa0\\xec\\x94\\xa8 \\xec\\xa0\\x95\\xeb\\xb3\\xb4</strong> \\n        <div id=\"gnb_weather\"> \\n         <ul class=\"list_weather\" data-nightyn=\"N\"></ul> \\n        </div> \\n       </div> \\n      </div> \\n     </div> \\n    </div> \\n    <div id=\"barProgress\" class=\"bar_progress\" data-cloud=\"pc_header_gnb\"></div>          \\n   </div> \\n   <div id=\"dummyKakaoGnb\" style=\"height:137px; display:none;\"></div> \\n   <hr class=\"hide\"> \\n   <div id=\"kakaoContent\" class=\"cont_view\" role=\"main\"> \\n    <h2 id=\"kakaoBody\" class=\"screen_out\">\\xea\\xb2\\xbd\\xec\\xa0\\x9c</h2> \\n    <div id=\"cSub\" data-cloud-area=\"title\"> \\n     <div class=\"head_view\" data-cloud=\"pc_article_title_and_util\"> <em class=\"info_cp\"> <a href=\"http://www.hankookilbo.com\" class=\"link_cp\" target=\"_blank\"> <img src=\"https://t1.daumcdn.net/media/news/news2016/cp/cp_hankooki.gif\" class=\"thumb_g\" alt=\"\\xed\\x95\\x9c\\xea\\xb5\\xad\\xec\\x9d\\xbc\\xeb\\xb3\\xb4\"> </a> </em> \\n      <h3 class=\"tit_view\" data-translation=\"true\">\\xec\\x9e\\x94\\xea\\xb8\\x88\\xeb\\x8c\\x80\\xec\\xb6\\x9c\\xec\\x97\\x90\\xeb\\x8f\\x84 DTI \\xea\\xb7\\x9c\\xec\\xa0\\x9c \\xec\\xa0\\x81\\xec\\x9a\\xa9 \\xea\\xb2\\x80\\xed\\x86\\xa0</h3> <span class=\"info_view\"> <span class=\"txt_info\">\\xea\\xb9\\x80\\xeb\\x8f\\x99\\xec\\x9a\\xb1</span> <span class=\"txt_info\">\\xec\\x9e\\x85\\xeb\\xa0\\xa5 <span class=\"num_date\">2017. 06. 15. 20:34</span></span> <span class=\"txt_info\">\\xec\\x88\\x98\\xec\\xa0\\x95 <span class=\"num_date\">2017. 06. 15. 21:31</span></span> <button id=\"alexCounter\" class=\"emph_g2 link_cmt\">\\xeb\\x8c\\x93\\xea\\xb8\\x80 <span class=\"alex-count-area\">0</span>\\xea\\xb0\\x9c</button> </span> \\n      <div class=\"util_view\"> \\n       <h4 class=\"screen_out\">\\xea\\xb8\\xb0\\xec\\x82\\xac \\xeb\\x8f\\x84\\xea\\xb5\\xac \\xeb\\xaa\\xa8\\xec\\x9d\\x8c</h4>  \\n       <div class=\"btn_util util_summary\"> <button type=\"button\" class=\"btn_summary\" aria-expanded=\"false\"><span class=\"ico_newsview\">\\xec\\x9e\\x90\\xeb\\x8f\\x99\\xec\\x9a\\x94\\xec\\x95\\xbd</span></button> \\n        <div class=\"wrap_setlayer\"> \\n         <div class=\"layer_util layer_summary\"> \\n          <p>\\xea\\xb8\\x88\\xec\\x9c\\xb5\\xeb\\x8b\\xb9\\xea\\xb5\\xad\\xec\\x9d\\xb4 \\xea\\xb8\\x89\\xec\\xa6\\x9d\\xed\\x95\\x98\\xeb\\x8a\\x94 \\xea\\xb0\\x80\\xea\\xb3\\x84\\xeb\\xb6\\x80\\xec\\xb1\\x84 \\xec\\xa6\\x9d\\xea\\xb0\\x80\\xec\\x84\\xb8\\xeb\\xa5\\xbc \\xeb\\xa7\\x89\\xea\\xb8\\xb0 \\xec\\x9c\\x84\\xed\\x95\\xb4 \\xec\\x95\\x84\\xed\\x8c\\x8c\\xed\\x8a\\xb8 \\xec\\x9e\\x94\\xea\\xb8\\x88\\xeb\\x8c\\x80\\xec\\xb6\\x9c\\xec\\x97\\x90\\xeb\\x8f\\x84 \\xec\\x86\\x8c\\xeb\\x93\\x9d\\xec\\x9d\\x84 \\xeb\\x94\\xb0\\xec\\xa0\\xb8 \\xeb\\x8c\\x80\\xec\\xb6\\x9c\\xed\\x95\\x9c\\xeb\\x8f\\x84\\xeb\\xa5\\xbc \\xec\\xa0\\x95\\xed\\x95\\x98\\xeb\\x8a\\x94 \\xec\\xb4\\x9d\\xeb\\xb6\\x80\\xec\\xb1\\x84\\xec\\x83\\x81\\xed\\x99\\x98\\xeb\\xb9\\x84\\xec\\x9c\\xa8(DTI)\\xec\\x9d\\x84 \\xec\\xa0\\x81\\xec\\x9a\\xa9\\xed\\x95\\x98\\xeb\\x8a\\x94 \\xeb\\xb0\\xa9\\xec\\x95\\x88\\xec\\x9d\\x84 \\xec\\x9c\\xa0\\xeb\\xa0\\xa5\\xed\\x95\\x98\\xea\\xb2\\x8c \\xea\\xb2\\x80\\xed\\x86\\xa0\\xed\\x95\\x98\\xea\\xb3\\xa0 \\xec\\x9e\\x88\\xeb\\x8b\\xa4.</p>\\n          <p>\\xec\\xa7\\x80\\xea\\xb8\\x88\\xec\\x9d\\x80 \\xec\\xa7\\x91\\xea\\xb0\\x92\\xec\\x9d\\x84 \\xea\\xb8\\xb0\\xec\\xa4\\x80\\xec\\x9c\\xbc\\xeb\\xa1\\x9c \\xeb\\x8c\\x80\\xec\\xb6\\x9c\\xed\\x95\\x9c\\xeb\\x8f\\x84\\xeb\\xa5\\xbc \\xeb\\xa7\\xa4\\xea\\xb8\\xb0\\xeb\\x8a\\x94 \\xec\\xa3\\xbc\\xed\\x83\\x9d\\xeb\\x8b\\xb4\\xeb\\xb3\\xb4\\xec\\x9d\\xb8\\xec\\xa0\\x95\\xeb\\xb9\\x84\\xec\\x9c\\xa8(LTV) \\xea\\xb7\\x9c\\xec\\xa0\\x9c\\xeb\\xa7\\x8c \\xec\\xa0\\x81\\xec\\x9a\\xa9\\xeb\\x8f\\xbc \\xec\\x86\\x8c\\xeb\\x93\\x9d\\xec\\x9d\\xb4 \\xec\\x97\\x86\\xec\\x96\\xb4\\xeb\\x8f\\x84 \\xec\\xa7\\x91\\xea\\xb0\\x92\\xec\\x9d\\x98 70%\\xeb\\xa5\\xbc \\xeb\\xb9\\x8c\\xeb\\xa0\\xa4 \\xec\\x9e\\x94\\xea\\xb8\\x88\\xec\\x9d\\x84 \\xec\\xb9\\x98\\xeb\\xa5\\xb4\\xeb\\x8a\\x94 \\xea\\xb2\\x8c \\xea\\xb0\\x80\\xeb\\x8a\\xa5\\xed\\x95\\x98\\xeb\\x8b\\xa4.</p>\\n          <p>\\xec\\x95\\x9e\\xec\\x9c\\xbc\\xeb\\xa1\\x9c \\xec\\x9e\\x94\\xea\\xb8\\x88\\xeb\\x8c\\x80\\xec\\xb6\\x9c\\xec\\x97\\x90 DTI\\xea\\xb0\\x80 \\xec\\xa0\\x81\\xec\\x9a\\xa9\\xeb\\x90\\x98\\xeb\\xa9\\xb4 \\xec\\x86\\x8c\\xeb\\x93\\x9d\\xec\\x9d\\xb4 \\xec\\x97\\x86\\xeb\\x8a\\x94 \\xec\\x82\\xac\\xeb\\x9e\\x8c\\xec\\x9d\\x80 \\xec\\xa7\\x91\\xea\\xb0\\x92\\xec\\x9d\\x98 70% \\xeb\\x8c\\x80\\xec\\xb6\\x9c \\xeb\\xb0\\x9b\\xeb\\x8a\\x94 \\xea\\xb2\\x8c \\xec\\x96\\xb4\\xeb\\xa0\\xa4\\xec\\x9b\\x8c\\xec\\xa7\\x84\\xeb\\x8b\\xa4.</p> <span class=\"info_summary\"><span class=\"ico_newsview\"></span>\\xea\\xb8\\xb0\\xec\\x82\\xac \\xec\\xa0\\x9c\\xeb\\xaa\\xa9\\xea\\xb3\\xbc \\xec\\xa3\\xbc\\xec\\x9a\\x94 \\xeb\\xac\\xb8\\xec\\x9e\\xa5\\xec\\x9d\\x84 \\xea\\xb8\\xb0\\xeb\\xb0\\x98\\xec\\x9c\\xbc\\xeb\\xa1\\x9c \\xec\\x9e\\x90\\xeb\\x8f\\x99\\xec\\x9a\\x94\\xec\\x95\\xbd\\xed\\x95\\x9c \\xea\\xb2\\xb0\\xea\\xb3\\xbc\\xec\\x9e\\x85\\xeb\\x8b\\x88\\xeb\\x8b\\xa4. \\xec\\xa0\\x84\\xec\\xb2\\xb4 \\xeb\\xa7\\xa5\\xeb\\x9d\\xbd\\xec\\x9d\\x84 \\xec\\x9d\\xb4\\xed\\x95\\xb4\\xed\\x95\\x98\\xea\\xb8\\xb0 \\xec\\x9c\\x84\\xed\\x95\\xb4\\xec\\x84\\x9c\\xeb\\x8a\\x94 \\xeb\\xb3\\xb8\\xeb\\xac\\xb8 \\xeb\\xb3\\xb4\\xea\\xb8\\xb0\\xeb\\xa5\\xbc \\xea\\xb6\\x8c\\xec\\x9e\\xa5\\xed\\x95\\xa9\\xeb\\x8b\\x88\\xeb\\x8b\\xa4.</span> \\n         </div> \\n        </div> \\n       </div>  \\n       <div class=\"btn_util tts_btn\"> <button type=\"button\" class=\"btn_set btn_tts\" aria-expanded=\"false\"> <span class=\"ico_newsview ico_speak\">\\xec\\x9d\\x8c\\xec\\x84\\xb1 \\xea\\xb8\\xb0\\xec\\x82\\xac \\xeb\\x93\\xa3\\xea\\xb8\\xb0</span> </button> \\n        <div class=\"wrap_setlayer\"> \\n         <div class=\"layer_util layer_set layer_tts\"> <strong class=\"screen_out\">\\xec\\x9d\\x8c\\xec\\x84\\xb1 \\xea\\xb8\\xb0\\xec\\x82\\xac \\xec\\x98\\xb5\\xec\\x85\\x98 \\xec\\xa1\\xb0\\xec\\xa0\\x88 \\xeb\\xa0\\x88\\xec\\x9d\\xb4\\xec\\x96\\xb4</strong> \\n          <ul class=\"list_set list_tts\"> \\n           <li> <input type=\"radio\" id=\"ttsGenderMale\" name=\"ttsGender\" class=\"screen_out\" value=\"Male\"> <label class=\"lab_set\" for=\"ttsGenderMale\"><span class=\"ico_newsview\"></span>\\xeb\\x82\\xa8\\xec\\x84\\xb1</label> </li> \\n           <li> <input type=\"radio\" id=\"ttsGenderFemale\" name=\"ttsGender\" class=\"screen_out\" value=\"Female\"> <label class=\"lab_set\" for=\"ttsGenderFemale\"><span class=\"ico_newsview\"></span>\\xec\\x97\\xac\\xec\\x84\\xb1</label> </li> \\n          </ul> \\n          <ul class=\"list_set list_tts list_ttsspeed\"> \\n           <li> <input type=\"radio\" id=\"ttsSpeedSlow\" name=\"ttsSpeed\" class=\"screen_out\" value=\"slow\"> <label class=\"lab_set\" for=\"ttsSpeedSlow\"><span class=\"ico_newsview\"></span>\\xeb\\x8a\\x90\\xeb\\xa6\\xbc</label> </li> \\n           <li> <input type=\"radio\" id=\"ttsSpeedNormal\" name=\"ttsSpeed\" class=\"screen_out\" value=\"normal\"> <label class=\"lab_set\" for=\"ttsSpeedNormal\"><span class=\"ico_newsview\"></span>\\xeb\\xb3\\xb4\\xed\\x86\\xb5</label> </li> \\n           <li> <input type=\"radio\" id=\"ttsSpeedFast\" name=\"ttsSpeed\" class=\"screen_out\" value=\"fast\"> <label class=\"lab_set\" for=\"ttsSpeedFast\"><span class=\"ico_newsview\"></span>\\xeb\\xb9\\xa0\\xeb\\xa6\\x84</label> </li> \\n          </ul> \\n         </div> \\n        </div> \\n        <audio style=\"display:none\" preload=\"none\" id=\"ttsPlayer\"></audio> \\n       </div>  \\n       <div class=\"btn_util translate_btn\"> <button type=\"button\" class=\"btn_set btn_translate #util #translate #set\" aria-expanded=\"false\"><span class=\"ico_newsview\">\\xeb\\xb2\\x88\\xec\\x97\\xad \\xec\\x84\\xa4\\xec\\xa0\\x95</span></button> \\n        <div class=\"wrap_translatelayer\"> \\n         <div class=\"layer_util layer_translate\"> <strong class=\"tit_translate\">\\xeb\\xb2\\x88\\xec\\x97\\xad<span class=\"ico_newsview\">beta</span> </strong> \\n          <p class=\"desc_translate txt_newsview\">Translated by <a href=\"https://kakao.ai/\" target=\"_blank\" class=\"link_kakaoi #util #translate #kakaoi_link\">kakao i</a></p> <strong class=\"screen_out\">\\xeb\\xb2\\x88\\xec\\x97\\xad\\xed\\x95\\xa0 \\xec\\x96\\xb8\\xec\\x96\\xb4 \\xec\\x84\\xa0\\xed\\x83\\x9d</strong> \\n          <ul class=\"list_lang\"> \\n           <li> <button class=\"btn_lang btn_en #util #translate #lang_en\" name=\"en\"> <span class=\"ico_newsview ico_flag\"></span> <strong class=\"ico_newsview tit_lang\">English</strong> </button> </li> \\n           <li> <button type=\"button\" class=\"btn_lang btn_ch #util #translate #lang_cn\" name=\"cn\"> <span class=\"ico_newsview ico_flag\"></span> <strong class=\"ico_newsview tit_lang\">\\xe7\\xae\\x80\\xe4\\xbd\\x93\\xe4\\xb8\\xad\\xe6\\x96\\x87</strong> </button> </li> \\n           <li> <button type=\"button\" class=\"btn_lang btn_jp #util #translate #lang_jp\" name=\"jp\"> <span class=\"ico_newsview ico_flag\"></span> <strong class=\"ico_newsview tit_lang\">\\xe6\\x97\\xa5\\xe6\\x9c\\xac\\xe8\\xaa\\x9e</strong> </button> </li> \\n           <li> <button type=\"button\" class=\"btn_lang btn_ind #util #translate #lang_id\" name=\"id\"> <span class=\"ico_newsview ico_flag\"></span> <strong class=\"ico_newsview tit_lang\">Bahasa Indonesia</strong> </button> </li> \\n           <li> <button type=\"button\" class=\"btn_lang btn_viet #util #translate #lang_vi\" name=\"vi\"> <span class=\"ico_newsview ico_flag\"></span> <strong class=\"ico_newsview tit_lang\">ti\\xe1\\xba\\xbfng Vi\\xe1\\xbb\\x87t</strong> </button> </li> \\n           <li> <button type=\"button\" class=\"btn_lang btn_ko #util #translate #lang_kr\" name=\"kr\"> <span class=\"ico_newsview ico_flag\"></span> <strong class=\"ico_newsview tit_lang\">\\xed\\x95\\x9c\\xea\\xb5\\xad\\xec\\x96\\xb4</strong> </button> </li> \\n          </ul> \\n         </div> \\n        </div> \\n       </div>  \\n       <div class=\"btn_util share_btn\"> <button id=\"rSocialShareButton\" class=\"btn_set btn_share\" aria-expanded=\"false\"> <span class=\"ico_newsview\">\\xea\\xb3\\xb5\\xec\\x9c\\xa0</span> </button> \\n        <div id=\"rSocialShareLayerContainer\"></div>  \\n       </div>  \\n       <div class=\"btn_util font_btn\"> <button type=\"button\" class=\"btn_set btn_font\" aria-expanded=\"false\"> <span class=\"ico_newsview ico_font\">\\xea\\xb8\\x80\\xec\\x94\\xa8\\xed\\x81\\xac\\xea\\xb8\\xb0 \\xec\\xa1\\xb0\\xec\\xa0\\x88\\xed\\x95\\x98\\xea\\xb8\\xb0</span> </button> \\n        <div class=\"wrap_setlayer\"> \\n         <div class=\"layer_util layer_set layer_font\"> <strong class=\"screen_out\">\\xea\\xb8\\x80\\xec\\x9e\\x90 \\xed\\x81\\xac\\xea\\xb8\\xb0 \\xec\\xa1\\xb0\\xec\\xa0\\x88 \\xeb\\xa0\\x88\\xec\\x9d\\xb4\\xec\\x96\\xb4</strong> \\n          <ul class=\"list_set list_font\"> \\n           <li> <input type=\"radio\" id=\"inpFont17\" name=\"inpFont\" class=\"screen_out\" value=\"17\"> <label class=\"lab_set lab_size0\" for=\"inpFont17\"> <span class=\"ico_newsview\"></span> <span aria-hidden=\"true\">\\xea\\xb0\\x80\\xeb\\x82\\x98\\xeb\\x8b\\xa4\\xeb\\x9d\\xbc\\xeb\\xa7\\x88\\xeb\\xb0\\x94\\xec\\x82\\xac</span> <span class=\"screen_out\">\\xeb\\xa7\\xa4\\xec\\x9a\\xb0 \\xec\\x9e\\x91\\xec\\x9d\\x80 \\xed\\x8f\\xb0\\xed\\x8a\\xb8</span> </label> </li> \\n           <li> <input type=\"radio\" id=\"inpFont18\" name=\"inpFont\" class=\"screen_out\" value=\"18\"> <label class=\"lab_set lab_size1\" for=\"inpFont18\"> <span class=\"ico_newsview\"></span> <span aria-hidden=\"true\">\\xea\\xb0\\x80\\xeb\\x82\\x98\\xeb\\x8b\\xa4\\xeb\\x9d\\xbc\\xeb\\xa7\\x88\\xeb\\xb0\\x94\\xec\\x82\\xac</span> <span class=\"screen_out\">\\xec\\x9e\\x91\\xec\\x9d\\x80 \\xed\\x8f\\xb0\\xed\\x8a\\xb8</span> </label> </li> \\n           <li> <input type=\"radio\" id=\"inpFont19\" name=\"inpFont\" class=\"screen_out\" value=\"19\"> <label class=\"lab_set lab_size2\" for=\"inpFont19\"> <span class=\"ico_newsview\"></span> <span aria-hidden=\"true\">\\xea\\xb0\\x80\\xeb\\x82\\x98\\xeb\\x8b\\xa4\\xeb\\x9d\\xbc\\xeb\\xa7\\x88\\xeb\\xb0\\x94\\xec\\x82\\xac</span> <span class=\"screen_out\">\\xeb\\xb3\\xb4\\xed\\x86\\xb5 \\xed\\x8f\\xb0\\xed\\x8a\\xb8</span> </label> </li> \\n           <li> <input type=\"radio\" id=\"inpFont20\" name=\"inpFont\" class=\"screen_out\" value=\"20\"> <label class=\"lab_set lab_size3\" for=\"inpFont20\"> <span class=\"ico_newsview\"></span> <span aria-hidden=\"true\">\\xea\\xb0\\x80\\xeb\\x82\\x98\\xeb\\x8b\\xa4\\xeb\\x9d\\xbc\\xeb\\xa7\\x88\\xeb\\xb0\\x94\\xec\\x82\\xac</span> <span class=\"screen_out\">\\xed\\x81\\xb0 \\xed\\x8f\\xb0\\xed\\x8a\\xb8</span> </label> </li> \\n           <li> <input type=\"radio\" id=\"inpFont21\" name=\"inpFont\" class=\"screen_out\" value=\"21\"> <label class=\"lab_set lab_size4\" for=\"inpFont21\"> <span class=\"ico_newsview\"></span> <span aria-hidden=\"true\">\\xea\\xb0\\x80\\xeb\\x82\\x98\\xeb\\x8b\\xa4\\xeb\\x9d\\xbc\\xeb\\xa7\\x88\\xeb\\xb0\\x94\\xec\\x82\\xac</span> <span class=\"screen_out\">\\xeb\\xa7\\xa4\\xec\\x9a\\xb0 \\xed\\x81\\xb0 \\xed\\x8f\\xb0\\xed\\x8a\\xb8</span> </label> </li> \\n          </ul> \\n         </div> \\n        </div> \\n       </div>  \\n       <div class=\"btn_util\"> <button type=\"button\" class=\"btn_print\"><span class=\"ico_newsview\">\\xec\\x9d\\xb8\\xec\\x87\\x84\\xed\\x95\\x98\\xea\\xb8\\xb0 \\xec\\x83\\x88\\xec\\xb0\\xbd\\xec\\x97\\xb4\\xeb\\xa6\\xbc</span></button> \\n       </div> \\n      </div> \\n     </div>               \\n    </div> \\n    <div id=\"cMain\"> \\n     <div id=\"mArticle\"> \\n      <div data-cloud-area=\"article\">   \\n       <div id=\"translateNotice\" class=\"status_view\" style=\"display:none;\" data-cloud=\"pc_article_body\"> <span class=\"notice_lang notice_lang_en\" style=\"display:none;\">The copyright belongs to the original writer of the content, and there may be errors in machine translation results.</span> <span class=\"notice_lang notice_lang_cn\" style=\"display:none;\">\\xe7\\x89\\x88\\xe6\\x9d\\x83\\xe5\\xbd\\x92\\xe5\\x86\\x85\\xe5\\xae\\xb9\\xe5\\x8e\\x9f\\xe4\\xbd\\x9c\\xe8\\x80\\x85\\xe6\\x89\\x80\\xe6\\x9c\\x89\\xe3\\x80\\x82\\xe6\\x9c\\xba\\xe5\\x99\\xa8\\xe7\\xbf\\xbb\\xe8\\xaf\\x91\\xe7\\xbb\\x93\\xe6\\x9e\\x9c\\xe5\\x8f\\xaf\\xe8\\x83\\xbd\\xe5\\xad\\x98\\xe5\\x9c\\xa8\\xe9\\x94\\x99\\xe8\\xaf\\xaf\\xe3\\x80\\x82</span> <span class=\"notice_lang notice_lang_jp\" style=\"display:none;\">\\xe5\\x8e\\x9f\\xe6\\x96\\x87\\xe3\\x81\\xae\\xe8\\x91\\x97\\xe4\\xbd\\x9c\\xe6\\xa8\\xa9\\xe3\\x81\\xaf\\xe5\\x8e\\x9f\\xe8\\x91\\x97\\xe8\\x91\\x97\\xe4\\xbd\\x9c\\xe8\\x80\\x85\\xe3\\x81\\xab\\xe3\\x81\\x82\\xe3\\x82\\x8a\\xe3\\x80\\x81\\xe6\\xa9\\x9f\\xe6\\xa2\\xb0\\xe7\\xbf\\xbb\\xe8\\xa8\\xb3\\xe3\\x81\\xae\\xe7\\xb5\\x90\\xe6\\x9e\\x9c\\xe3\\x81\\xab\\xe3\\x82\\xa8\\xe3\\x83\\xa9\\xe3\\x83\\xbc\\xe3\\x81\\x8c\\xe5\\x90\\xab\\xe3\\x81\\xbe\\xe3\\x82\\x8c\\xe3\\x82\\x8b\\xe3\\x81\\x93\\xe3\\x81\\xa8\\xe3\\x81\\x8c\\xe3\\x81\\x82\\xe3\\x82\\x8a\\xe3\\x81\\xbe\\xe3\\x81\\x99\\xe3\\x80\\x82</span> <span class=\"notice_lang notice_lang_id\" style=\"display:none;\">Hak cipta milik penulis asli dari konten, dan mungkin ditemukan kesalahan dalam hasil terjemahan mesin.</span> <span class=\"notice_lang notice_lang_vi\" style=\"display:none;\">B\\xe1\\xba\\xa3n quy\\xe1\\xbb\\x81n thu\\xe1\\xbb\\x99c v\\xe1\\xbb\\x81 t\\xc3\\xa1c gi\\xe1\\xba\\xa3 g\\xe1\\xbb\\x91c c\\xe1\\xbb\\xa7a n\\xe1\\xbb\\x99i dung v\\xc3\\xa0 c\\xc3\\xb3 th\\xe1\\xbb\\x83 c\\xc3\\xb3 l\\xe1\\xbb\\x97i trong k\\xe1\\xba\\xbft qu\\xe1\\xba\\xa3 d\\xe1\\xbb\\x8bch b\\xe1\\xba\\xb1ng m\\xc3\\xa1y.</span> \\n       </div>  \\n       <div class=\"news_view\" style=\"font-size:17px\" data-cloud=\"pc_article_body\"> \\n        <div id=\"harmonyContainer\" class=\"article_view\" data-translation-body=\"true\"> \\n         <section dmcf-sid=\"ndxAvoEFLc\">\\n          <p dmcf-pid=\"nzrJ5KB3Cc\" dmcf-ptype=\"general\">\\xeb\\x82\\xb4\\xec\\xa3\\xbc \\xeb\\xb6\\x80\\xeb\\x8f\\x99\\xec\\x82\\xb0 \\xec\\xa2\\x85\\xed\\x95\\xa9\\xeb\\x8c\\x80\\xec\\xb1\\x85 \\xeb\\xb0\\x9c\\xed\\x91\\x9c</p>\\n          <p dmcf-pid=\"ncFbmYUgSc\" dmcf-ptype=\"general\">\\xec\\xa7\\x91\\xea\\xb0\\x92 \\xec\\x83\\x81\\xec\\x8a\\xb9 \\xeb\\x85\\xb8\\xeb\\xa6\\xb0 \\xed\\x88\\xac\\xea\\xb8\\xb0 \\xeb\\xb6\\x84\\xec\\x96\\x91 \\xec\\xb0\\xa8\\xeb\\x8b\\xa8</p>\\n          <p dmcf-pid=\"naDeB8j0HH\" dmcf-ptype=\"general\">LTV\\xe3\\x86\\x8dDTI \\xea\\xb7\\x9c\\xec\\xa0\\x9c \\xeb\\x8b\\xa4\\xec\\x8b\\x9c \\xea\\xb0\\x95\\xed\\x99\\x94\\xed\\x95\\xa0 \\xeb\\x93\\xaf</p>\\n          <p dmcf-pid=\"ngfl6lJwwk\" dmcf-ptype=\"general\">\\xec\\xa0\\x80\\xec\\x86\\x8c\\xeb\\x93\\x9d \\xec\\x8b\\xa4\\xec\\x88\\x98\\xec\\x9a\\x94\\xec\\x9e\\x90 \\xed\\x94\\xbc\\xed\\x95\\xb4 \\xec\\x9a\\xb0\\xeb\\xa0\\xa4\\xeb\\x8f\\x84</p>\\n          <figure class=\"figure_frm origin_fig\" dmcf-pid=\"nYQ8LWIMpD\" dmcf-ptype=\"figure\">\\n           <p class=\"link_figure\"><img class=\"thumb_g_article\" data-org-src=\"http://t1.daumcdn.net/news/201706/15/hankooki/20170615044256378kzbd.jpg\" data-org-width=\"330\" dmcf-mid=\"nkjJSoPdyb\" dmcf-mtype=\"image\" height=\"auto\" src=\"https://img2.daumcdn.net/thumb/R658x0.q70/?fname=http://t1.daumcdn.net/news/201706/15/hankooki/20170615044256378kzbd.jpg\" width=\"658\"></p>\\n          </figure>\\n          <p dmcf-pid=\"n8guDAko3Z\" dmcf-ptype=\"general\">\\xea\\xb8\\x88\\xec\\x9c\\xb5\\xeb\\x8b\\xb9\\xea\\xb5\\xad\\xec\\x9d\\xb4 \\xea\\xb8\\x89\\xec\\xa6\\x9d\\xed\\x95\\x98\\xeb\\x8a\\x94 \\xea\\xb0\\x80\\xea\\xb3\\x84\\xeb\\xb6\\x80\\xec\\xb1\\x84 \\xec\\xa6\\x9d\\xea\\xb0\\x80\\xec\\x84\\xb8\\xeb\\xa5\\xbc \\xeb\\xa7\\x89\\xea\\xb8\\xb0 \\xec\\x9c\\x84\\xed\\x95\\xb4 \\xec\\x95\\x84\\xed\\x8c\\x8c\\xed\\x8a\\xb8 \\xec\\x9e\\x94\\xea\\xb8\\x88\\xeb\\x8c\\x80\\xec\\xb6\\x9c\\xec\\x97\\x90\\xeb\\x8f\\x84 \\xec\\x86\\x8c\\xeb\\x93\\x9d\\xec\\x9d\\x84 \\xeb\\x94\\xb0\\xec\\xa0\\xb8 \\xeb\\x8c\\x80\\xec\\xb6\\x9c\\xed\\x95\\x9c\\xeb\\x8f\\x84\\xeb\\xa5\\xbc \\xec\\xa0\\x95\\xed\\x95\\x98\\xeb\\x8a\\x94 \\xec\\xb4\\x9d\\xeb\\xb6\\x80\\xec\\xb1\\x84\\xec\\x83\\x81\\xed\\x99\\x98\\xeb\\xb9\\x84\\xec\\x9c\\xa8(DTI)\\xec\\x9d\\x84 \\xec\\xa0\\x81\\xec\\x9a\\xa9\\xed\\x95\\x98\\xeb\\x8a\\x94 \\xeb\\xb0\\xa9\\xec\\x95\\x88\\xec\\x9d\\x84 \\xec\\x9c\\xa0\\xeb\\xa0\\xa5\\xed\\x95\\x98\\xea\\xb2\\x8c \\xea\\xb2\\x80\\xed\\x86\\xa0\\xed\\x95\\x98\\xea\\xb3\\xa0 \\xec\\x9e\\x88\\xeb\\x8b\\xa4. \\xec\\xa7\\x80\\xea\\xb8\\x88\\xec\\x9d\\x80 \\xec\\xa7\\x91\\xea\\xb0\\x92\\xec\\x9d\\x84 \\xea\\xb8\\xb0\\xec\\xa4\\x80\\xec\\x9c\\xbc\\xeb\\xa1\\x9c \\xeb\\x8c\\x80\\xec\\xb6\\x9c\\xed\\x95\\x9c\\xeb\\x8f\\x84\\xeb\\xa5\\xbc \\xeb\\xa7\\xa4\\xea\\xb8\\xb0\\xeb\\x8a\\x94 \\xec\\xa3\\xbc\\xed\\x83\\x9d\\xeb\\x8b\\xb4\\xeb\\xb3\\xb4\\xec\\x9d\\xb8\\xec\\xa0\\x95\\xeb\\xb9\\x84\\xec\\x9c\\xa8(LTV) \\xea\\xb7\\x9c\\xec\\xa0\\x9c\\xeb\\xa7\\x8c \\xec\\xa0\\x81\\xec\\x9a\\xa9\\xeb\\x8f\\xbc \\xec\\x86\\x8c\\xeb\\x93\\x9d\\xec\\x9d\\xb4 \\xec\\x97\\x86\\xec\\x96\\xb4\\xeb\\x8f\\x84 \\xec\\xa7\\x91\\xea\\xb0\\x92\\xec\\x9d\\x98 70%\\xeb\\xa5\\xbc \\xeb\\xb9\\x8c\\xeb\\xa0\\xa4 \\xec\\x9e\\x94\\xea\\xb8\\x88\\xec\\x9d\\x84 \\xec\\xb9\\x98\\xeb\\xa5\\xb4\\xeb\\x8a\\x94 \\xea\\xb2\\x8c \\xea\\xb0\\x80\\xeb\\x8a\\xa5\\xed\\x95\\x98\\xeb\\x8b\\xa4. \\xec\\x95\\x9e\\xec\\x9c\\xbc\\xeb\\xa1\\x9c \\xec\\x9e\\x94\\xea\\xb8\\x88\\xeb\\x8c\\x80\\xec\\xb6\\x9c\\xec\\x97\\x90 DTI\\xea\\xb0\\x80 \\xec\\xa0\\x81\\xec\\x9a\\xa9\\xeb\\x90\\x98\\xeb\\xa9\\xb4 \\xec\\x86\\x8c\\xeb\\x93\\x9d \\xec\\x97\\x86\\xeb\\x8a\\x94 \\xec\\x82\\xac\\xeb\\x9e\\x8c\\xec\\x9d\\xb4 \\xec\\x9e\\x85\\xec\\xa3\\xbc \\xeb\\x92\\xa4 \\xec\\xa7\\x91\\xea\\xb0\\x92 \\xec\\x83\\x81\\xec\\x8a\\xb9\\xec\\x9d\\x84 \\xeb\\x85\\xb8\\xeb\\xa6\\xac\\xea\\xb3\\xa0 \\xeb\\xb6\\x84\\xec\\x96\\x91\\xec\\x8b\\x9c\\xec\\x9e\\xa5\\xec\\x97\\x90 \\xeb\\x9b\\xb0\\xec\\x96\\xb4\\xeb\\x93\\x9c\\xeb\\x8a\\x94 \\xea\\xb2\\x8c \\xec\\x82\\xac\\xec\\x8b\\xa4\\xec\\x83\\x81 \\xeb\\xb6\\x88\\xea\\xb0\\x80\\xeb\\x8a\\xa5\\xed\\x95\\xb4\\xec\\xa7\\x84\\xeb\\x8b\\xa4. </p>\\n          <p dmcf-pid=\"nYPaCCRO1q\" dmcf-ptype=\"general\">\\xea\\xb8\\x88\\xec\\x9c\\xb5\\xeb\\x8b\\xb9\\xea\\xb5\\xad \\xea\\xb3\\xa0\\xec\\x9c\\x84\\xea\\xb4\\x80\\xea\\xb3\\x84\\xec\\x9e\\x90\\xeb\\x8a\\x94 15\\xec\\x9d\\xbc \\xe2\\x80\\x9c\\xec\\x9e\\x94\\xea\\xb8\\x88\\xeb\\x8c\\x80\\xec\\xb6\\x9c\\xec\\x97\\x90\\xeb\\x8f\\x84 DTI\\xeb\\xa5\\xbc \\xec\\xa0\\x81\\xec\\x9a\\xa9\\xed\\x95\\x98\\xeb\\x8a\\x94 \\xeb\\xb0\\xa9\\xec\\x95\\x88\\xec\\x9d\\x84 \\xea\\xb2\\x80\\xed\\x86\\xa0 \\xec\\xa4\\x91\\xe2\\x80\\x9d\\xec\\x9d\\xb4\\xeb\\x9d\\xbc\\xeb\\xa9\\xb0 \\xe2\\x80\\x9c\\xeb\\x8b\\xa4\\xeb\\xa7\\x8c \\xec\\x95\\x84\\xec\\xa7\\x81 \\xec\\xb5\\x9c\\xec\\xa2\\x85 \\xea\\xb2\\xb0\\xeb\\xa1\\xa0\\xec\\x9d\\xb4 \\xeb\\x82\\x9c \\xea\\xb1\\xb4 \\xec\\x95\\x84\\xeb\\x8b\\x88\\xeb\\x8b\\xa4\\xe2\\x80\\x9d\\xea\\xb3\\xa0 \\xeb\\xa7\\x90\\xed\\x96\\x88\\xeb\\x8b\\xa4. \\xec\\xa0\\x95\\xeb\\xb6\\x80\\xeb\\x8a\\x94 \\xeb\\x82\\xb4\\xec\\xa3\\xbc \\xec\\x9d\\xb4 \\xea\\xb0\\x99\\xec\\x9d\\x80 \\xeb\\x82\\xb4\\xec\\x9a\\xa9\\xec\\x9d\\x84 \\xed\\x8f\\xac\\xed\\x95\\xa8\\xed\\x95\\x9c \\xeb\\xb6\\x80\\xeb\\x8f\\x99\\xec\\x82\\xb0 \\xec\\xa2\\x85\\xed\\x95\\xa9 \\xeb\\x8c\\x80\\xec\\xb1\\x85\\xec\\x9d\\x84 \\xeb\\xb0\\x9c\\xed\\x91\\x9c\\xed\\x95\\xa0 \\xec\\x98\\x88\\xec\\xa0\\x95\\xec\\x9d\\xb4\\xeb\\x8b\\xa4. </p>\\n          <p dmcf-pid=\"naZLBbSgoZ\" dmcf-ptype=\"general\">\\xec\\xa0\\x95\\xeb\\xb6\\x80\\xea\\xb0\\x80 \\xec\\x9e\\x94\\xea\\xb8\\x88\\xeb\\x8c\\x80\\xec\\xb6\\x9c DTI \\xec\\xa0\\x81\\xec\\x9a\\xa9 \\xec\\xb9\\xb4\\xeb\\x93\\x9c\\xeb\\xa5\\xbc \\xea\\xba\\xbc\\xeb\\x82\\xb4\\xeb\\x8a\\x94 \\xea\\xb1\\xb4, \\xec\\xa7\\x91\\xeb\\x8b\\xa8\\xeb\\x8c\\x80\\xec\\xb6\\x9c\\xec\\x9d\\x84 \\xec\\x9e\\xa1\\xec\\xa7\\x80 \\xec\\x95\\x8a\\xea\\xb3\\xa0\\xec\\x84\\xa0 \\xea\\xb3\\xbc\\xec\\x97\\xb4\\xeb\\x90\\x9c \\xec\\xa3\\xbc\\xed\\x83\\x9d\\xec\\x8b\\x9c\\xec\\x9e\\xa5\\xec\\x9d\\x84 \\xec\\xa7\\x84\\xec\\xa0\\x95\\xec\\x8b\\x9c\\xed\\x82\\xa4\\xea\\xb8\\xb0 \\xec\\x96\\xb4\\xeb\\xa0\\xb5\\xeb\\x8b\\xa4\\xeb\\x8a\\x94 \\xed\\x8c\\x90\\xeb\\x8b\\xa8\\xec\\x97\\x90\\xec\\x84\\x9c\\xeb\\x8b\\xa4. \\xec\\x8b\\xa4\\xec\\xa0\\x9c \\xec\\xa0\\x95\\xeb\\xb6\\x80\\xeb\\x8a\\x94 \\xec\\xa7\\x80\\xeb\\x82\\x9c\\xed\\x95\\xb4 \\xec\\x9e\\x94\\xea\\xb8\\x88\\xeb\\x8c\\x80\\xec\\xb6\\x9c\\xeb\\x8f\\x84 \\xeb\\x8c\\x80\\xec\\xb6\\x9c \\xec\\xb4\\x88\\xea\\xb8\\xb0\\xeb\\xb6\\x80\\xed\\x84\\xb0 \\xec\\x9b\\x90\\xeb\\xa6\\xac\\xea\\xb8\\x88\\xec\\x9d\\x84 \\xed\\x95\\xa8\\xea\\xbb\\x98 \\xea\\xb0\\x9a\\xeb\\x8f\\x84\\xeb\\xa1\\x9d \\xed\\x95\\x98\\xeb\\x8a\\x94 \\xec\\x97\\xac\\xec\\x8b\\xa0\\xec\\x8b\\xac\\xec\\x82\\xac \\xea\\xb0\\x80\\xec\\x9d\\xb4\\xeb\\x93\\x9c\\xeb\\x9d\\xbc\\xec\\x9d\\xb8\\xec\\x9d\\x84 \\xeb\\x8f\\x84\\xec\\x9e\\x85\\xed\\x96\\x88\\xec\\xa7\\x80\\xeb\\xa7\\x8c \\xec\\x9d\\xb4\\xeb\\xa0\\x87\\xeb\\x8b\\xa4 \\xed\\x95\\xa0 \\xed\\x9a\\xa8\\xea\\xb3\\xbc\\xeb\\xa5\\xbc \\xea\\xb1\\xb0\\xeb\\x91\\x90\\xec\\xa7\\x80 \\xeb\\xaa\\xbb\\xed\\x96\\x88\\xeb\\x8b\\xa4. \\xec\\x98\\xa4\\xed\\x9e\\x88\\xeb\\xa0\\xa4 \\xec\\xa0\\x95\\xeb\\xb6\\x80 \\xeb\\x8c\\x80\\xec\\xb1\\x85\\xec\\x97\\x90\\xeb\\x8f\\x84 \\xeb\\xb6\\x88\\xea\\xb5\\xac, \\xec\\xa7\\x91\\xeb\\x8b\\xa8\\xeb\\x8c\\x80\\xec\\xb6\\x9c \\xec\\xa6\\x9d\\xea\\xb0\\x80\\xec\\x95\\xa1\\xec\\x9d\\x80 \\xeb\\xa7\\xa4\\xeb\\x8b\\xac \\xeb\\x8a\\x98\\xec\\x96\\xb4\\xeb\\x82\\x98\\xeb\\x8a\\x94 \\xec\\xb6\\x94\\xec\\x84\\xb8\\xec\\x9d\\xb8\\xeb\\x8d\\xb0 \\xec\\xa7\\x80\\xeb\\x82\\x9c\\xeb\\x8b\\xac\\xec\\x97\\x94 2\\xec\\xa1\\xb0\\xec\\x9b\\x90\\xec\\x9c\\xbc\\xeb\\xa1\\x9c \\xec\\x98\\xac \\xeb\\x93\\xa4\\xec\\x96\\xb4 \\xec\\xb5\\x9c\\xea\\xb3\\xa0\\xec\\xb9\\x98\\xeb\\xa5\\xbc \\xea\\xb8\\xb0\\xeb\\xa1\\x9d\\xed\\x96\\x88\\xeb\\x8b\\xa4. </p>\\n          <p dmcf-pid=\"nhAfneUtnA\" dmcf-ptype=\"general\">\\xec\\x95\\x84\\xed\\x8c\\x8c\\xed\\x8a\\xb8 \\xeb\\xb6\\x84\\xec\\x96\\x91 \\xec\\xa7\\x91\\xeb\\x8b\\xa8\\xeb\\x8c\\x80\\xec\\xb6\\x9c\\xec\\x9d\\x80 \\xec\\xa4\\x91\\xeb\\x8f\\x84\\xea\\xb8\\x88\\xea\\xb3\\xbc \\xec\\x9e\\x94\\xea\\xb8\\x88\\xeb\\x8c\\x80\\xec\\xb6\\x9c\\xeb\\xa1\\x9c \\xea\\xb5\\xac\\xeb\\xb6\\x84\\xeb\\x90\\x9c\\xeb\\x8b\\xa4. \\xea\\xb3\\x84\\xec\\x95\\xbd\\xea\\xb8\\x88 10%\\xeb\\xa5\\xbc \\xeb\\x82\\xb4\\xeb\\xa9\\xb4 \\xec\\x9e\\x85\\xec\\xa3\\xbc \\xec\\xa0\\x84\\xea\\xb9\\x8c\\xec\\xa7\\x80 \\xec\\xa7\\x91\\xea\\xb0\\x92\\xec\\x9d\\x98 60%\\xeb\\xa5\\xbc \\xec\\xa4\\x91\\xeb\\x8f\\x84\\xea\\xb8\\x88 \\xeb\\x8c\\x80\\xec\\xb6\\x9c\\xeb\\xa1\\x9c \\xeb\\xb0\\x9b\\xec\\x9d\\x84 \\xec\\x88\\x98 \\xec\\x9e\\x88\\xeb\\x8b\\xa4. \\xec\\xa4\\x91\\xeb\\x8f\\x84\\xea\\xb8\\x88 \\xeb\\x8c\\x80\\xec\\xb6\\x9c\\xec\\x9d\\x80 \\xea\\xb1\\xb4\\xec\\x84\\xa4\\xec\\x82\\xac \\xeb\\xb3\\xb4\\xec\\xa6\\x9d\\xec\\x9c\\xbc\\xeb\\xa1\\x9c \\xec\\x9d\\xb4\\xeb\\xa4\\x84\\xec\\xa0\\xb8 \\xec\\x86\\x8c\\xeb\\x93\\x9d\\xec\\x8b\\xac\\xec\\x82\\xac\\xeb\\xa5\\xbc \\xec\\x95\\x88 \\xea\\xb1\\xb0\\xec\\xb9\\x9c\\xeb\\x8b\\xa4. \\xec\\x9e\\x94\\xea\\xb8\\x88\\xeb\\x8c\\x80\\xec\\xb6\\x9c\\xec\\x9d\\x80 \\xea\\xb1\\xb4\\xec\\x84\\xa4\\xec\\x82\\xac\\xea\\xb0\\x80 \\xec\\x95\\x84\\xeb\\x8b\\x8c \\xec\\xa7\\x91\\xec\\x9d\\x84 \\xeb\\x8b\\xb4\\xeb\\xb3\\xb4\\xeb\\xa1\\x9c \\xec\\x9d\\xb4\\xeb\\xa4\\x84\\xec\\xa7\\x80\\xeb\\x8a\\x94 \\xeb\\x8c\\x80\\xec\\xb6\\x9c\\xec\\x9d\\xb4\\xeb\\x8b\\xa4. LTV \\xea\\xb7\\x9c\\xec\\xa0\\x9c\\xeb\\xa7\\x8c \\xec\\xa0\\x81\\xec\\x9a\\xa9\\xeb\\x8f\\xbc \\xec\\x86\\x8c\\xeb\\x93\\x9d\\xec\\x9d\\xb4 \\xec\\x97\\x86\\xec\\x96\\xb4\\xeb\\x8f\\x84 \\xec\\xa7\\x91\\xea\\xb0\\x92\\xec\\x9d\\x98 70%\\xea\\xb9\\x8c\\xec\\xa7\\x80 \\xeb\\x8c\\x80\\xec\\xb6\\x9c\\xec\\x9d\\xb4 \\xea\\xb0\\x80\\xeb\\x8a\\xa5\\xed\\x95\\x98\\xeb\\x8b\\xa4. \\xeb\\x95\\x8c\\xeb\\xac\\xb8\\xec\\x97\\x90 \\xec\\xa7\\x80\\xea\\xb8\\x88\\xec\\x9d\\x80 \\xec\\x9e\\x94\\xea\\xb8\\x88\\xeb\\x8c\\x80\\xec\\xb6\\x9c\\xeb\\xa1\\x9c \\xec\\xa7\\x91\\xea\\xb0\\x92\\xec\\x9d\\x98 70%\\xeb\\xa5\\xbc \\xeb\\x8c\\x80\\xec\\xb6\\x9c\\xeb\\xb0\\x9b\\xec\\x95\\x84 \\xea\\xb8\\xb0\\xec\\xa1\\xb4 \\xec\\xa4\\x91\\xeb\\x8f\\x84\\xea\\xb8\\x88 \\xeb\\x8c\\x80\\xec\\xb6\\x9c\\xec\\x9d\\x84 \\xea\\xb0\\x9a\\xea\\xb3\\xa0 \\xeb\\x82\\x98\\xeb\\xa8\\xb8\\xec\\xa7\\x80 20%\\xeb\\xa7\\x8c \\xeb\\xb3\\xb8\\xec\\x9d\\xb8 \\xeb\\x8f\\x88\\xec\\x9c\\xbc\\xeb\\xa1\\x9c \\xec\\xb6\\xa9\\xeb\\x8b\\xb9\\xed\\x95\\x98\\xeb\\xa9\\xb4 \\xec\\xa7\\x91\\xec\\x9d\\x84 \\xec\\x82\\xb4 \\xec\\x88\\x98 \\xec\\x9e\\x88\\xeb\\x8b\\xa4.</p>\\n          <p dmcf-pid=\"nCcfu6DK1b\" dmcf-ptype=\"general\">\\xec\\x95\\x9e\\xec\\x9c\\xbc\\xeb\\xa1\\x9c \\xec\\x9e\\x94\\xea\\xb8\\x88\\xeb\\x8c\\x80\\xec\\xb6\\x9c\\xec\\x97\\x90 DTI\\xea\\xb0\\x80 \\xec\\xa0\\x81\\xec\\x9a\\xa9\\xeb\\x90\\x98\\xeb\\xa9\\xb4 \\xec\\x86\\x8c\\xeb\\x93\\x9d\\xec\\x9d\\xb4 \\xec\\x97\\x86\\xeb\\x8a\\x94 \\xec\\x82\\xac\\xeb\\x9e\\x8c\\xec\\x9d\\x80 \\xec\\xa7\\x91\\xea\\xb0\\x92\\xec\\x9d\\x98 70% \\xeb\\x8c\\x80\\xec\\xb6\\x9c \\xeb\\xb0\\x9b\\xeb\\x8a\\x94 \\xea\\xb2\\x8c \\xec\\x96\\xb4\\xeb\\xa0\\xa4\\xec\\x9b\\x8c\\xec\\xa7\\x84\\xeb\\x8b\\xa4. \\xec\\x9e\\x85\\xec\\xa3\\xbc \\xeb\\x92\\xa4 \\xec\\xa7\\x91\\xea\\xb0\\x92 \\xec\\x83\\x81\\xec\\x8a\\xb9\\xec\\x9d\\x84 \\xeb\\x85\\xb8\\xeb\\xa6\\xac\\xeb\\x8a\\x94 \\xed\\x88\\xac\\xea\\xb8\\xb0\\xec\\x88\\x98\\xec\\x9a\\x94\\xeb\\xa5\\xbc \\xed\\x99\\x95\\xec\\x8b\\xa4\\xed\\x9e\\x88 \\xea\\xb1\\xb8\\xeb\\x9f\\xac\\xeb\\x82\\xbc \\xec\\xb4\\x88\\xea\\xb0\\x95\\xeb\\xa0\\xa5 \\xeb\\x8c\\x80\\xec\\xb1\\x85\\xec\\x9d\\xb4 \\xeb\\x90\\xa0 \\xec\\x88\\x98 \\xec\\x9e\\x88\\xeb\\x8b\\xa4. \\xed\\x95\\x98\\xec\\xa7\\x80\\xeb\\xa7\\x8c \\xeb\\xb6\\x80\\xec\\x9e\\x91\\xec\\x9a\\xa9\\xeb\\x8f\\x84 \\xec\\x9a\\xb0\\xeb\\xa0\\xa4\\xeb\\x90\\x9c\\xeb\\x8b\\xa4. \\xec\\x86\\x8c\\xeb\\x93\\x9d\\xec\\x9d\\xb4 \\xeb\\x82\\xae\\xec\\x9d\\x80 \\xec\\x82\\xac\\xed\\x9a\\x8c\\xec\\xb4\\x88\\xeb\\x85\\x84\\xec\\x83\\x9d \\xeb\\x93\\xb1\\xec\\x9d\\x80 \\xec\\xb2\\xad\\xec\\x95\\xbd\\xed\\x86\\xb5\\xec\\x9e\\xa5\\xec\\x9d\\x84 \\xea\\xb0\\x96\\xea\\xb3\\xa0\\xeb\\x8f\\x84 \\xeb\\xb6\\x84\\xec\\x96\\x91\\xec\\x8b\\x9c\\xec\\x9e\\xa5\\xec\\x97\\x90 \\xec\\xa7\\x84\\xec\\x9e\\x85\\xed\\x95\\x98\\xeb\\x8a\\x94 \\xea\\xb2\\x8c \\xec\\x96\\xb4\\xeb\\xa0\\xa4\\xec\\x9b\\x8c\\xec\\xa7\\x80\\xea\\xb8\\xb0 \\xeb\\x95\\x8c\\xeb\\xac\\xb8\\xec\\x9d\\xb4\\xeb\\x8b\\xa4. </p>\\n          <p dmcf-pid=\"nzh7QZekII\" dmcf-ptype=\"general\">\\xec\\x9d\\xb4\\xec\\x97\\x90 \\xeb\\x94\\xb0\\xeb\\x9d\\xbc \\xec\\x9e\\x94\\xea\\xb8\\x88\\xeb\\x8c\\x80\\xec\\xb6\\x9c\\xec\\x97\\x90 DTI\\xeb\\xa5\\xbc \\xec\\xa0\\x81\\xec\\x9a\\xa9\\xed\\x95\\x98\\xeb\\x8a\\x94 \\xea\\xb2\\x83 \\xec\\x97\\xad\\xec\\x8b\\x9c \\xec\\xa7\\x80\\xec\\x97\\xad \\xeb\\x93\\xb1\\xec\\x97\\x90 \\xeb\\x94\\xb0\\xeb\\x9d\\xbc \\xec\\x84\\xa0\\xeb\\xb3\\x84\\xec\\xa0\\x81\\xec\\x9c\\xbc\\xeb\\xa1\\x9c \\xec\\x9d\\xb4\\xeb\\xa4\\x84\\xec\\xa7\\x88 \\xea\\xb0\\x80\\xeb\\x8a\\xa5\\xec\\x84\\xb1\\xec\\x9d\\xb4 \\xeb\\x86\\x92\\xeb\\x8b\\xa4. \\xed\\x98\\x84\\xec\\x9e\\xac \\xeb\\x8b\\xb9\\xea\\xb5\\xad\\xec\\x9d\\x80 \\xec\\x8b\\xa0\\xea\\xb7\\x9c \\xeb\\xb6\\x84\\xec\\x96\\x91 \\xeb\\xac\\xbc\\xeb\\x9f\\x89\\xeb\\xb6\\x80\\xed\\x84\\xb0 \\xea\\xb7\\x9c\\xec\\xa0\\x9c\\xeb\\xa5\\xbc \\xec\\xa0\\x81\\xec\\x9a\\xa9\\xed\\x95\\xa0\\xec\\xa7\\x80 \\xec\\x95\\x84\\xeb\\x8b\\x88\\xeb\\xa9\\xb4 \\xea\\xb8\\xb0\\xec\\xa1\\xb4 \\xeb\\xb6\\x84\\xec\\x96\\x91 \\xeb\\xac\\xbc\\xeb\\x9f\\x89\\xea\\xb9\\x8c\\xec\\xa7\\x80 \\xea\\xb7\\x9c\\xec\\xa0\\x9c \\xeb\\xb2\\x94\\xec\\x9c\\x84\\xeb\\xa5\\xbc \\xed\\x99\\x95\\xeb\\x8c\\x80\\xed\\x95\\xa0\\xec\\xa7\\x80\\xeb\\xa5\\xbc \\xeb\\x86\\x93\\xea\\xb3\\xa0 \\xec\\x8b\\x9c\\xeb\\xae\\xac\\xeb\\xa0\\x88\\xec\\x9d\\xb4\\xec\\x85\\x98\\xec\\x9d\\x84 \\xed\\x95\\x98\\xea\\xb3\\xa0 \\xec\\x9e\\x88\\xeb\\x8b\\xa4. </p>\\n          <p dmcf-pid=\"nihh22vlmu\" dmcf-ptype=\"general\">\\xec\\x95\\x84\\xec\\x9a\\xb8\\xeb\\x9f\\xac \\xeb\\x8b\\xb9\\xea\\xb5\\xad\\xec\\x9d\\x80 \\xec\\xa7\\x80\\xeb\\x82\\x9c 2\\xeb\\x85\\x84\\xea\\xb0\\x84 \\xec\\x99\\x84\\xed\\x99\\x94\\xeb\\x90\\x90\\xeb\\x8d\\x98 LTV\\xec\\x99\\x80 DTI\\xeb\\xa5\\xbc \\xeb\\x8b\\xa4\\xec\\x8b\\x9c \\xea\\xb0\\x95\\xed\\x99\\x94\\xed\\x95\\xa0 \\xea\\xb2\\x83\\xec\\x9c\\xbc\\xeb\\xa1\\x9c \\xeb\\xb3\\xb4\\xec\\x9d\\xb8\\xeb\\x8b\\xa4. \\xed\\x98\\x84\\xec\\x9e\\xac LTV(\\xec\\x9d\\x80\\xed\\x96\\x89 \\xea\\xb8\\xb0\\xec\\xa4\\x80)\\xeb\\x8a\\x94 \\xea\\xb8\\xb0\\xec\\xa1\\xb4 50~60%\\xec\\x97\\x90\\xec\\x84\\x9c 70%, DTI\\xeb\\x8a\\x94 50~60%\\xec\\x97\\x90\\xec\\x84\\x9c 60%\\xeb\\xa1\\x9c \\xec\\x99\\x84\\xed\\x99\\x94\\xeb\\x8f\\xbc \\xec\\x9e\\x88\\xeb\\x8a\\x94 \\xec\\x83\\x81\\xed\\x83\\x9c\\xeb\\x8b\\xa4. \\xeb\\x8b\\xb9\\xea\\xb5\\xad\\xec\\x9d\\x80 \\xec\\x9d\\xbc\\xea\\xb4\\x84\\xec\\xa0\\x81\\xec\\x9d\\xb8 \\xec\\xa1\\xb0\\xec\\x9d\\xb4\\xea\\xb8\\xb0\\xeb\\xb3\\xb4\\xeb\\x8b\\xa4 \\xec\\xa7\\x80\\xec\\x97\\xad\\xe3\\x86\\x8d\\xec\\xa7\\x91\\xea\\xb0\\x92 \\xec\\x88\\x98\\xec\\xa4\\x80\\xeb\\xb3\\x84\\xeb\\xa1\\x9c \\xea\\xb8\\xb0\\xec\\xa4\\x80\\xec\\x9d\\x84 \\xeb\\x8b\\xa4\\xeb\\xa5\\xb4\\xea\\xb2\\x8c \\xec\\xa0\\x81\\xec\\x9a\\xa9\\xed\\x95\\x98\\xeb\\x8a\\x94 \\xeb\\xb0\\xa9\\xec\\x8b\\x9d\\xec\\x9d\\x84 \\xeb\\xaa\\xa8\\xec\\x83\\x89\\xed\\x95\\xa0 \\xea\\xb2\\x83\\xec\\x9c\\xbc\\xeb\\xa1\\x9c \\xeb\\xb3\\xb4\\xec\\x9d\\xb8\\xeb\\x8b\\xa4.</p>\\n          <p dmcf-pid=\"naJ5HNfuMQ\" dmcf-ptype=\"general\">\\xea\\xb9\\x80\\xeb\\x8f\\x99\\xec\\x9a\\xb1 \\xea\\xb8\\xb0\\xec\\x9e\\x90 kdw1280@hankookilbo.com</p>\\n         </section> \\n         <p data-translation=\"true\">\\xe2\\x93\\x92\\xed\\x95\\x9c\\xea\\xb5\\xad\\xec\\x9d\\xbc\\xeb\\xb3\\xb4 www.hankookilbo.com (\\xeb\\xac\\xb4\\xeb\\x8b\\xa8\\xeb\\xb3\\xb5\\xec\\xa0\\x9c \\xeb\\xb0\\x8f \\xec\\xa0\\x84\\xec\\x9e\\xac, \\xec\\x9e\\xac\\xeb\\xb0\\xb0\\xed\\x8f\\xac\\xeb\\xa5\\xbc \\xea\\xb8\\x88\\xec\\xa7\\x80\\xed\\x95\\xa9\\xeb\\x8b\\x88\\xeb\\x8b\\xa4)</p> \\n        </div> \\n       </div>  \\n      </div> \\n      <div class=\"foot_view\" data-cloud-area=\"addition\"> \\n       <div class=\"emotion_wrap\" data-cloud=\"alex_action_emotion\"> \\n        <div class=\"emotion_tit\"> <strong class=\"tit_emotion\">\\xec\\x9d\\xb4 \\xea\\xb8\\xb0\\xec\\x82\\xac\\xec\\x97\\x90 \\xeb\\x8c\\x80\\xed\\x95\\xb4 \\xec\\x96\\xb4\\xeb\\x96\\xbb\\xea\\xb2\\x8c \\xec\\x83\\x9d\\xea\\xb0\\x81\\xed\\x95\\x98\\xec\\x8b\\x9c\\xeb\\x82\\x98\\xec\\x9a\\x94?</strong> \\n        </div> \\n        <div class=\"emotion_list\"> \\n         <div class=\"alex-action\" data-selections=\"RECOMMEND,LIKE,IMPRESS,ANGRY,SAD\" data-client-id=\"26BXAvKny5WF5Z09lr5k77Y8\" data-item-key=\"20170615203441266\" data-action-mode=\"REACTION\" data-on-select-animation-type=\"EXPAND\" data-message-channel=\"alex-action-reactions\"> \\n         </div> \\n        </div> \\n       </div>  \\n       <div class=\"relate_series hide\" data-cloud=\"pc_news_cluster\"> <strong class=\"tit_series\"> <em class=\"tag_series\">\\xec\\x97\\xb0\\xec\\x9e\\xac</em> <span class=\"title_series\"></span> </strong> \\n        <ul class=\"list_series\"></ul> <a href=\"#none\" class=\"link_more\">\\xeb\\x8d\\x94\\xeb\\xb3\\xb4\\xea\\xb8\\xb0</a> \\n       </div>   \\n       <div class=\"cp_view\" data-cloud=\"pc_related_news\"> \\n        <div class=\"cp_tit\"> \\n         <h3 class=\"tit_cp\">\\xed\\x95\\x9c\\xea\\xb5\\xad\\xec\\x9d\\xbc\\xeb\\xb3\\xb4 \\xec\\xa3\\xbc\\xec\\x9a\\x94 \\xeb\\x89\\xb4\\xec\\x8a\\xa4</h3> \\n         <p class=\"info_cp\">\\xed\\x95\\xb4\\xeb\\x8b\\xb9 \\xec\\x96\\xb8\\xeb\\xa1\\xa0\\xec\\x82\\xac\\xeb\\xa1\\x9c \\xec\\x97\\xb0\\xea\\xb2\\xb0\\xeb\\x90\\xa9\\xeb\\x8b\\x88\\xeb\\x8b\\xa4.</p> \\n        </div> \\n        <ul class=\"list_relate\"> \\n         <li><a href=\"http://www.hankookilbo.com/v/801b1cc777e5438f9aa8107a27ec29e1\" title=\"[36.5\\xc2\\xb0] \\xec\\x9a\\x95\\xed\\x95\\x98\\xeb\\xa9\\xb4\\xec\\x84\\x9c \\xeb\\x8b\\xae\\xeb\\x8a\\x94 \\xea\\xb2\\x83\\xeb\\x8f\\x84 \\xec\\xa0\\x81\\xed\\x8f\\x90\\xeb\\x8b\\xa4\" class=\"link_txt\" target=\"_blank\" data-type=\"related\">[36.5\\xc2\\xb0] \\xec\\x9a\\x95\\xed\\x95\\x98\\xeb\\xa9\\xb4\\xec\\x84\\x9c \\xeb\\x8b\\xae\\xeb\\x8a\\x94 \\xea\\xb2\\x83\\xeb\\x8f\\x84 \\xec\\xa0\\x81\\xed\\x8f\\x90\\xeb\\x8b\\xa4</a></li> \\n         <li><a href=\"http://www.hankookilbo.com/v/211ec3b6e3f441e394a0710975399045\" title=\"\\xec\\x8b\\xa4\\xec\\xa0\\x9c\\xec\\x99\\x80 \\xeb\\x84\\x88\\xeb\\xac\\xb4 \\xeb\\x8b\\xa4\\xeb\\xa5\\xb8 \\'\\xec\\x84\\x9c\\xec\\x9a\\xb8\\xeb\\xa1\\x9c 7017\\' \\xed\\x99\\x8d\\xeb\\xb3\\xb4 \\xec\\x9d\\xb4\\xeb\\xaf\\xb8\\xec\\xa7\\x80\" class=\"link_txt\" target=\"_blank\" data-type=\"related\">\\xec\\x8b\\xa4\\xec\\xa0\\x9c\\xec\\x99\\x80 \\xeb\\x84\\x88\\xeb\\xac\\xb4 \\xeb\\x8b\\xa4\\xeb\\xa5\\xb8 \\'\\xec\\x84\\x9c\\xec\\x9a\\xb8\\xeb\\xa1\\x9c 7017\\' \\xed\\x99\\x8d\\xeb\\xb3\\xb4 \\xec\\x9d\\xb4\\xeb\\xaf\\xb8\\xec\\xa7\\x80</a></li> \\n         <li><a href=\"http://www.hankookilbo.com/v/04b5627be58645dfa7960e16a4624b22\" title=\"[\\xec\\x98\\x81\\xec\\x83\\x81] \\xeb\\x8f\\x99\\xea\\xb5\\xad\\xeb\\x8c\\x80.\\xec\\xb6\\xa9\\xeb\\xac\\xb4\\xeb\\xa1\\x9c\\xec\\x97\\x90\\xec\\x84\\x9c \\xec\\x9d\\xb8\\xea\\xb8\\xb0 \\xec\\x9e\\x88\\xeb\\x8a\\x94 \\xeb\\xa7\\x9b\\xec\\xa7\\x91 BEST 5\" class=\"link_txt\" target=\"_blank\" data-type=\"related\">[\\xec\\x98\\x81\\xec\\x83\\x81] \\xeb\\x8f\\x99\\xea\\xb5\\xad\\xeb\\x8c\\x80.\\xec\\xb6\\xa9\\xeb\\xac\\xb4\\xeb\\xa1\\x9c\\xec\\x97\\x90\\xec\\x84\\x9c \\xec\\x9d\\xb8\\xea\\xb8\\xb0 \\xec\\x9e\\x88\\xeb\\x8a\\x94 \\xeb\\xa7\\x9b\\xec\\xa7\\x91 BEST 5</a></li> \\n         <li><a href=\"http://www.hankookilbo.com/v/dae59b9e0adfd851dae59b9e0adfd851\" title=\"\\xea\\xb3\\xb5\\xec\\x8a\\xb9\\xec\\x97\\xb0 &quot;\\xec\\x97\\xac\\xec\\xa7\\x84\\xea\\xb5\\xac \\xec\\x98\\xa4\\xeb\\xb9\\xa0 \\xea\\xb0\\x99\\xec\\x95\\x84..\\xec\\x9e\\x98\\xec\\x83\\x9d\\xea\\xb8\\xb0\\xeb\\xa9\\xb4 \\xec\\x98\\xa4\\xeb\\xb9\\xa0&quot;\" class=\"link_txt\" target=\"_blank\" data-type=\"related\">\\xea\\xb3\\xb5\\xec\\x8a\\xb9\\xec\\x97\\xb0 \"\\xec\\x97\\xac\\xec\\xa7\\x84\\xea\\xb5\\xac \\xec\\x98\\xa4\\xeb\\xb9\\xa0 \\xea\\xb0\\x99\\xec\\x95\\x84..\\xec\\x9e\\x98\\xec\\x83\\x9d\\xea\\xb8\\xb0\\xeb\\xa9\\xb4 \\xec\\x98\\xa4\\xeb\\xb9\\xa0\"</a></li> \\n         <li><a href=\"http://www.hankookilbo.com/v/6162946d032e4b53909f80f78ef9b69c\" title=\"\\xec\\xa7\\x80\\xeb\\x93\\x9c\\xeb\\x9e\\x98\\xea\\xb3\\xa4 &quot;\\xeb\\xad\\x90\\xea\\xb0\\x80 \\xeb\\xac\\xb8\\xec\\xa0\\x9c\\xec\\xa3\\xa0?&quot;.. USB \\xec\\x9d\\x8c\\xeb\\xb0\\x98 \\xeb\\x85\\xbc\\xeb\\x9e\\x80 \\xec\\x9d\\xbc\\xea\\xb2\\xa9\" class=\"link_txt\" target=\"_blank\" data-type=\"related\">\\xec\\xa7\\x80\\xeb\\x93\\x9c\\xeb\\x9e\\x98\\xea\\xb3\\xa4 \"\\xeb\\xad\\x90\\xea\\xb0\\x80 \\xeb\\xac\\xb8\\xec\\xa0\\x9c\\xec\\xa3\\xa0?\".. USB \\xec\\x9d\\x8c\\xeb\\xb0\\x98 \\xeb\\x85\\xbc\\xeb\\x9e\\x80 \\xec\\x9d\\xbc\\xea\\xb2\\xa9</a></li> \\n        </ul> \\n       </div> \\n       <div id=\"alex-scroll-area\" data-cloud=\"pc_article_bottom_ad\"></div> \\n       <ins class=\"kakao_ad_area recomm_ad\" style=\"display:block; width: 658px; text-decoration: none; min-width: 658px;\" data-ad-unit=\"DAN-1jezdswwiit7q\" data-ad-width=\"658\" data-ad-height=\"90\" data-ad-onfail=\"cmRenderFailCallBack\" data-cloud=\"pc_article_bottom_ad\"> </ins>  \\n       <div class=\"cmt_news cmt_view\" data-cloud=\"pc_comment\"> \\n        <div id=\"newsviewNotice\" class=\"news_notice\"></div>  \\n        <div id=\"alex-area\" class=\"alex-area\" data-base-url=\"//comment.daum.net\" data-post-id=\"@20170615203441266\" data-client-id=\"26BXAvKny5WF5Z09lr5k77Y8\" data-kakao-appkey=\"9076ba452fea1a434141d6b6a2c11a3c\" data-initial-limit=\"3\" data-page-limit=\"10\" data-sort=\"P\" data-use-my=\"true\" data-max-length=\"300\" data-use-reply=\"true\" data-use-official=\"true\" data-use-emoticon=\"true\" data-use-social-share=\"true\" data-use-attachment=\"false\" data-is-mobile=\"false\" data-show-mask-alert=\"true\" data-use-live-comment-mode=\"notify\" data-use-fold=\"true\" data-use-skin=\"newsView\" data-use-safebot=\"true\"> \\n        </div>    \\n       </div> \\n      </div> \\n     </div> \\n     <div id=\"mAside\" data-cloud-area=\"aside\"> \\n      <ins style=\"display:block;width:250px;height:250px;\" class=\"kakao_ad_area aside_g aside_ad\" data-ad-unit=\"05d24\" data-ad-type=\"D\" data-ad-width=\"250\" data-ad-height=\"250\" data-cloud=\"pc_aside_top_ad\"> </ins> \\n      <div class=\"aside_g aside_popular hide\" data-cloud=\"pc_popular_news\"> \\n       <h3 class=\"txt_newsview\">\\xeb\\xa7\\x8e\\xec\\x9d\\xb4\\xeb\\xb3\\xb8 \\xeb\\x89\\xb4\\xec\\x8a\\xa4</h3> \\n       <ul class=\"tab_aside tab_media\"> \\n        <li class=\"on\"> <a href=\"#none\" class=\"link_tab link_tab2\">\\xeb\\x89\\xb4\\xec\\x8a\\xa4</a> </li> \\n        <li class=\"\"> <a href=\"#none\" class=\"link_tab link_tab3\">\\xec\\x97\\xb0\\xec\\x98\\x88</a> </li> \\n        <li class=\"\"> <a href=\"#none\" class=\"link_tab link_tab4\">\\xec\\x8a\\xa4\\xed\\x8f\\xac\\xec\\xb8\\xa0</a> </li> \\n       </ul> \\n      </div>  \\n      <div class=\"aside_g aside_phototv hide\" data-cloud=\"pc_news_photo_tv\"> \\n       <h3 class=\"txt_newsview\">\\xed\\x8f\\xac\\xed\\x86\\xa0&amp;TV</h3> \\n       <div class=\"cont_aside\"> \\n        <ul class=\"list_phototv\"></ul> \\n       </div> \\n      </div>  \\n      <ins style=\"display:block;width:250px;height:250px;\" class=\"kakao_ad_area aside_g aside_ad\" data-ad-unit=\"0QH44\" data-ad-type=\"D\" data-ad-width=\"250\" data-ad-height=\"250\" data-cloud=\"pc_aside_bottom_ad\"> </ins> \\n     </div> \\n    </div> \\n    <div id=\"cEtc\"> \\n     <div class=\"realtime_view\"> \\n      <div class=\"inner_realtime\"> \\n       <div data-cloud-area=\"etc\"> \\n        <div class=\"realtime_news\" data-cloud=\"pc_realtime_news\"> \\n         <h3 class=\"txt_newsview\">\\xec\\x9d\\xb4 \\xec\\x8b\\x9c\\xea\\xb0\\x81 \\xec\\xb6\\x94\\xec\\xb2\\x9c\\xeb\\x89\\xb4\\xec\\x8a\\xa4</h3> \\n         <ul class=\"list_realtime\"> \\n          <li class=\"item_main item_realtime_news\"></li> \\n          <li class=\"item_main item_realtime_news\"></li> \\n          <li class=\"item_realtime_news\"></li> \\n          <li class=\"item_realtime_news\"></li> \\n          <li class=\"item_realtime_news\"></li> \\n          <li class=\"item_realtime_news\"></li> \\n          <li class=\"item_realtime_news\"></li> \\n          <li class=\"item_realtime_news\"></li> \\n          <li class=\"item_realtime_news\"></li> \\n          <li class=\"item_realtime_news\"></li> \\n          <li class=\"item_realtime_news\"></li> \\n          <li class=\"item_realtime_news\"></li> \\n         </ul> \\n        </div>  \\n       </div> \\n       <div class=\"realtime_aside\" id=\"realtime_aside\" data-cloud-area=\"etc-aside\"> \\n        <ins class=\"kakao_ad_area etc_bottom_ad\" style=\"display: block; width: 100%;\" data-ad-unit=\"DAN-kQxraZPBvpl52CWq\" data-ad-width=\"250\" data-ad-height=\"250\" data-ad-onfail=\"onFailEtcBottomAd\" data-cloud=\"pc_etc_bottom_ad\"> </ins>  \\n       </div> \\n      </div> \\n     </div> \\n     <div data-cloud-area=\"etc-addition\"> \\n     </div> \\n    </div> \\n   </div> \\n   <hr class=\"hide\"> \\n   <div class=\"footer_comm\" id=\"kakaoFoot\" role=\"contentinfo\" data-cloud-area=\"footer\"> \\n    <div class=\"inner_foot\" data-cloud=\"pc_footer\"> \\n     <div class=\"direct_link\"> \\n      <h2 class=\"tit_direct\">\\xeb\\xb0\\x94\\xeb\\xa1\\x9c\\xea\\xb0\\x80\\xea\\xb8\\xb0</h2> \\n      <div class=\"item_bundle\"> <a class=\"link_txt\" href=\"https://news.daum.net/\">\\xeb\\x89\\xb4\\xec\\x8a\\xa4\\xed\\x99\\x88</a> <a class=\"link_txt\" href=\"https://news.daum.net/society/\">\\xec\\x82\\xac\\xed\\x9a\\x8c</a> <a class=\"link_txt\" href=\"https://news.daum.net/politics/\">\\xec\\xa0\\x95\\xec\\xb9\\x98</a> <a class=\"link_txt\" href=\"https://news.daum.net/economic/\">\\xea\\xb2\\xbd\\xec\\xa0\\x9c</a> <a class=\"link_txt\" href=\"https://news.daum.net/foreign/\">\\xea\\xb5\\xad\\xec\\xa0\\x9c</a> <a class=\"link_txt\" href=\"https://news.daum.net/culture/\">\\xeb\\xac\\xb8\\xed\\x99\\x94</a> <a class=\"link_txt\" href=\"https://news.daum.net/digital/\">IT</a> <a class=\"link_txt\" href=\"https://news.daum.net/photo/\">\\xed\\x8f\\xac\\xed\\x86\\xa0</a> <a class=\"link_txt\" href=\"https://news.daum.net/tv/\">TV</a> \\n      </div> \\n      <div class=\"item_bundle\"> <a class=\"link_txt\" href=\"https://news.daum.net/cp\">\\xec\\x96\\xb8\\xeb\\xa1\\xa0\\xec\\x82\\xac\\xeb\\xb3\\x84 \\xeb\\x89\\xb4\\xec\\x8a\\xa4</a> \\n      </div> \\n      <div class=\"item_bundle\"> <a class=\"link_txt\" href=\"https://news.daum.net/newsbox\">\\xeb\\xb0\\xb0\\xec\\x97\\xb4\\xec\\x9d\\xb4\\xeb\\xa0\\xa5</a> \\n      </div> \\n      <div class=\"item_bundle\"> <a class=\"link_txt\" href=\"https://news.daum.net/breakingnews\">\\xec\\xa0\\x84\\xec\\xb2\\xb4\\xeb\\x89\\xb4\\xec\\x8a\\xa4</a> <a class=\"link_txt\" href=\"https://news.daum.net/ranking/popular\">\\xeb\\x9e\\xad\\xed\\x82\\xb9</a> <a class=\"link_txt\" href=\"https://news.daum.net/series\">\\xec\\x97\\xb0\\xec\\x9e\\xac</a> \\n      </div> <button class=\"btn_fold\" type=\"button\"><span class=\"ico_news\">\\xeb\\xb0\\x94\\xeb\\xa1\\x9c\\xea\\xb0\\x80\\xea\\xb8\\xb0 \\xeb\\xa7\\x81\\xed\\x81\\xac \\xeb\\x8d\\x94\\xeb\\xb3\\xb4\\xea\\xb8\\xb0/\\xec\\xa0\\x91\\xea\\xb8\\xb0</span></button> \\n     </div> \\n     <h2 class=\"screen_out\">\\xec\\x84\\x9c\\xeb\\xb9\\x84\\xec\\x8a\\xa4 \\xec\\x9d\\xb4\\xec\\x9a\\xa9\\xec\\xa0\\x95\\xeb\\xb3\\xb4</h2> \\n     <div class=\"footer_link\"> <a class=\"link_info\" href=\"https://news.daum.net/info/intro\">\\xeb\\x8b\\xa4\\xec\\x9d\\x8c\\xeb\\x89\\xb4\\xec\\x8a\\xa4 \\xec\\x86\\x8c\\xea\\xb0\\x9c</a> <span class=\"txt_dot\"> \\xe3\\x83\\xbb </span> <a class=\"link_info\" href=\"https://news.daum.net/notice\">\\xea\\xb3\\xb5\\xec\\xa7\\x80\\xec\\x82\\xac\\xed\\x95\\xad</a> <span class=\"txt_dot\"> \\xe3\\x83\\xbb </span> <a class=\"link_info\" href=\"https://news.daum.net/info/bbsrule\">\\xea\\xb2\\x8c\\xec\\x8b\\x9c\\xeb\\xac\\xbc \\xec\\x9a\\xb4\\xec\\x98\\x81\\xec\\x9b\\x90\\xec\\xb9\\x99</a> <span class=\"txt_dot\"> \\xe3\\x83\\xbb </span> <a class=\"link_info\" href=\"https://policy.daum.net/info/info\">\\xec\\x84\\x9c\\xeb\\xb9\\x84\\xec\\x8a\\xa4 \\xec\\x95\\xbd\\xea\\xb4\\x80/\\xec\\xa0\\x95\\xec\\xb1\\x85</a> <span class=\"txt_dot\"> \\xe3\\x83\\xbb </span> <a class=\"link_info\" href=\"https://with.kakao.com/media\">\\xeb\\x89\\xb4\\xec\\x8a\\xa4\\xec\\xa0\\x9c\\xed\\x9c\\xb4</a> <span class=\"txt_dot\"> \\xe3\\x83\\xbb </span> <a class=\"link_info\" href=\"https://business.kakao.com/\">\\xeb\\xb9\\x84\\xec\\xa6\\x88\\xeb\\x8b\\x88\\xec\\x8a\\xa4</a> <span class=\"txt_dot\"> \\xe3\\x83\\xbb </span> <a class=\"link_info\" href=\"https://cs.daum.net/redbell/top.html\">\\xea\\xb6\\x8c\\xeb\\xa6\\xac\\xec\\xb9\\xa8\\xed\\x95\\xb4\\xec\\x8b\\xa0\\xea\\xb3\\xa0</a> <span class=\"txt_dot\"> \\xe3\\x83\\xbb </span> <a class=\"link_info\" href=\"https://cs.daum.net/faq/63.html\">\\xeb\\x8b\\xa4\\xec\\x9d\\x8c\\xeb\\x89\\xb4\\xec\\x8a\\xa4 \\xea\\xb3\\xa0\\xea\\xb0\\x9d\\xec\\x84\\xbc\\xed\\x84\\xb0</a> \\n     </div> \\n     <div class=\"footer_link\"> <a class=\"link_info\" href=\"https://news.daum.net/info/newscenter24\">24\\xec\\x8b\\x9c\\xea\\xb0\\x84 \\xeb\\x89\\xb4\\xec\\x8a\\xa4\\xec\\x84\\xbc\\xed\\x84\\xb0</a> <span class=\"txt_dot\"> \\xe3\\x83\\xbb </span> <a class=\"link_info\" href=\"https://news.daum.net/info/edit\">\\xec\\x84\\x9c\\xeb\\xb9\\x84\\xec\\x8a\\xa4\\xec\\x9b\\x90\\xec\\xb9\\x99</a> <span class=\"txt_dot\"> \\xe3\\x83\\xbb </span> <a class=\"link_info\" href=\"https://news.daum.net/info/correct\">\\xeb\\xb0\\x94\\xeb\\xa1\\x9c\\xec\\x9e\\xa1\\xec\\x8a\\xb5\\xeb\\x8b\\x88\\xeb\\x8b\\xa4</a> <span class=\"txt_dot\"> \\xe3\\x83\\xbb </span> <span class=\"link_info\">\\xea\\xb8\\xb0\\xec\\x82\\xac\\xeb\\xb0\\xb0\\xec\\x97\\xb4\\xec\\xb1\\x85\\xec\\x9e\\x84\\xec\\x9e\\x90 : \\xea\\xb9\\x80\\xed\\x9d\\xac\\xec\\xa0\\x95</span> <span class=\"txt_dot\"> \\xe3\\x83\\xbb </span> <span class=\"link_info\">\\xec\\xb2\\xad\\xec\\x86\\x8c\\xeb\\x85\\x84\\xeb\\xb3\\xb4\\xed\\x98\\xb8\\xec\\xb1\\x85\\xec\\x9e\\x84\\xec\\x9e\\x90 : \\xec\\x9d\\xb4\\xec\\xa4\\x80\\xeb\\xaa\\xa9</span> \\n     </div> \\n     <div class=\"info_copyright\"> <strong class=\"info_warn\">\\xec\\x9c\\x84 \\xeb\\x82\\xb4\\xec\\x9a\\xa9\\xec\\x97\\x90 \\xeb\\x8c\\x80\\xed\\x95\\x9c \\xec\\xa0\\x80\\xec\\x9e\\x91\\xea\\xb6\\x8c \\xeb\\xb0\\x8f \\xeb\\xb2\\x95\\xec\\xa0\\x81 \\xec\\xb1\\x85\\xec\\x9e\\x84\\xec\\x9d\\x80 \\xec\\x9e\\x90\\xeb\\xa3\\x8c\\xec\\xa0\\x9c\\xea\\xb3\\xb5\\xec\\x82\\xac \\xeb\\x98\\x90\\xeb\\x8a\\x94 <br>\\xea\\xb8\\x80\\xec\\x93\\xb4\\xec\\x9d\\xb4\\xec\\x97\\x90 \\xec\\x9e\\x88\\xec\\x9c\\xbc\\xeb\\xa9\\xb0, Kakao\\xec\\x9d\\x98 \\xec\\x9e\\x85\\xec\\x9e\\xa5\\xea\\xb3\\xbc \\xeb\\x8b\\xa4\\xeb\\xa5\\xbc \\xec\\x88\\x98 \\xec\\x9e\\x88\\xec\\x8a\\xb5\\xeb\\x8b\\x88\\xeb\\x8b\\xa4.</strong> <small class=\"txt_copyright\">Copyright \\xc2\\xa9 <strong class=\"txt_kakao\"><a href=\"https://www.kakaocorp.com\" class=\"link_kakao\">Kakao Corp.</a></strong> All rights reserved.</small> \\n     </div> \\n    </div>   \\n   </div> <samp data-cloud-area=\"util\">           </samp> \\n  </div>  \\n  <script src=\"//t1.daumcdn.net/harmony_static/cloud/2021/06/09/vendor.060f681fd55112aaf724.js\"></script>\\n  <script src=\"//t1.daumcdn.net/harmony_static/cloud/2021/06/09/common.8599c65961395aebbd79.js\"></script>\\n  <script src=\"//t1.daumcdn.net/kas/static/ba.min.js\"></script>\\n  <script src=\"//t1.daumcdn.net/kas/static/na.min.js\"></script>\\n  <script src=\"//m1.daumcdn.net/svc/original/U03/cssjs/userAgent/userAgent-1.0.12.min.js\"></script>\\n  <script>\"use strict\";function _classCallCheck(e,t){if(!(e instanceof t))throw new TypeError(\"Cannot call a class as a function\")}function _defineProperties(e,t){for(var a=0;a<t.length;a++){var n=t[a];n.enumerable=n.enumerable||!1,n.configurable=!0,\"value\"in n&&(n.writable=!0),Object.defineProperty(e,n.key,n)}}function _createClass(e,t,a){return t&&_defineProperties(e.prototype,t),a&&_defineProperties(e,a),e}!(function(){var a=\"<li>\\\\n <a href=\\\\\"https://search.daum.net/search?nil_suggest=btn&amp;w=tot&amp;DA=SBC&amp;q=<%= specialRegionName %>%20\\xeb\\x82\\xa0\\xec\\x94\\xa8\\\\\" class=\\\\\"link_cont\\\\\">\\\\n <span class=\\\\\"ico_weather ico_weather<%= weatherIconCode %>\\\\\"><%= specialRegionName %></span> \\\\n <span class=\\\\\"txt_weather\\\\\"><%= specialRegionName %>\\\\n <span class=\\\\\"num_heat\\\\\"><%= temperature %></span> \\\\n <span class=\\\\\"txt_heat\\\\\">\\xe2\\x84\\x83</span>\\\\n </span>\\\\n </a>\\\\n </li>\",t=document.querySelector(\\'.gnb_weather\\'),n=t.querySelector(\\'ul\\'),e=\"\".concat(Conf.api.hadesRest,\"/pc_weather\");axios.get(e).then(function(e){var t=e.data.body.data,e=t.isNightIconYn,t=t.weatherData;n.dataset.nightyn=e,n.innerHTML=t.map(function(e){return _.template(a)(e)}).join(\\'\\');new s(n)}).catch(function(e){t.parentNode.removeChild(t)});var s=(function(){function t(e){_classCallCheck(this,t),this.PAUSE_TIME=4e3,this.TRANSITION_TIME=500,this.list=e,this.frameId=null,this.pause=this.pause.bind(this),this.start=this.start.bind(this),this.moveUp=this.moveUp.bind(this),this.init(),this.start(),this.list.style.marginTop=\\'0px\\'}return _createClass(t,[{key:\"start\",value:function(){this.frameId=setInterval(this.moveUp,this.PAUSE_TIME)}},{key:\"pause\",value:function(){clearInterval(this.frameId)}},{key:\"moveUp\",value:function(){var e=this.list,t=e.firstElementChild.cloneNode(!0);e.classList.add(\\'slidein\\'),e.style.marginTop=\\'-30px\\',setTimeout(function(){e.classList.remove(\\'slidein\\'),e.style.marginTop=\\'0px\\',e.removeChild(e.firstElementChild),e.appendChild(t)},this.TRANSITION_TIME)}},{key:\"init\",value:function(){var t=this,e=this.list;e.addEventListener(\\'mouseenter\\',this.pause),e.addEventListener(\\'mouseleave\\',this.start),e.querySelectorAll(\\'a\\').forEach(function(e){e.addEventListener(\\'focus\\',t.pause),e.addEventListener(\\'blur\\',t.start)})}}]),t})()})();</script>\\n  <script>\"use strict\";!(function(){var e=-1<\\'\\'.indexOf(\\'tv_news\\')?\\'tv\\':\\'economic\\',t=document.querySelector(\\'.gnb_comm\\');(t=e&&t.querySelector(\".\".concat(e)))&&t.setAttribute(\\'class\\',\"\".concat(e,\" on\"))})();</script>\\n  <script src=\"https://t1.daumcdn.net/cssjs/jquery/jquery-1.9.0.min.js\"></script>\\n  <script src=\"https://search1.daumcdn.net/search/suggest_pc/suggest-1.2.16.min.js\"></script>\\n  <script>\"use strict\";!(function(){document.getElementById(\\'search_news\\'),new suggest.Suggest(document.getElementById(\"search_news\"),{inputEl:\\'qVal\\',suggestBoxEl:\\'suggestBox\\',autoFocus:\\'NORMAL\\',suggestLimit:10,isReverse:!1,searchURL:\\'https://search.daum.net/search\\',APIServer:{host:\\'//dapi.kakao.com/suggest/v2/pc.json\\',apiType:suggest.Suggest.APITYPE.DAPISUGGEST,appkey:\\'d7022f6ca2a04430ce1b97b922da58e8\\',queries:{mod:\\'json\\',code:\\'utf_in_out\\'}}}).on(\\'click-item\\',function(){var e=document.getElementById(\\'kakaoSearch\\');e.querySelector(\"input[name=\\'DA\\']\").value=\\'23B\\',e.submit()});var t=document.getElementById(\\'qVal\\');t.addEventListener?(t.addEventListener(\\'focus\\',function(e){e&&e.preventDefault(),0<=t.value.length&&t.parentNode.classList.add(\\'search_on\\')}),t.addEventListener(\\'blur\\',function(e){e&&e.preventDefault(),0===t.value.length&&t.parentNode.classList.remove(\\'search_on\\')})):(t.attachEvent(\\'onfocus\\',function(e){e&&(e.preventDefault?e.preventDefault():e.returnValue=!1),0<=t.value.length&&t.parentNode.setAttribute(\\'class\\',\\'box_searchbar search_on\\')}),t.attachEvent(\\'onblur\\',function(e){e&&(e.preventDefault?e.preventDefault():e.returnValue=!1),0===t.value.length&&t.parentNode.setAttribute(\\'class\\',\\'box_searchbar\\')}))})(jQuery);</script>\\n  <script src=\"//t1.daumcdn.net/daumtop_deco/socialshare/socialshare_nocss_pc-2.4.2.js\"></script>\\n  <script>\"use strict\";!(function(){var t=document.querySelector(\\'.util_summary\\'),r=t.querySelector(\\'.btn_summary\\'),e=t.querySelectorAll(\".layer_summary p\"),n=!1;function i(){t.classList.remove(\\'layer_open\\'),r.setAttribute(\\'aria-expanded\\',!1)}function a(e){if(e.target===r||e.target===r.children[0])return!1;i(),window.removeEventListener(\\'click\\',a)}e.forEach(function(e){return e.classList.add(\"desc_news\")}),r.addEventListener(\\'click\\',function(e){(n=!n)?(t.classList.add(\\'layer_open\\'),r.setAttribute(\\'aria-expanded\\',!0),window.addEventListener(\\'click\\',a)):i()}),r.addEventListener(\\'blur\\',function(e){n=!1,i()})})();</script>\\n  <script>\"use strict\";function _slicedToArray(e,t){return _arrayWithHoles(e)||_iterableToArrayLimit(e,t)||_unsupportedIterableToArray(e,t)||_nonIterableRest()}function _nonIterableRest(){throw new TypeError(\"Invalid attempt to destructure non-iterable instance.\\\\nIn order to be iterable, non-array objects must have a [Symbol.iterator]() method.\")}function _unsupportedIterableToArray(e,t){if(e){if(\"string\"==typeof e)return _arrayLikeToArray(e,t);var n=Object.prototype.toString.call(e).slice(8,-1);return\"Object\"===n&&e.constructor&&(n=e.constructor.name),\"Map\"===n||\"Set\"===n?Array.from(e):\"Arguments\"===n||/^(?:Ui|I)nt(?:8|16|32)(?:Clamped)?Array$/.test(n)?_arrayLikeToArray(e,t):void 0}}function _arrayLikeToArray(e,t){(null==t||t>e.length)&&(t=e.length);for(var n=0,r=new Array(t);n<t;n++)r[n]=e[n];return r}function _iterableToArrayLimit(e,t){if(\"undefined\"!=typeof Symbol&&Symbol.iterator in Object(e)){var n=[],r=!0,o=!1,a=void 0;try{for(var i,s=e[Symbol.iterator]();!(r=(i=s.next()).done)&&(n.push(i.value),!t||n.length!==t);r=!0);}catch(e){o=!0,a=e}finally{try{r||null==s[\"return\"]||s[\"return\"]()}finally{if(o)throw a}}return n}}function _arrayWithHoles(e){if(Array.isArray(e))return e}!(function(){var t,e,n,r,o,a=\\'VIEW_TTS\\',i=\\'v.daum.net\\',s={slow_Male:\\'http://k-v1.kakaocdn.net/dn/NOgW7/btqgKWvtqGv/CQTdjDUR8uSGZXdMgPZ7A1/original.m4a\\',normal_Male:\\'http://k-v1.kakaocdn.net/dn/cXPoNE/btqgLdpZ1XH/0kIcLNoARmcaqkhk2SHU4K/original.m4a\\',fast_Male:\\'http://k-v1.kakaocdn.net/dn/b66M8d/btqgLjKgomG/D2ix5CwksQaIhaKc9AfHL1/original.m4a\\',slow_Female:\\'http://k-v1.kakaocdn.net/dn/9mKZv/btqgLi5D021/JsjWeBVKUi4p9QRJq2yB40/original.m4a\\',normal_Female:\\'http://k-v1.kakaocdn.net/dn/l2fEG/btqgLdXP5vd/SuJrPdCJIMDyKW75c5vnk1/original.m4a\\',fast_Female:\\'http://k-v1.kakaocdn.net/dn/bn9fI7/btqgLkColIa/XkhP2boJTxpSGpaZ0Nnsjk/original.m4a\\'},l=document.querySelector(\\'.util_view .tts_btn\\'),c=l.querySelectorAll(\\'.list_tts input\\'),u=l.querySelector(\\'.btn_tts\\'),d=l.querySelector(\\'.ico_speak\\'),y=l.querySelector(\\'.wrap_setlayer\\').querySelectorAll(\\'.ico_newsview\\'),f=l.querySelector(\\'#ttsPlayer\\');function m(){var e,t,n,r,o=(e=l.querySelector(\\'input[name=ttsSpeed]:checked\\').value,t=l.querySelector(\\'input[name=ttsGender]:checked\\').value,\"\".concat(e,\"_\").concat(t));f.setAttribute(\\'src\\',s[o]),n=o,Cookies.set(a,\\'\\',{expires:-1}),Cookies.set(a,n,{domain:i,expires:new Date(1*new Date+365*864e5)}),r=o,u.className=\\'btn_set btn_tts #util #tts #p_\\'+r}function p(e){\\'playOptions\\'==e?(m(),f.load(),f.play(),d.textContent=\\'\\xec\\x9d\\x8c\\xec\\x84\\xb1 \\xea\\xb8\\xb0\\xec\\x82\\xac \\xec\\xa0\\x95\\xec\\xa7\\x80\\'):\\'play\\'==e?(f.load(),f.play(),d.textContent=\\'\\xec\\x9d\\x8c\\xec\\x84\\xb1 \\xea\\xb8\\xb0\\xec\\x82\\xac \\xec\\xa0\\x95\\xec\\xa7\\x80\\'):(f[e](),d.textContent=\\'\\xec\\x9d\\x8c\\xec\\x84\\xb1 \\xea\\xb8\\xb0\\xec\\x82\\xac \\xeb\\x93\\xa3\\xea\\xb8\\xb0\\')}function v(){clearTimeout(n),t.classList.add(\\'layer_open\\'),e.setAttribute(\\'aria-expanded\\',!0)}function _(){r||(n=setTimeout(b,100))}function b(){t.classList.remove(\\'layer_open\\'),e.setAttribute(\\'aria-expanded\\',!1)}function L(e){e?t.classList.add(\\'on\\'):t.classList.remove(\\'on\\')}function h(e,t){document.getElementById(\"ttsSpeed\".concat(e)).checked=!0,document.getElementById(\"ttsGender\".concat(t)).checked=!0}t=(o={layer:l,btn:u,radios:c}).layer,e=o.btn,o=o.radios,r=!(n=0),t.addEventListener(\\'mouseover\\',function(e){r=!0,v()}),t.addEventListener(\\'mouseleave\\',function(e){r=!1,_()}),e.addEventListener(\\'keydown\\',function(e){13===e.keyCode&&((r=!r)?v:b)()}),t.addEventListener(\\'blur\\',function(e){r=!1,_()}),e.addEventListener(\\'click\\',function(e){f.paused?(L(!0),p(\\'play\\')):(L(!1),p(\\'pause\\'))}),o.forEach(function(e){e.addEventListener(\\'change\\',function(e){t.classList.add(\\'on\\'),p(\\'playOptions\\')}),e.addEventListener(\\'blur\\',function(e){r=!1,_()}),e.addEventListener(\\'focus\\',function(e){r=!0,v()})}),y=(o={icons:y,radios:c}).icons,c=o.radios,y.forEach(function(e){e.addEventListener(\\'mouseover\\',function(e){this.classList.add(\\'ico_focused\\')}),e.addEventListener(\\'mouseleave\\',function(e){this.classList.remove(\\'ico_focused\\')})}),c.forEach(function(e){e.addEventListener(\\'focus\\',function(e){this.nextElementSibling.querySelector(\\'span\\').classList.add(\\'ico_focused\\')}),e.addEventListener(\\'blur\\',function(e){this.nextElementSibling.querySelector(\\'span\\').classList.remove(\\'ico_focused\\')})}),f.addEventListener(\\'ended\\',function(e){l.classList.remove(\\'on\\')}),void 0===(o=Cookies.get(a))||o.includes(\\'undefined\\')?h(\\'Normal\\',\\'Male\\'):(c=(y=_slicedToArray(o.split(\\'_\\'),2))[0],y=y[1],h(c=(o=c).charAt(0).toUpperCase()+o.slice(1),y)),m()})();</script>\\n  <script>\"use strict\";!(function(){var n=document.createElement(\\'DIV\\');n.innerHTML=\"\\\\n <div id=\\\\\"translatingLayer\\\\\" class=\\\\\"translate_layer\\\\\">\\\\n <div class=\\\\\"inner_translate_layer\\\\\">\\\\n <div class=\\\\\"layer_body\\\\\">\\\\n <strong class=\\\\\"tit_translate\\\\\">\\\\n \\xeb\\xb2\\x88\\xec\\x97\\xad\\xec\\xa4\\x91 <span class=\\\\\"eng_tit\\\\\">Now in translation</span>\\\\n </strong>\\\\n </div>\\\\n </div>\\\\n </div>\\\\n\\\\n <div id=\\\\\"translateErrorLayer\\\\\" class=\\\\\"translate_layer\\\\\">\\\\n <div class=\\\\\"inner_translate_layer inner_error_layer\\\\\">\\\\n <div class=\\\\\"layer_body\\\\\">\\\\n <span class=\\\\\"ico_newsview ico_error\\\\\"></span>\\\\n <strong class=\\\\\"tit_translate\\\\\">\\\\n \\xec\\x9e\\xa0\\xec\\x8b\\x9c \\xed\\x9b\\x84 \\xeb\\x8b\\xa4\\xec\\x8b\\x9c \\xec\\x8b\\x9c\\xeb\\x8f\\x84\\xed\\x95\\xb4 \\xec\\xa3\\xbc\\xec\\x84\\xb8\\xec\\x9a\\x94 <span class=\\\\\"eng_tit\\\\\">Please try again in a moment</span>\\\\n </strong>\\\\n </div>\\\\n </div>\\\\n </div>\\\\n \",document.body.querySelector(\"#kakaoWrap\").appendChild(n)})();</script>\\n  <script>\"use strict\";function _toConsumableArray(e){return _arrayWithoutHoles(e)||_iterableToArray(e)||_unsupportedIterableToArray(e)||_nonIterableSpread()}function _nonIterableSpread(){throw new TypeError(\"Invalid attempt to spread non-iterable instance.\\\\nIn order to be iterable, non-array objects must have a [Symbol.iterator]() method.\")}function _unsupportedIterableToArray(e,t){if(e){if(\"string\"==typeof e)return _arrayLikeToArray(e,t);var n=Object.prototype.toString.call(e).slice(8,-1);return\"Object\"===n&&e.constructor&&(n=e.constructor.name),\"Map\"===n||\"Set\"===n?Array.from(e):\"Arguments\"===n||/^(?:Ui|I)nt(?:8|16|32)(?:Clamped)?Array$/.test(n)?_arrayLikeToArray(e,t):void 0}}function _iterableToArray(e){if(\"undefined\"!=typeof Symbol&&Symbol.iterator in Object(e))return Array.from(e)}function _arrayWithoutHoles(e){if(Array.isArray(e))return _arrayLikeToArray(e)}function _arrayLikeToArray(e,t){(null==t||t>e.length)&&(t=e.length);for(var n=0,r=new Array(t);n<t;n++)r[n]=e[n];return r}!(function(){var e,t,n,r,a=document.querySelector(\\'.translate_btn\\'),o=a.querySelector(\\'.btn_translate\\'),l=a.querySelector(\\'.link_kakaoi\\'),s=a.querySelectorAll(\\'.btn_lang\\'),i=document.getElementById(\\'translatingLayer\\'),c=document.getElementById(\\'translateErrorLayer\\'),y=document.getElementById(\\'kakaoWrap\\');function u(){i.style.display=\\'none\\',c.style.display=\\'none\\',document.body.style.overflow=\\'\\'}function d(){clearTimeout(e),t.classList.add(\\'layer_open\\'),n.setAttribute(\\'aria-expanded\\',!0)}function f(){t.classList.remove(\\'layer_open\\'),n.setAttribute(\\'aria-expanded\\',!1)}function p(){r||(e=setTimeout(f,1))}function m(e){var t=e.currentTarget.name;u(),i.style.display=\\'block\\',document.body.style.overflow=\\'hidden\\';try{HarmonyTranslator.translate(\\'kr\\',t,_,b)}catch(e){console.error(\\'\\xeb\\xb2\\x88\\xec\\x97\\xad \\xec\\x97\\x90\\xeb\\x9f\\xac:\\',e)}}function _(e){var t=document.querySelector(\\'#translateNotice\\'),e=e.targetLang;switch(e){case\\'en\\':case\\'id\\':y.classList.add(\\'lang_type1\\'),y.classList.remove(\\'lang_type2\\'),y.classList.remove(\\'lang_type3\\');break;case\\'cn\\':case\\'jp\\':y.classList.remove(\\'lang_type1\\'),y.classList.add(\\'lang_type2\\'),y.classList.remove(\\'lang_type3\\');break;case\\'vi\\':y.classList.remove(\\'lang_type1\\'),y.classList.remove(\\'lang_type2\\'),y.classList.add(\\'lang_type3\\');break;default:y.classList.remove(\\'lang_type1\\'),y.classList.remove(\\'lang_type2\\'),y.classList.remove(\\'lang_type3\\')}\\'kr\\'==e?(t.querySelectorAll(\\'.notice_lang\\').forEach(function(e){e.style.display=\\'none\\'}),t.style.display=\\'none\\'):(t.querySelectorAll(\".notice_lang:not(.notice_lang_\".concat(e,\")\")).forEach(function(e){e.style.display=\\'none\\'}),t.querySelector(\".notice_lang.notice_lang_\".concat(e)).style.display=\\'block\\',t.style.display=\\'block\\'),setTimeout(function(){u()},500)}function b(e,t){u(),c.style.display=\\'block\\',document.body.style.overflow=\\'hidden\\',setTimeout(function(){u()},2e3)}l={layer:a,btn:o,inputs:[l].concat(_toConsumableArray(s))},t=l.layer,n=l.btn,l=l.inputs,r=!1,n.addEventListener(\\'click\\',function(){((r=!r)?d:p)()}),t.addEventListener(\\'mouseover\\',function(){r=!0,d()}),t.addEventListener(\\'mouseleave\\',function(){r=!1,f()}),l.forEach(function(e){e.addEventListener(\\'focus\\',function(e){r=!0,d()}),e.addEventListener(\\'blur\\',function(e){r=!1,p()})}),s.forEach(function(e){e.addEventListener(\\'click\\',m)})})();</script>\\n  <script>\"use strict\";!(function(){var e,t=(o=\\'\\xec\\x9e\\x94\\xea\\xb8\\x88\\xeb\\x8c\\x80\\xec\\xb6\\x9c\\xec\\x97\\x90\\xeb\\x8f\\x84 DTI \\xea\\xb7\\x9c\\xec\\xa0\\x9c \\xec\\xa0\\x81\\xec\\x9a\\xa9 \\xea\\xb2\\x80\\xed\\x86\\xa0\\',(c=document.createElement(\\'div\\')).innerHTML=o,c.textContent),a=\\'20170615203441266\\'||\\'nkhSoinQsa\\',n=\"\".concat(location.protocol,\"//\").concat(location.host,\"/v/\").concat(a),o=\"http://scrap.cafe.daum.net/_dss_/scrap?folder_id=100000&source_location_code=10&target_location_code=1&data_id=\".concat(a),c={shareType:\\'sendScrap\\',shareData:{requestUrl:n,templateId:7952,installTalk:!0,templateArgs:{\\'${EncodingUrl}\\':encodeURIComponent(n),\\'${webUrl}\\':n+\\'?f=p\\',\\'${mobileWebUrl}\\':n+\\'?f=m\\'}}},r=document.querySelector(\\'.share_btn\\'),i=document.getElementById(\\'rSocialShareButton\\'),a=document.getElementById(\\'rSocialShareLayerContainer\\'),d=new socialshareRenewal.Main(i,{moreViewContainer:a,action:\\'hover\\',link:n,prefix:t,service_name:\\'\\xeb\\x8b\\xa4\\xec\\x9d\\x8c\\xeb\\x89\\xb4\\xec\\x8a\\xa4\\',cafe:o,kakaoAPI:{appkey:\\'53e566aa17534bc816eb1b5d8f7415ee\\',kakaoLinkData:c}}),s=!1;function l(){e=setTimeout(function(){s=!1,r.classList.remove(\\'layer_open\\'),i.setAttribute(\\'aria-expanded\\',!1),d.close()},100)}function u(){s=!0,m(),r.classList.add(\\'layer_open\\'),i.setAttribute(\\'aria-expanded\\',!0),d.open()}function m(){clearTimeout(e)}i.addEventListener(\\'mouseenter\\',u),i.addEventListener(\\'mouseleave\\',l),i.addEventListener(\\'click\\',function(e){(s?l:u)()}),a.addEventListener(\\'mouseenter\\',m),a.addEventListener(\\'mouseleave\\',l),a.querySelectorAll(\\'a\\').forEach(function(e){e.addEventListener(\\'focus\\',m),e.addEventListener(\\'blur\\',l)})})();</script>\\n  <script>\"use strict\";!(function(){var e,t,n,o,i=document.querySelector(\\'.news_view\\'),s=document.querySelector(\\'.font_btn\\'),c=s.querySelector(\\'.btn_font\\'),r=s.querySelector(\\'.list_font\\'),u=r.querySelectorAll(\\'input\\'),a=\\'GS_font_size\\',l=\\'v.daum.net\\';function d(e){i.style.fontSize=\"\".concat(e,\"px\"),document.querySelector(\"#inpFont\".concat(e)).checked=!0,r.querySelectorAll(\\'label\\').forEach(function(e){return e.classList.remove(\\'on\\')}),r.querySelector(\"label[for=inpFont\".concat(e,\"]\")).classList.add(\\'on\\'),e=e,Cookies.set(a,\\'\\',{expires:-1}),Cookies.set(a,e,{domain:l,expires:new Date(1*new Date+365*864e5)})}function f(){clearTimeout(e),t.classList.add(\\'layer_open\\'),n.setAttribute(\\'aria-expanded\\',!0)}function v(){t.classList.remove(\\'layer_open\\'),n.setAttribute(\\'aria-expanded\\',!1)}function p(){o&&(e=setTimeout(v,1))}d(Cookies.get(a)||17),u.forEach(function(e){e.addEventListener(\\'change\\',function(e){d(e.target.value)})}),t=(c={layer:s,btn:c,inputs:u}).layer,n=c.btn,c=c.inputs,o=!1,t.addEventListener(\\'mouseover\\',function(){o=!0,f()}),t.addEventListener(\\'mouseleave\\',function(){o=!1,v()}),c.forEach(function(e){e.addEventListener(\\'focus\\',f),e.addEventListener(\\'blur\\',p)}),n.addEventListener(\\'click\\',function(e){((o=!o)?f:v)()}),s={options:s.querySelectorAll(\\'.ico_newsview\\'),inputs:u},u=s.options,s=s.inputs,u.forEach(function(e){e.addEventListener(\\'mouseover\\',function(){this.classList.add(\\'ico_focused\\')}),e.addEventListener(\\'mouseleave\\',function(){this.classList.remove(\\'ico_focused\\')})}),s.forEach(function(e){e.addEventListener(\\'focus\\',function(){this.nextElementSibling.querySelector(\\'span\\').classList.add(\\'ico_focused\\')}),e.addEventListener(\\'blur\\',function(){this.nextElementSibling.querySelector(\\'span\\').classList.remove(\\'ico_focused\\')})})})();</script>\\n  <script>\"use strict\";document.body.querySelector(\".btn_print\").parentNode.addEventListener(\"click\",function(t){t.preventDefault(),window.open(\\'https://news.v.daum.net/v/20170615203441266?s=print_news\\',\\'newsPrint\\',\\'width=750,height=550,scrollbars=yes\\')});</script>\\n  <script type=\"text/javascript\" src=\"//comment.daum.net/js/latest/alex.action.min.js\"></script>\\n  <script>\"use strict\";!(function(){var s=\"20170615203441266\",e=\"\".concat(Conf.api.hadesRest,\"/pc_mc2_news?cate=\").concat(\"news\",\"&id=\").concat(s),a=\\'<li class=\"on\"> <div class=\"inner_box\"><span class=\"link_txt\"><%= title %></span></div> </li>\\',i=\\'<li> <div class=\"inner_box\"><a href=\"https://news.v.daum.net/v/<%= contentId %>\" class=\"link_txt\"><%= title %></a></div> </li>\\',c=\\'//news.daum.net/series\\',r=document.querySelector(\\'.relate_series\\'),o=r.querySelector(\\'.title_series\\'),d=r.querySelector(\\'.link_more\\'),l=r.querySelector(\\'.list_series\\');function m(e){e&&e.parentNode.removeChild(e)}axios.get(e).then(function(e){var t,n=e.data.body.data.data;_.isEmpty(n)||\\'series\\'!==n[0].factor.type?m(r):(t=n[0],e=t.contents,n=t._id,t=t.title,e.length<3&&l.classList.add(\\'relate_series2\\'),o.textContent=t,d.setAttribute(\\'href\\',c+\\'/\\'+n),l.innerHTML=e.map(function(e){var t=e.contentId,e=e.title;return t==s?_.template(a)({title:e}):_.template(i)({contentId:t,title:e})}).join(\\'\\'),(e=r)&&e.classList.remove(\\'hide\\'))}).catch(function(e){console.error(\"[\\xed\\x81\\xb4\\xeb\\x9f\\xac\\xec\\x8a\\xa4\\xed\\x84\\xb0]: \\xeb\\x8d\\xb0\\xec\\x9d\\xb4\\xed\\x84\\xb0\\xeb\\xa5\\xbc \\xea\\xb0\\x80\\xec\\xa0\\xb8\\xec\\x98\\xa4\\xeb\\x8a\\x94\\xeb\\x8d\\xb0 \\xec\\x8b\\xa4\\xed\\x8c\\xa8\\xed\\x96\\x88\\xec\\x8a\\xb5\\xeb\\x8b\\x88\\xeb\\x8b\\xa4. \\xec\\x97\\x90\\xeb\\x9f\\xac: \",e,\"\\xec\\x97\\x90\\xeb\\x9f\\xac \\xeb\\x8d\\xb0\\xec\\x9d\\xb4\\xed\\x84\\xb0: \",e.response.data),m(r)})})();</script>\\n  <script>\"use strict\";function cmRenderFailCallBack(e){e.parentElement.removeChild(e)}</script>\\n  <script>\"use strict\";document.addEventListener(\\'DOMContentLoaded\\',function(){var t=\"\".concat(Conf.api.hadesRest)+\"/service_notice?id=\"+\"3393\",n=document.querySelector(\"#newsviewNotice\");axios.get(t).then(function(t){var e=t.data.body.data,t=e.noticeTitle,e=e.noticeUrl;null!==t?n.innerHTML=\"<strong class=\\\\\"tit_notice\\\\\">\\xea\\xb3\\xb5\\xec\\xa7\\x80</strong><span class=\\\\\"txt_notice\\\\\"><a href=\\\\\"\".concat(e,\"\\\\\" class=\\\\\"link_txt\\\\\">\").concat(t,\"</a></span>\"):n.parentNode.removeChild(n)}).catch(function(t){console.log(\"\\xeb\\x8c\\x93\\xea\\xb8\\x80 \\xea\\xb3\\xb5\\xec\\xa7\\x80 \\xec\\x98\\xa4\\xeb\\xa5\\x98: \"+t),n.parentNode.removeChild(n)})});</script>\\n  <script src=\"//comment.daum.net/js/latest/alex.single.min.js\"></script>\\n  <script>\"use strict\";window.excludeCorejs=!1,window.alexConfig={label:{emptyImage:\\'//i1.daumcdn.net/img-section/enter2013/liveviewer/pc_emot_co.gif\\'},onLoad:function(){window.isLoadComment=!0}};</script>\\n  <script>\"use strict\";!(function(){var t,n,a=document.querySelector(\\'.aside_popular\\'),e=document.querySelectorAll(\".tab_aside li a\"),i={\"\\xeb\\x89\\xb4\\xec\\x8a\\xa4\":\"news\",\"\\xec\\x97\\xb0\\xec\\x98\\x88\":\"entertain\",\"\\xec\\x8a\\xa4\\xed\\x8f\\xac\\xec\\xb8\\xa0\":\"sports\"},c={news:{el:e[0],korName:\"\\xeb\\x89\\xb4\\xec\\x8a\\xa4\",moreLink:\"https://news.daum.net/ranking/popular/all\"},entertain:{el:e[1],korName:\"\\xec\\x97\\xb0\\xec\\x98\\x88\",moreLink:\"https://entertain.daum.net/ranking/popular\"},sports:{el:e[2],korName:\"\\xec\\x8a\\xa4\\xed\\x8f\\xac\\xec\\xb8\\xa0\",moreLink:\"https://sports.daum.net/news/ranking\"}},r=c[\"news\"].el,l=1;function s(n){var e;r!==n&&((e=r.parentNode.querySelector(\".cont_aside\"))&&e.parentNode.removeChild(e),r.parentNode.classList.remove(\"on\"),n.parentNode.classList.add(\"on\"),l=1,o(n),r=n)}function o(n){var e=n.innerText,t=i[e],a=c[t].moreLink,s=document.createElement(\"div\"),t=d(t);function o(){var n=document.querySelector(\".cont_aside .list_ranking\"),e=r.innerText,e=i[e];l=this.classList.contains(\"btn_prev\")?1===l?3:l-1:3===l?1:l+1,n.innerHTML=d(e)}s.classList.add(\"cont_aside\"),s.innerHTML=\"\\\\n <strong class=\\\\\"screen_out\\\\\">\".concat(e,\"</strong>\\\\n <ol class=\\\\\"list_ranking\\\\\">\\\\n \").concat(t,\" \\\\n </ol>\\\\n <div class=\\\\\"util_aside\\\\\">\\\\n <button class=\\\\\"btn_slide btn_prev\\\\\"><span class=\\\\\"ico_newsview\\\\\">\\xec\\x9d\\xb4\\xec\\xa0\\x84</span></button>\\\\n <button class=\\\\\"btn_slide btn_next\\\\\"><span class=\\\\\"ico_newsview\\\\\">\\xeb\\x8b\\xa4\\xec\\x9d\\x8c</span></button>\\\\n <a href=\").concat(a,\" class=\\\\\"link_all\\\\\"><span class=\\\\\"txt_newsview\\\\\">\\xec\\xa0\\x84\\xec\\xb2\\xb4 \\xeb\\xb3\\xb4\\xea\\xb8\\xb0</span><span class=\\\\\"ico_newsview\\\\\"></span></a>\\\\n </div>\\\\n \"),n.parentNode.appendChild(s),s.querySelector(\".btn_prev\").addEventListener(\\'click\\',o),s.querySelector(\".btn_next\").addEventListener(\\'click\\',o)}function d(n){return c[n].contents.slice(10*(l-1),10*l).map(function(n){return\"\\\\n <li>\\\\n <em class=\\\\\"num_newsview num\".concat(n.index,\"\\\\\">\").concat(n.index,\"\\xec\\x9c\\x84</em>\\\\n <strong class=\\\\\"tit_g\\\\\"><a href=\\\\\"\").concat(n.pcLink,\"\\\\\" class=\\\\\"link_txt @\").concat(n.index,\"\\\\\">\").concat(n.title,\"</a></strong>\\\\n </li>\\\\n \")}).join(\\'\\')}t=c,n=\"\".concat(Conf.api.hadesRest,\"/pc_popular_news?size=30\"),axios.get(n).then(function(n){var e=n.data.body.data;Object.keys(e).forEach(function(n){t[n].contents=e[n]}),o(r),a.classList.remove(\\'hide\\')}).catch(function(n){a.parentNode.removeChild(a)}),e.forEach(function(n){n.addEventListener(\"mouseover\",function(n){return s(n.target)}),n.addEventListener(\"focus\",function(n){return s(n.target)})})})();</script>\\n  <script>\"use strict\";!(function(){var t=\"<li>\\\\n <a class=\\\\\"link_cont\\\\\" href=\\\\\"<%= url %>\\\\\">\\\\n <span class=\\\\\"wrap_thumb\\\\\">\\\\n <img class=\\\\\"thumb_g\\\\\" src=\\\\\"<%= thumbnail %>\\\\\" alt=\\\\\"\\\\\"/>\\\\n <span class=\\\\\"ico_phototv\\\\\">\\\\n <% if (type == \\'photo\\') { %>\\\\n <span class=\\\\\"ico_newsview ico_photo\\\\\">\\xed\\x8f\\xac\\xed\\x86\\xa0</span>\\\\n <% } else { %>\\\\n <span class=\\\\\"ico_newsview ico_vod\\\\\">\\xec\\x98\\x81\\xec\\x83\\x81</span>\\\\n <% } %>\\\\n </span>\\\\n </span>\\\\n <strong class=\\\\\"tit_thumb\\\\\"><%= title %></strong>\\\\n </a>\\\\n </li>\",o=document.querySelector(\\'.aside_phototv\\'),s=o.querySelector(\\'.list_phototv\\'),n=\"\".concat(Conf.api.hadesRest,\"/pc_photo_tv\");function a(n){n&&n.parentNode.removeChild(n)}axios.get(n).then(function(n){n=n.data.body.data;_.isEmpty(n)?a(o):(s.innerHTML=n.map(function(n){return _.template(t)(n)}).join(\\'\\'),(n=o)&&n.classList.remove(\\'hide\\'))}).catch(function(n){console.error(\\'[PC \\xeb\\x89\\xb4\\xec\\x8a\\xa4 \\xed\\x8f\\xac\\xed\\x86\\xa0&TV]:\\',n),a(o)})})();</script>\\n  <script>\"use strict\";!(function(){var n=\\'S570x320\\',e=\"20170615203441266\",t=encodeURIComponent(JSON.stringify({itemid:e,category:\"news\".replace(\\'tain\\',\\'\\')})),e={source:e},r=\"<a href=\\\\\"<%=obj.url%>\\\\\" class=\\\\\"link_cont\\\\\" data-itemid=\\\\\"<%=obj._id%>\\\\\"\\\\\" data-pos=\\\\\"<%=obj.pos%>\\\\\">\\\\n <span class=\\\\\"wrap_thumb\\\\\"><img src=\\\\\"<%=obj.thumbnail%>\\\\\" class=\\\\\"thumb_g\\\\\" alt=\\\\\"\\\\\"></span>\\\\n <strong class=\\\\\"tit_thumb\\\\\"><%=obj.title%></strong>\\\\n </a>\",o=\"<strong class=\\\\\"tit_g\\\\\">\\\\n <span class=\\\\\"info_news\\\\\"><%=obj.cp_name%></span>\\\\n <a href=\\\\\"<%=obj.url%>\\\\\" data-itemid=\\\\\"<%=obj._id%>\\\\\" data-pos=\\\\\"<%=obj.pos%>\\\\\" class=\\\\\"link_txt\\\\\"><%=obj.title%></a>\\\\n </strong>\",m=[];new Toros.Connector({url:\\'mediadaum/most_similar\\',queryParams:t,map:function(e){var t=e._id,a=e.title,i=e.image,e=e.cp_name,e={_id:t,url:\"https://v.daum.net/v/\".concat(t),title:a,thumbnail:StringUtil.makeThumbnail(i,n),cp_name:e};if(!(m.length<2&&i))return e;m.push(e)},svc:\\'mediadaum_sim\\',impLabel:\\'toros_mediadaum_sim_imp\\',impProps:e,viewLabel:\\'toros_mediadaum_sim_vimp\\',viewProps:e,clickLabel:\\'toros_mediadaum_sim_click\\',clickProps:e,customRender:function(e,i,n){var s=e.filter(function(e){return!!e._id});m.length<2||s.length<10?document.querySelector(\\'.realtime_news\\').remove():document.querySelectorAll(\\'.item_realtime_news\\').forEach(function(e,t){var a=t<2?{article:m.shift(),template:r}:{article:s.shift(),template:o},t=a.article,a=a.template;t?(e.insertAdjacentHTML(\\'beforeend\\',_.template(a)(t)),e.classList.remove(\\'item_realtime_news\\'),e.classList.length||e.removeAttribute(\\'class\\'),t=e.querySelector(\\'a\\'),i.observe(t),t.addEventListener(\\'click\\',n)):e.remove()})}}).render()})();</script>\\n  <script>\"use strict\";function onFailEtcBottomAd(){var t;null!==(t=document.querySelector(\\'.etc_bottom_ad\\'))&&void 0!==t&&t.remove()}</script>\\n  <script>\"use strict\";!(function(){var e=document.querySelector(\".direct_link\");e.querySelector(\".btn_fold\").addEventListener(\\'click\\',function(){e.classList.toggle(\"direct_open\")})})();</script>\\n  <script>\\n    window.minidaum_options = JSON.parse(\\'{\"bgType\":\"white\",\"enableLogoutRetun\":true,\"returnUrl\":\"\",\"disableHotissue\":false,\"disableLogo\":false,\"disableTracker\":true,\"enableTopLink\":false}\\');\\n</script>\\n  <script src=\"https://go.daum.net/minidaum_pc.daum\"></script>\\n  <script>\"use strict\";document.querySelectorAll(\\'.kakao_ad_area\\').forEach(function(a){a.setAttribute(\\'data-ad-param-channel\\',\\'harmony\\'),a.setAttribute(\\'data-ad-param-cp\\',\\'49_pc_media_news\\')});</script>\\n  <script>\"use strict\";!(function(){var e,t,i,c=\\'<div class=\"direct_view\" style=\"top:<%= top %>px; width:<%= width %>px; margin-left:<%= left %>px\"> <a href=\"<%= url %>\" class=\"link_view\"> <span class=\"txt_g\"><%= title %></span> <span class=\"ico_view\"> <span class=\"ico_newsview ico_gallery\">\\xea\\xb0\\xa4\\xeb\\x9f\\xac\\xeb\\xa6\\xac \\xec\\x9d\\xb4\\xeb\\x8f\\x99</span> </span> </a> </div>\\';e=\\'nkhSoinQsa\\',!(t=\\'\\')||(i=document.querySelector(\\'img[dmcf-mtype=\"image\"]\\'))&&!i.querySelector(\\'.direct_vod\\')&&axios.get(\"\".concat(Conf.api.hadesRest,\"/photo_gallery_link_info?docId=\").concat(e,\"&galleryId=\").concat(parseInt(t,10))).then(function(e){var t,a=e.data.body.data;t=i,a=(e=a).title,e=e.pcLink,a&&e&&(e={title:a,url:e,top:t.clientHeight-62,width:a=t.clientWidth,left:a/2*-1},a=document.createElement(\\'div\\'),t.parentNode.appendChild(a),a.outerHTML=_.template(c)(e))})})();</script>\\n  <script src=\"//search1.daumcdn.net/search/statics/common/js/g/search_dragselection.min.js\"></script>\\n  <script>\"use strict\";!(function(){var e=document.querySelector(\".head_media\"),n=document.getElementById(\"wrapMinidaum\").offsetHeight+e.offsetHeight,o=document.getElementById(\"barProgress\"),d=document.getElementById(\"mAside\"),s=document.getElementById(\"kakaoWrap\"),l=document.getElementById(\"kakaoGnb\"),r=document.getElementById(\"mArticle\"),a=document.querySelector(\".cmt_news\"),c=document.querySelector(\".aside_ad:first-child\"),f=document.querySelector(\".aside_ad:last-child\"),g=document.getElementById(\\'realtime_aside\\');function t(){var e=window.scrollY||window.pageYOffset,t=document.body.offsetHeight,i=window.innerHeight;n<e?(i=100*e/(t-i),s.classList.add(\"header_fixed\"),o.style.width=parseInt(i,10)+\"%\"):s.classList.remove(\"header_fixed\")}function i(){var e=window.scrollX||window.pageXOffset,t=cMain.clientWidth,i=r.clientWidth,n=t-i-d.clientWidth,o=getComputedStyle(cMain),s=null;s=g?(t=g.getBoundingClientRect().left)<880?t+e:t:i+n+parseInt(o[\\'marginLeft\\'],10)-e,r.offsetHeight<d.offsetHeight||(a.style.minHeight=\\'250px\\',0<(n=(window.scrollY||window.pageYOffset)-cMain.offsetTop-8-c.clientHeight)?(o=r.offsetHeight-a.offsetHeight,(e=d.offsetHeight-f.offsetHeight)+n+8<o?(d.style.position=\\'fixed\\',d.style.top=l.clientHeight-c.offsetHeight-74+\\'px\\',d.style.left=s+\\'px\\'):(d.style.position=\\'relative\\',d.style.top=o-e+\\'px\\',d.style.left=\\'inherit\\')):(d.style.position=\\'static\\',d.style.top=\\'inherit\\',d.style.left=\\'inherit\\'))}\\'false\\'!=\\'true\\'&&\\'news\\'==\\'news\\'?(window.addEventListener(\"resize\",_.throttle(i,100)),window.addEventListener(\"scroll\",_.throttle(function(){t(),i()},100)),t(),i()):(window.addEventListener(\"scroll\",_.throttle(function(){t()},100)),t())})();</script>\\n  <script type=\"text/javascript\" src=\"//t1.daumcdn.net/tiara/js/v1/tiara.min.js\"></script>\\n  <script>\"use strict\";!(function(){if(window.TiaraTracker){var c=!1,s=new Date,m=\"pc_news\",l=null;try{l=Cookies.get(\\'DAUMTOP\\')||Cookies.get(\\'HARMONY_TOROS_IMP\\')&&window.atob(Cookies.get(\\'HARMONY_TOROS_IMP\\'))}catch(e){l=Cookies.get(\\'DAUMTOP\\')}var u=\\'\\',g=\\'\\',y=TiaraTracker.getInstance().setSvcDomain(\"media.daum.net\").setPage(\"newsview\").trackPage(\"newsview\").setSection(\"economic\").setEnableAlwaysImage(!0),f={id:\"20170615203441266\",type:\"article\",name:\"\\\\uC794\\\\uAE08\\\\uB300\\\\uCD9C\\\\uC5D0\\\\uB3C4 DTI \\\\uADDC\\\\uC81C \\\\uC801\\\\uC6A9 \\\\uAC80\\\\uD1A0\",category_id:\"1041\",category:\"economic\",author:\"\\\\uAE40\\\\uB3D9\\\\uC6B1\",author_id:\"kdw1280@hankookilbo.com\",provider:\"\\\\uD55C\\\\uAD6D\\\\uC77C\\\\uBCF4\",provider_id:\"49\",regdate:\"2017-06-15 20:34:40\",plink:\"https://media.daum.net/v/20170615203441266\",image:\"https://t1.daumcdn.net/news/201706/15/hankooki/20170615044256378kzbd.jpg\",harmony_consumer_id:\"media\",media:\"pcweb\"},p={contentUniqueKey:\"hamny-\".concat(f.id),docId:\"nkhSoinQsa\",harmony_consumer_id:\"media\",media:\"pcweb\",reg_dt:\"2017-06-15 20:34:40\",reg_timestamp:\"1497526480954\"},e=function(){c||y.actionKind(\"ViewContent\").pageMeta(f).customProps(p).track()},t=function(){if(!c){c=!0;var e=document.body.scrollHeight,t=window.scrollY,a=e-t,o=window.innerHeight,n=Math.round(t/(e-o)*100),i={},o={duration:(new Date).getTime()-s.getTime(),scroll_percent:n,scroll_height:e,scroll_top:t,scroll_bottom:a,scroll_inner_height:o};try{var d,r=!1;!l||(d=JSON.parse(l)).contents_unique_key===p.contentUniqueKey&&(i={toros_imp_id:d.impression_id,toros_file_hash_key:d.toros_file_hash_key,toros_user_id_type:\"uuid\",toros_page_meta_id:p.contentUniqueKey,toros_event_meta_id:p.contentUniqueKey,toros_action_type:\"dwelltime\"},Cookies.remove(\\'HARMONY_TOROS_IMP\\',{path:\\'/\\',domain:location.hostname.substring(location.hostname.indexOf(\\'.\\'))}),Cookies.remove(\\'DAUMTOP\\',{path:\\'/\\',domain:\\'.daum.net\\'}),r=!0),!r&&0<u.length&&(i={toros_imp_id:window.atob(u),toros_file_hash_key:window.atob(g),toros_user_id_type:\"uuid\",toros_page_meta_id:p.contentUniqueKey,toros_event_meta_id:p.contentUniqueKey,toros_action_type:\"dwelltime\"})}catch(e){}y.trackUsage().actionKind(\"UsagePage\").pageMeta(f).usage(o).customProps(_.assignIn(p,i)).track()}};\"onpagehide\"in window?(window.addEventListener(\"pageshow\",e,!1),window.addEventListener(\"pagehide\",t,!1)):(window.addEventListener(\"load\",e,!1),window.addEventListener(\"unload\",t,!1)),document.addEventListener(\"visibilitychange\",function(){(document[\"hidden\"]?t:e)()},!1),document.addEventListener(\"mousedown\",function(e){var t,a,o,n,i,d,r=e.target,c=r.closest(\"[data-cloud]\"),s=r.closest(\"a\")||r.closest(\"button\")||r.closest(\\'div.selectionbox\\');s&&null!=c&&c.contains(s)&&((i=TiaraTracker.getClickInfo(e))&&(a=(null==(t=i.action)?void 0:t.name)||\"\",o=(null==t?void 0:t.kind)||\"\",n=_.assignIn(p,i.customProps),i=r.closest(\"[data-tiara]\"),r=s.querySelector(\"img\"),d=0,Array.from((c||i).querySelectorAll(\"a, button\")).map(function(e,t){e==s&&(d=t)}),e={layer1:m,layer2:c.dataset.cloud,layer3:(null==i?void 0:i.dataset.tiara)||\"\",click_url:s.href||\"\",ordnum:d,copy:s.classList.contains(\\'selectionbox\\')?null==t?void 0:t.name:s.innerText,image:(null==r?void 0:r.src)||\"\",posX:e.clientX,posY:e.clientY},y.trackEvent(a).pageMeta(f).actionKind(o).customProps(n).click(e).track()))})}})();</script>\\n </body>\\n</html>'\n"
     ]
    }
   ],
   "source": [
    "#res 객체에 HTML 데이터가 저장되고, res.content로 데이터를 추출할 수 있음\n",
    "res = requests.get('http://v.media.daum.net/v/20170615203441266')\n",
    "\n",
    "print(res.content)"
   ]
  },
  {
   "cell_type": "markdown",
   "id": "e0deb5c2",
   "metadata": {},
   "source": [
    "## HTML 페이지 Parsing"
   ]
  },
  {
   "cell_type": "markdown",
   "id": "461843c8",
   "metadata": {},
   "source": [
    "+ Parsing이란? \n",
    "    - 어떤 data를 원하는 form으로 만들어 내는 것\n",
    "    - 특정 문서(XML, HTML)을 읽어 다른 프로그램이나 서브루틴이 사용할 수 있는 내부의 표현 방식으로 변환해 주는 것\n",
    "    - 대표적인 Parsing 기법으로는 XML 파싱 기법인 DOM/SAX/JSON 파싱 기법이 있다.\n",
    "\n",
    "\n",
    "+ Parser\n",
    "    - Parsing이 반자동적으로 되게끔 해주는 도구"
   ]
  },
  {
   "cell_type": "code",
   "execution_count": 3,
   "id": "f730c17a",
   "metadata": {
    "ExecuteTime": {
     "end_time": "2021-06-24T04:53:32.966776Z",
     "start_time": "2021-06-24T04:53:32.951998Z"
    }
   },
   "outputs": [],
   "source": [
    "#BeauttifulSoup을 이용한  HTML 파싱 방법\n",
    "\n",
    "#가져온 content을 첫번째 인자로 넣어주고 어떤 방식으로 파싱할건지 뒤에 명시해준다.\n",
    "soup = BeautifulSoup(res.content, 'html.parser')"
   ]
  },
  {
   "cell_type": "code",
   "execution_count": 4,
   "id": "95c1675f",
   "metadata": {
    "ExecuteTime": {
     "end_time": "2021-06-24T04:53:32.999209Z",
     "start_time": "2021-06-24T04:53:32.967737Z"
    },
    "scrolled": true
   },
   "outputs": [
    {
     "data": {
      "text/plain": [
       "<!DOCTYPE doctype html>\n",
       "\n",
       "<html lang=\"ko\">\n",
       "<head data-cloud-area=\"head\">\n",
       "<meta charset=\"utf-8\"/>\n",
       "<meta content=\"IE=edge\" http-equiv=\"X-UA-Compatible\"/>\n",
       "<style>\n",
       "            @import url('//t1.daumcdn.net/harmony_static/cloud/page/ff00fb3074e05294cead40f5a7d788bcee30a89b.css');\n",
       "            @import url('//t1.daumcdn.net/harmony_static/cloud/2021/06/09/common.8599c65961395aebbd79.css')\n",
       "        </style>\n",
       "<style>\n",
       "            /* 다음 카페 소셜 쉐어 임시 비활성화 */\n",
       "            .list_sns li:nth-child(6) {\n",
       "                display: none;\n",
       "            }\n",
       "        </style>\n",
       "<meta content=\"nkhSoinQsa\" property=\"mccp:docId\"/>\n",
       "<meta content=\"다음뉴스\" property=\"og:site_name\"/>\n",
       "<meta content=\"잔금대출에도 DTI 규제 적용 검토\" property=\"og:title\"/>\n",
       "<meta content=\"20170615203440\" property=\"og:regDate\"/>\n",
       "<meta content=\"article\" property=\"og:type\"/>\n",
       "<meta content=\"https://news.v.daum.net/v/nkhSoinQsa\" property=\"og:url\"/>\n",
       "<meta content=\"https://img1.daumcdn.net/thumb/S1200x630/?fname=https://t1.daumcdn.net/news/201706/15/hankooki/20170615044256378kzbd.jpg\" property=\"og:image\"/>\n",
       "<meta content=\"1200\" property=\"og:image:width\"/>\n",
       "<meta content=\"630\" property=\"og:image:height\"/>\n",
       "<meta content=\"내주 부동산 종합대책 발표 집값 상승 노린 투기 분양 차단 LTVㆍDTI 규제 다시 강화할 듯 저소득 실수요자 피해 우려도 금융당국이 급증하는 가계부채 증가세를 막기 위해 아파트 잔금대출에도 소득을 따져 대출한도를 정하는 총부채상환비율(DTI)을 적용하는 방안을 유력하게 검토하고 있다. 지금은 집값을 기준으로 대출한도를 매기는 주택담보인정비율(LTV) 규제\" property=\"og:description\"/>\n",
       "<meta content=\"daumapps://web?url=https%3A%2F%2Fnews.v.daum.net/v/nkhSoinQsa\" property=\"al:android:url\"/>\n",
       "<meta content=\"net.daum.android.daum\" property=\"al:android:package\"/>\n",
       "<meta content=\"다음앱\" property=\"al:android:app_name\"/>\n",
       "<meta content=\"daumapps://web?url=https%3A%2F%2Fnews.v.daum.net/v/nkhSoinQsa\" property=\"al:ios:url\"/>\n",
       "<meta content=\"365494029\" property=\"al:ios:app_store_id\"/>\n",
       "<meta content=\"다음앱\" property=\"al:ios:app_name\"/>\n",
       "<meta content=\"summary_large_image\" property=\"twitter:card\"/>\n",
       "<meta content=\"daumapps://web?url=https%3A%2F%2Fnews.v.daum.net/v/nkhSoinQsa\" property=\"twitter:app:url:googleplay\"/>\n",
       "<meta content=\"net.daum.android.daum\" property=\"twitter:app:id:googleplay\"/>\n",
       "<meta content=\"다음앱\" property=\"twitter:app:name:googleplay\"/>\n",
       "<meta content=\"KR\" property=\"twitter:app:country\"/>\n",
       "<meta content=\"daumapps://web?url=https%3A%2F%2Fnews.v.daum.net/v/nkhSoinQsa\" property=\"twitter:app:url:iphone\"/>\n",
       "<meta content=\"365494029\" property=\"twitter:app:id:iphone\"/>\n",
       "<meta content=\"다음앱\" property=\"twitter:app:name:iphone\"/>\n",
       "<meta content=\"daumapps://web?url=https%3A%2F%2Fnews.v.daum.net/v/nkhSoinQsa\" property=\"twitter:app:url:ipad\"/>\n",
       "<meta content=\"365494029\" property=\"twitter:app:id:ipad\"/>\n",
       "<meta content=\"다음앱\" property=\"twitter:app:name:ipad\"/>\n",
       "<meta content=\"always\" name=\"referrer\"/>\n",
       "<title>잔금대출에도 DTI 규제 적용 검토</title>\n",
       "<link href=\"//m2.daumcdn.net/img-media/2010ci/Daum_favicon.ico\" rel=\"shortcut icon\"/>\n",
       "</head>\n",
       "<body class=\"\">\n",
       "<div id=\"kakaoIndex\"> <a href=\"#kakaoBody\">본문 바로가기</a> <a href=\"#kakaoGnb\">메뉴 바로가기</a>\n",
       "</div>\n",
       "<div class=\"newsview_media\" id=\"kakaoWrap\">\n",
       "<div id=\"wrapMinidaum\"></div>\n",
       "<div data-cloud-area=\"header\" id=\"kakaoHead\" role=\"banner\">\n",
       "<div class=\"head_media\" data-cloud=\"pc_header_gnb\">\n",
       "<h1> <a class=\"link_daum\" href=\"https://www.daum.net\"> <img alt=\"Daum\" class=\"thumb_g\" height=\"19\" src=\"//t1.daumcdn.net/media/news/news2016/retina/logo_daum.jpg\" width=\"45\"/> </a> <a href=\"//news.daum.net\" id=\"kakaoServiceLogo\"><span class=\"ir_wa\">뉴스</span></a> </h1> <strong class=\"screen_out\">관련서비스</strong>\n",
       "<ul id=\"kakaoRelServices\">\n",
       "<li><a class=\"link_services link_services1\" href=\"https://entertain.daum.net/\"><span class=\"ir_wa\">연예</span></a></li>\n",
       "<li><a class=\"link_services link_services2\" href=\"https://sports.daum.net/\"><span class=\"ir_wa\">스포츠</span></a></li>\n",
       "</ul>\n",
       "<h2 class=\"screen_out\">검색</h2>\n",
       "<div class=\"search_news\" id=\"search_news\">\n",
       "<form action=\"https://search.daum.net/search\" id=\"kakaoSearch\" method=\"get\" name=\"kakaoSearch\">\n",
       "<fieldset class=\"fld_inside\"> <legend class=\"screen_out\">검색어 입력폼</legend>\n",
       "<div class=\"box_searchbar\"> <label class=\"lab_search\" for=\"qVal\">통합검색</label>\n",
       "<input name=\"nil_profile\" type=\"hidden\" value=\"search\"/>\n",
       "<input name=\"nil_src\" type=\"hidden\" value=\"media\"/>\n",
       "<input name=\"DA\" type=\"hidden\" value=\"23A\"/>\n",
       "<input name=\"rtmaxcoll\" type=\"hidden\" value=\"NNS\"/>\n",
       "<input autocomplete=\"off\" class=\"tf_keyword\" id=\"qVal\" name=\"q\" spellcheck=\"false\" title=\"검색어 입력\" type=\"text\" value=\"\"/> <button class=\"btn_search\" id=\"kakaoBtnSearch\" type=\"submit\"><span class=\"ir_wa\">검색</span></button>\n",
       "</div>\n",
       "</fieldset>\n",
       "<div class=\"wrap_suggestBox\" id=\"wrap_suggestBox\">\n",
       "<div class=\"suggestBox box_sub\" id=\"suggestBox\">\n",
       "<div class=\"baseBox bg\" style=\"display: none\"></div>\n",
       "</div>\n",
       "</div>\n",
       "</form>\n",
       "</div>\n",
       "</div>\n",
       "<div data-cloud=\"pc_header_gnb\" id=\"kakaoGnb\" role=\"navigation\">\n",
       "<div class=\"inner_gnb\">\n",
       "<h2 class=\"screen_out\">뉴스 메인메뉴</h2>\n",
       "<ul class=\"gnb_comm\" data-category=\"economic\">\n",
       "<li class=\"home\"><a class=\"link_gnb link_gnb1\" href=\"//news.daum.net/\"><span class=\"ir_wa\">홈</span><span class=\"bar_gnb\"><span class=\"inner_bar\"></span></span></a></li>\n",
       "<li class=\"society\"><a class=\"link_gnb link_gnb2\" href=\"//news.daum.net/society/\"><span class=\"ir_wa\">사회</span><span class=\"bar_gnb\"><span class=\"inner_bar\"></span></span></a></li>\n",
       "<li class=\"politics\"><a class=\"link_gnb link_gnb3\" href=\"//news.daum.net/politics/\"><span class=\"ir_wa\">정치</span><span class=\"bar_gnb\"><span class=\"inner_bar\"></span></span></a></li>\n",
       "<li class=\"economic\"><a class=\"link_gnb link_gnb4\" href=\"//news.daum.net/economic/\"><span class=\"ir_wa\">경제</span><span class=\"bar_gnb\"><span class=\"inner_bar\"></span></span></a></li>\n",
       "<li class=\"foreign\"><a class=\"link_gnb link_gnb5\" href=\"//news.daum.net/foreign/\"><span class=\"ir_wa\">국제</span><span class=\"bar_gnb\"><span class=\"inner_bar\"></span></span></a></li>\n",
       "<li class=\"culture\"><a class=\"link_gnb link_gnb6\" href=\"//news.daum.net/culture/\"><span class=\"ir_wa\">문화</span><span class=\"bar_gnb\"><span class=\"inner_bar\"></span></span></a></li>\n",
       "<li class=\"digital\"><a class=\"link_gnb link_gnb7\" href=\"//news.daum.net/digital/\"><span class=\"ir_wa\">IT</span><span class=\"bar_gnb\"><span class=\"inner_bar\"></span></span></a></li>\n",
       "<li class=\"popular\"><a class=\"link_gnb link_gnb8\" href=\"//news.daum.net/ranking/popular\"><span class=\"ir_wa\">랭킹</span><span class=\"bar_gnb\"><span class=\"inner_bar\"></span></span></a></li>\n",
       "<li class=\"series editorial\"><a class=\"link_gnb link_gnb9\" href=\"//news.daum.net/series\"><span class=\"ir_wa\">연재</span><span class=\"bar_gnb\"><span class=\"inner_bar\"></span></span></a></li>\n",
       "<li class=\"photo\"><a class=\"link_gnb link_gnb10\" href=\"//news.daum.net/photo\"><span class=\"ir_wa\">포토</span><span class=\"bar_gnb\"><span class=\"inner_bar\"></span></span></a></li>\n",
       "<li class=\"tv\"><a class=\"link_gnb link_gnb11\" href=\"//news.daum.net/tv\"><span class=\"ir_wa\">TV</span><span class=\"bar_gnb\"><span class=\"inner_bar\"></span></span></a></li>\n",
       "</ul>\n",
       "<div class=\"gnb_etc\">\n",
       "<ul class=\"gnb_with\">\n",
       "<li><a class=\"link_gnb link_gnb2\" href=\"//gallery.v.daum.net/p/home\"><span class=\"ir_wa\">갤러리</span><span class=\"bar_gnb\"><span class=\"inner_bar\"></span></span></a></li>\n",
       "</ul>\n",
       "<div class=\"gnb_weather\"> <strong class=\"screen_out\">날씨 정보</strong>\n",
       "<div id=\"gnb_weather\">\n",
       "<ul class=\"list_weather\" data-nightyn=\"N\"></ul>\n",
       "</div>\n",
       "</div>\n",
       "</div>\n",
       "</div>\n",
       "</div>\n",
       "<div class=\"bar_progress\" data-cloud=\"pc_header_gnb\" id=\"barProgress\"></div>\n",
       "</div>\n",
       "<div id=\"dummyKakaoGnb\" style=\"height:137px; display:none;\"></div>\n",
       "<hr class=\"hide\"/>\n",
       "<div class=\"cont_view\" id=\"kakaoContent\" role=\"main\">\n",
       "<h2 class=\"screen_out\" id=\"kakaoBody\">경제</h2>\n",
       "<div data-cloud-area=\"title\" id=\"cSub\">\n",
       "<div class=\"head_view\" data-cloud=\"pc_article_title_and_util\"> <em class=\"info_cp\"> <a class=\"link_cp\" href=\"http://www.hankookilbo.com\" target=\"_blank\"> <img alt=\"한국일보\" class=\"thumb_g\" src=\"https://t1.daumcdn.net/media/news/news2016/cp/cp_hankooki.gif\"/> </a> </em>\n",
       "<h3 class=\"tit_view\" data-translation=\"true\">잔금대출에도 DTI 규제 적용 검토</h3> <span class=\"info_view\"> <span class=\"txt_info\">김동욱</span> <span class=\"txt_info\">입력 <span class=\"num_date\">2017. 06. 15. 20:34</span></span> <span class=\"txt_info\">수정 <span class=\"num_date\">2017. 06. 15. 21:31</span></span> <button class=\"emph_g2 link_cmt\" id=\"alexCounter\">댓글 <span class=\"alex-count-area\">0</span>개</button> </span>\n",
       "<div class=\"util_view\">\n",
       "<h4 class=\"screen_out\">기사 도구 모음</h4>\n",
       "<div class=\"btn_util util_summary\"> <button aria-expanded=\"false\" class=\"btn_summary\" type=\"button\"><span class=\"ico_newsview\">자동요약</span></button>\n",
       "<div class=\"wrap_setlayer\">\n",
       "<div class=\"layer_util layer_summary\">\n",
       "<p>금융당국이 급증하는 가계부채 증가세를 막기 위해 아파트 잔금대출에도 소득을 따져 대출한도를 정하는 총부채상환비율(DTI)을 적용하는 방안을 유력하게 검토하고 있다.</p>\n",
       "<p>지금은 집값을 기준으로 대출한도를 매기는 주택담보인정비율(LTV) 규제만 적용돼 소득이 없어도 집값의 70%를 빌려 잔금을 치르는 게 가능하다.</p>\n",
       "<p>앞으로 잔금대출에 DTI가 적용되면 소득이 없는 사람은 집값의 70% 대출 받는 게 어려워진다.</p> <span class=\"info_summary\"><span class=\"ico_newsview\"></span>기사 제목과 주요 문장을 기반으로 자동요약한 결과입니다. 전체 맥락을 이해하기 위해서는 본문 보기를 권장합니다.</span>\n",
       "</div>\n",
       "</div>\n",
       "</div>\n",
       "<div class=\"btn_util tts_btn\"> <button aria-expanded=\"false\" class=\"btn_set btn_tts\" type=\"button\"> <span class=\"ico_newsview ico_speak\">음성 기사 듣기</span> </button>\n",
       "<div class=\"wrap_setlayer\">\n",
       "<div class=\"layer_util layer_set layer_tts\"> <strong class=\"screen_out\">음성 기사 옵션 조절 레이어</strong>\n",
       "<ul class=\"list_set list_tts\">\n",
       "<li> <input class=\"screen_out\" id=\"ttsGenderMale\" name=\"ttsGender\" type=\"radio\" value=\"Male\"/> <label class=\"lab_set\" for=\"ttsGenderMale\"><span class=\"ico_newsview\"></span>남성</label> </li>\n",
       "<li> <input class=\"screen_out\" id=\"ttsGenderFemale\" name=\"ttsGender\" type=\"radio\" value=\"Female\"/> <label class=\"lab_set\" for=\"ttsGenderFemale\"><span class=\"ico_newsview\"></span>여성</label> </li>\n",
       "</ul>\n",
       "<ul class=\"list_set list_tts list_ttsspeed\">\n",
       "<li> <input class=\"screen_out\" id=\"ttsSpeedSlow\" name=\"ttsSpeed\" type=\"radio\" value=\"slow\"/> <label class=\"lab_set\" for=\"ttsSpeedSlow\"><span class=\"ico_newsview\"></span>느림</label> </li>\n",
       "<li> <input class=\"screen_out\" id=\"ttsSpeedNormal\" name=\"ttsSpeed\" type=\"radio\" value=\"normal\"/> <label class=\"lab_set\" for=\"ttsSpeedNormal\"><span class=\"ico_newsview\"></span>보통</label> </li>\n",
       "<li> <input class=\"screen_out\" id=\"ttsSpeedFast\" name=\"ttsSpeed\" type=\"radio\" value=\"fast\"/> <label class=\"lab_set\" for=\"ttsSpeedFast\"><span class=\"ico_newsview\"></span>빠름</label> </li>\n",
       "</ul>\n",
       "</div>\n",
       "</div>\n",
       "<audio id=\"ttsPlayer\" preload=\"none\" style=\"display:none\"></audio>\n",
       "</div>\n",
       "<div class=\"btn_util translate_btn\"> <button aria-expanded=\"false\" class=\"btn_set btn_translate #util #translate #set\" type=\"button\"><span class=\"ico_newsview\">번역 설정</span></button>\n",
       "<div class=\"wrap_translatelayer\">\n",
       "<div class=\"layer_util layer_translate\"> <strong class=\"tit_translate\">번역<span class=\"ico_newsview\">beta</span> </strong>\n",
       "<p class=\"desc_translate txt_newsview\">Translated by <a class=\"link_kakaoi #util #translate #kakaoi_link\" href=\"https://kakao.ai/\" target=\"_blank\">kakao i</a></p> <strong class=\"screen_out\">번역할 언어 선택</strong>\n",
       "<ul class=\"list_lang\">\n",
       "<li> <button class=\"btn_lang btn_en #util #translate #lang_en\" name=\"en\"> <span class=\"ico_newsview ico_flag\"></span> <strong class=\"ico_newsview tit_lang\">English</strong> </button> </li>\n",
       "<li> <button class=\"btn_lang btn_ch #util #translate #lang_cn\" name=\"cn\" type=\"button\"> <span class=\"ico_newsview ico_flag\"></span> <strong class=\"ico_newsview tit_lang\">简体中文</strong> </button> </li>\n",
       "<li> <button class=\"btn_lang btn_jp #util #translate #lang_jp\" name=\"jp\" type=\"button\"> <span class=\"ico_newsview ico_flag\"></span> <strong class=\"ico_newsview tit_lang\">日本語</strong> </button> </li>\n",
       "<li> <button class=\"btn_lang btn_ind #util #translate #lang_id\" name=\"id\" type=\"button\"> <span class=\"ico_newsview ico_flag\"></span> <strong class=\"ico_newsview tit_lang\">Bahasa Indonesia</strong> </button> </li>\n",
       "<li> <button class=\"btn_lang btn_viet #util #translate #lang_vi\" name=\"vi\" type=\"button\"> <span class=\"ico_newsview ico_flag\"></span> <strong class=\"ico_newsview tit_lang\">tiếng Việt</strong> </button> </li>\n",
       "<li> <button class=\"btn_lang btn_ko #util #translate #lang_kr\" name=\"kr\" type=\"button\"> <span class=\"ico_newsview ico_flag\"></span> <strong class=\"ico_newsview tit_lang\">한국어</strong> </button> </li>\n",
       "</ul>\n",
       "</div>\n",
       "</div>\n",
       "</div>\n",
       "<div class=\"btn_util share_btn\"> <button aria-expanded=\"false\" class=\"btn_set btn_share\" id=\"rSocialShareButton\"> <span class=\"ico_newsview\">공유</span> </button>\n",
       "<div id=\"rSocialShareLayerContainer\"></div>\n",
       "</div>\n",
       "<div class=\"btn_util font_btn\"> <button aria-expanded=\"false\" class=\"btn_set btn_font\" type=\"button\"> <span class=\"ico_newsview ico_font\">글씨크기 조절하기</span> </button>\n",
       "<div class=\"wrap_setlayer\">\n",
       "<div class=\"layer_util layer_set layer_font\"> <strong class=\"screen_out\">글자 크기 조절 레이어</strong>\n",
       "<ul class=\"list_set list_font\">\n",
       "<li> <input class=\"screen_out\" id=\"inpFont17\" name=\"inpFont\" type=\"radio\" value=\"17\"/> <label class=\"lab_set lab_size0\" for=\"inpFont17\"> <span class=\"ico_newsview\"></span> <span aria-hidden=\"true\">가나다라마바사</span> <span class=\"screen_out\">매우 작은 폰트</span> </label> </li>\n",
       "<li> <input class=\"screen_out\" id=\"inpFont18\" name=\"inpFont\" type=\"radio\" value=\"18\"/> <label class=\"lab_set lab_size1\" for=\"inpFont18\"> <span class=\"ico_newsview\"></span> <span aria-hidden=\"true\">가나다라마바사</span> <span class=\"screen_out\">작은 폰트</span> </label> </li>\n",
       "<li> <input class=\"screen_out\" id=\"inpFont19\" name=\"inpFont\" type=\"radio\" value=\"19\"/> <label class=\"lab_set lab_size2\" for=\"inpFont19\"> <span class=\"ico_newsview\"></span> <span aria-hidden=\"true\">가나다라마바사</span> <span class=\"screen_out\">보통 폰트</span> </label> </li>\n",
       "<li> <input class=\"screen_out\" id=\"inpFont20\" name=\"inpFont\" type=\"radio\" value=\"20\"/> <label class=\"lab_set lab_size3\" for=\"inpFont20\"> <span class=\"ico_newsview\"></span> <span aria-hidden=\"true\">가나다라마바사</span> <span class=\"screen_out\">큰 폰트</span> </label> </li>\n",
       "<li> <input class=\"screen_out\" id=\"inpFont21\" name=\"inpFont\" type=\"radio\" value=\"21\"/> <label class=\"lab_set lab_size4\" for=\"inpFont21\"> <span class=\"ico_newsview\"></span> <span aria-hidden=\"true\">가나다라마바사</span> <span class=\"screen_out\">매우 큰 폰트</span> </label> </li>\n",
       "</ul>\n",
       "</div>\n",
       "</div>\n",
       "</div>\n",
       "<div class=\"btn_util\"> <button class=\"btn_print\" type=\"button\"><span class=\"ico_newsview\">인쇄하기 새창열림</span></button>\n",
       "</div>\n",
       "</div>\n",
       "</div>\n",
       "</div>\n",
       "<div id=\"cMain\">\n",
       "<div id=\"mArticle\">\n",
       "<div data-cloud-area=\"article\">\n",
       "<div class=\"status_view\" data-cloud=\"pc_article_body\" id=\"translateNotice\" style=\"display:none;\"> <span class=\"notice_lang notice_lang_en\" style=\"display:none;\">The copyright belongs to the original writer of the content, and there may be errors in machine translation results.</span> <span class=\"notice_lang notice_lang_cn\" style=\"display:none;\">版权归内容原作者所有。机器翻译结果可能存在错误。</span> <span class=\"notice_lang notice_lang_jp\" style=\"display:none;\">原文の著作権は原著著作者にあり、機械翻訳の結果にエラーが含まれることがあります。</span> <span class=\"notice_lang notice_lang_id\" style=\"display:none;\">Hak cipta milik penulis asli dari konten, dan mungkin ditemukan kesalahan dalam hasil terjemahan mesin.</span> <span class=\"notice_lang notice_lang_vi\" style=\"display:none;\">Bản quyền thuộc về tác giả gốc của nội dung và có thể có lỗi trong kết quả dịch bằng máy.</span>\n",
       "</div>\n",
       "<div class=\"news_view\" data-cloud=\"pc_article_body\" style=\"font-size:17px\">\n",
       "<div class=\"article_view\" data-translation-body=\"true\" id=\"harmonyContainer\">\n",
       "<section dmcf-sid=\"ndxAvoEFLc\">\n",
       "<p dmcf-pid=\"nzrJ5KB3Cc\" dmcf-ptype=\"general\">내주 부동산 종합대책 발표</p>\n",
       "<p dmcf-pid=\"ncFbmYUgSc\" dmcf-ptype=\"general\">집값 상승 노린 투기 분양 차단</p>\n",
       "<p dmcf-pid=\"naDeB8j0HH\" dmcf-ptype=\"general\">LTVㆍDTI 규제 다시 강화할 듯</p>\n",
       "<p dmcf-pid=\"ngfl6lJwwk\" dmcf-ptype=\"general\">저소득 실수요자 피해 우려도</p>\n",
       "<figure class=\"figure_frm origin_fig\" dmcf-pid=\"nYQ8LWIMpD\" dmcf-ptype=\"figure\">\n",
       "<p class=\"link_figure\"><img class=\"thumb_g_article\" data-org-src=\"http://t1.daumcdn.net/news/201706/15/hankooki/20170615044256378kzbd.jpg\" data-org-width=\"330\" dmcf-mid=\"nkjJSoPdyb\" dmcf-mtype=\"image\" height=\"auto\" src=\"https://img2.daumcdn.net/thumb/R658x0.q70/?fname=http://t1.daumcdn.net/news/201706/15/hankooki/20170615044256378kzbd.jpg\" width=\"658\"/></p>\n",
       "</figure>\n",
       "<p dmcf-pid=\"n8guDAko3Z\" dmcf-ptype=\"general\">금융당국이 급증하는 가계부채 증가세를 막기 위해 아파트 잔금대출에도 소득을 따져 대출한도를 정하는 총부채상환비율(DTI)을 적용하는 방안을 유력하게 검토하고 있다. 지금은 집값을 기준으로 대출한도를 매기는 주택담보인정비율(LTV) 규제만 적용돼 소득이 없어도 집값의 70%를 빌려 잔금을 치르는 게 가능하다. 앞으로 잔금대출에 DTI가 적용되면 소득 없는 사람이 입주 뒤 집값 상승을 노리고 분양시장에 뛰어드는 게 사실상 불가능해진다. </p>\n",
       "<p dmcf-pid=\"nYPaCCRO1q\" dmcf-ptype=\"general\">금융당국 고위관계자는 15일 “잔금대출에도 DTI를 적용하는 방안을 검토 중”이라며 “다만 아직 최종 결론이 난 건 아니다”고 말했다. 정부는 내주 이 같은 내용을 포함한 부동산 종합 대책을 발표할 예정이다. </p>\n",
       "<p dmcf-pid=\"naZLBbSgoZ\" dmcf-ptype=\"general\">정부가 잔금대출 DTI 적용 카드를 꺼내는 건, 집단대출을 잡지 않고선 과열된 주택시장을 진정시키기 어렵다는 판단에서다. 실제 정부는 지난해 잔금대출도 대출 초기부터 원리금을 함께 갚도록 하는 여신심사 가이드라인을 도입했지만 이렇다 할 효과를 거두지 못했다. 오히려 정부 대책에도 불구, 집단대출 증가액은 매달 늘어나는 추세인데 지난달엔 2조원으로 올 들어 최고치를 기록했다. </p>\n",
       "<p dmcf-pid=\"nhAfneUtnA\" dmcf-ptype=\"general\">아파트 분양 집단대출은 중도금과 잔금대출로 구분된다. 계약금 10%를 내면 입주 전까지 집값의 60%를 중도금 대출로 받을 수 있다. 중도금 대출은 건설사 보증으로 이뤄져 소득심사를 안 거친다. 잔금대출은 건설사가 아닌 집을 담보로 이뤄지는 대출이다. LTV 규제만 적용돼 소득이 없어도 집값의 70%까지 대출이 가능하다. 때문에 지금은 잔금대출로 집값의 70%를 대출받아 기존 중도금 대출을 갚고 나머지 20%만 본인 돈으로 충당하면 집을 살 수 있다.</p>\n",
       "<p dmcf-pid=\"nCcfu6DK1b\" dmcf-ptype=\"general\">앞으로 잔금대출에 DTI가 적용되면 소득이 없는 사람은 집값의 70% 대출 받는 게 어려워진다. 입주 뒤 집값 상승을 노리는 투기수요를 확실히 걸러낼 초강력 대책이 될 수 있다. 하지만 부작용도 우려된다. 소득이 낮은 사회초년생 등은 청약통장을 갖고도 분양시장에 진입하는 게 어려워지기 때문이다. </p>\n",
       "<p dmcf-pid=\"nzh7QZekII\" dmcf-ptype=\"general\">이에 따라 잔금대출에 DTI를 적용하는 것 역시 지역 등에 따라 선별적으로 이뤄질 가능성이 높다. 현재 당국은 신규 분양 물량부터 규제를 적용할지 아니면 기존 분양 물량까지 규제 범위를 확대할지를 놓고 시뮬레이션을 하고 있다. </p>\n",
       "<p dmcf-pid=\"nihh22vlmu\" dmcf-ptype=\"general\">아울러 당국은 지난 2년간 완화됐던 LTV와 DTI를 다시 강화할 것으로 보인다. 현재 LTV(은행 기준)는 기존 50~60%에서 70%, DTI는 50~60%에서 60%로 완화돼 있는 상태다. 당국은 일괄적인 조이기보다 지역ㆍ집값 수준별로 기준을 다르게 적용하는 방식을 모색할 것으로 보인다.</p>\n",
       "<p dmcf-pid=\"naJ5HNfuMQ\" dmcf-ptype=\"general\">김동욱 기자 kdw1280@hankookilbo.com</p>\n",
       "</section>\n",
       "<p data-translation=\"true\">ⓒ한국일보 www.hankookilbo.com (무단복제 및 전재, 재배포를 금지합니다)</p>\n",
       "</div>\n",
       "</div>\n",
       "</div>\n",
       "<div class=\"foot_view\" data-cloud-area=\"addition\">\n",
       "<div class=\"emotion_wrap\" data-cloud=\"alex_action_emotion\">\n",
       "<div class=\"emotion_tit\"> <strong class=\"tit_emotion\">이 기사에 대해 어떻게 생각하시나요?</strong>\n",
       "</div>\n",
       "<div class=\"emotion_list\">\n",
       "<div class=\"alex-action\" data-action-mode=\"REACTION\" data-client-id=\"26BXAvKny5WF5Z09lr5k77Y8\" data-item-key=\"20170615203441266\" data-message-channel=\"alex-action-reactions\" data-on-select-animation-type=\"EXPAND\" data-selections=\"RECOMMEND,LIKE,IMPRESS,ANGRY,SAD\">\n",
       "</div>\n",
       "</div>\n",
       "</div>\n",
       "<div class=\"relate_series hide\" data-cloud=\"pc_news_cluster\"> <strong class=\"tit_series\"> <em class=\"tag_series\">연재</em> <span class=\"title_series\"></span> </strong>\n",
       "<ul class=\"list_series\"></ul> <a class=\"link_more\" href=\"#none\">더보기</a>\n",
       "</div>\n",
       "<div class=\"cp_view\" data-cloud=\"pc_related_news\">\n",
       "<div class=\"cp_tit\">\n",
       "<h3 class=\"tit_cp\">한국일보 주요 뉴스</h3>\n",
       "<p class=\"info_cp\">해당 언론사로 연결됩니다.</p>\n",
       "</div>\n",
       "<ul class=\"list_relate\">\n",
       "<li><a class=\"link_txt\" data-type=\"related\" href=\"http://www.hankookilbo.com/v/801b1cc777e5438f9aa8107a27ec29e1\" target=\"_blank\" title=\"[36.5°] 욕하면서 닮는 것도 적폐다\">[36.5°] 욕하면서 닮는 것도 적폐다</a></li>\n",
       "<li><a class=\"link_txt\" data-type=\"related\" href=\"http://www.hankookilbo.com/v/211ec3b6e3f441e394a0710975399045\" target=\"_blank\" title=\"실제와 너무 다른 '서울로 7017' 홍보 이미지\">실제와 너무 다른 '서울로 7017' 홍보 이미지</a></li>\n",
       "<li><a class=\"link_txt\" data-type=\"related\" href=\"http://www.hankookilbo.com/v/04b5627be58645dfa7960e16a4624b22\" target=\"_blank\" title=\"[영상] 동국대.충무로에서 인기 있는 맛집 BEST 5\">[영상] 동국대.충무로에서 인기 있는 맛집 BEST 5</a></li>\n",
       "<li><a class=\"link_txt\" data-type=\"related\" href=\"http://www.hankookilbo.com/v/dae59b9e0adfd851dae59b9e0adfd851\" target=\"_blank\" title='공승연 \"여진구 오빠 같아..잘생기면 오빠\"'>공승연 \"여진구 오빠 같아..잘생기면 오빠\"</a></li>\n",
       "<li><a class=\"link_txt\" data-type=\"related\" href=\"http://www.hankookilbo.com/v/6162946d032e4b53909f80f78ef9b69c\" target=\"_blank\" title='지드래곤 \"뭐가 문제죠?\".. USB 음반 논란 일격'>지드래곤 \"뭐가 문제죠?\".. USB 음반 논란 일격</a></li>\n",
       "</ul>\n",
       "</div>\n",
       "<div data-cloud=\"pc_article_bottom_ad\" id=\"alex-scroll-area\"></div>\n",
       "<ins class=\"kakao_ad_area recomm_ad\" data-ad-height=\"90\" data-ad-onfail=\"cmRenderFailCallBack\" data-ad-unit=\"DAN-1jezdswwiit7q\" data-ad-width=\"658\" data-cloud=\"pc_article_bottom_ad\" style=\"display:block; width: 658px; text-decoration: none; min-width: 658px;\"> </ins>\n",
       "<div class=\"cmt_news cmt_view\" data-cloud=\"pc_comment\">\n",
       "<div class=\"news_notice\" id=\"newsviewNotice\"></div>\n",
       "<div class=\"alex-area\" data-base-url=\"//comment.daum.net\" data-client-id=\"26BXAvKny5WF5Z09lr5k77Y8\" data-initial-limit=\"3\" data-is-mobile=\"false\" data-kakao-appkey=\"9076ba452fea1a434141d6b6a2c11a3c\" data-max-length=\"300\" data-page-limit=\"10\" data-post-id=\"@20170615203441266\" data-show-mask-alert=\"true\" data-sort=\"P\" data-use-attachment=\"false\" data-use-emoticon=\"true\" data-use-fold=\"true\" data-use-live-comment-mode=\"notify\" data-use-my=\"true\" data-use-official=\"true\" data-use-reply=\"true\" data-use-safebot=\"true\" data-use-skin=\"newsView\" data-use-social-share=\"true\" id=\"alex-area\">\n",
       "</div>\n",
       "</div>\n",
       "</div>\n",
       "</div>\n",
       "<div data-cloud-area=\"aside\" id=\"mAside\">\n",
       "<ins class=\"kakao_ad_area aside_g aside_ad\" data-ad-height=\"250\" data-ad-type=\"D\" data-ad-unit=\"05d24\" data-ad-width=\"250\" data-cloud=\"pc_aside_top_ad\" style=\"display:block;width:250px;height:250px;\"> </ins>\n",
       "<div class=\"aside_g aside_popular hide\" data-cloud=\"pc_popular_news\">\n",
       "<h3 class=\"txt_newsview\">많이본 뉴스</h3>\n",
       "<ul class=\"tab_aside tab_media\">\n",
       "<li class=\"on\"> <a class=\"link_tab link_tab2\" href=\"#none\">뉴스</a> </li>\n",
       "<li class=\"\"> <a class=\"link_tab link_tab3\" href=\"#none\">연예</a> </li>\n",
       "<li class=\"\"> <a class=\"link_tab link_tab4\" href=\"#none\">스포츠</a> </li>\n",
       "</ul>\n",
       "</div>\n",
       "<div class=\"aside_g aside_phototv hide\" data-cloud=\"pc_news_photo_tv\">\n",
       "<h3 class=\"txt_newsview\">포토&amp;TV</h3>\n",
       "<div class=\"cont_aside\">\n",
       "<ul class=\"list_phototv\"></ul>\n",
       "</div>\n",
       "</div>\n",
       "<ins class=\"kakao_ad_area aside_g aside_ad\" data-ad-height=\"250\" data-ad-type=\"D\" data-ad-unit=\"0QH44\" data-ad-width=\"250\" data-cloud=\"pc_aside_bottom_ad\" style=\"display:block;width:250px;height:250px;\"> </ins>\n",
       "</div>\n",
       "</div>\n",
       "<div id=\"cEtc\">\n",
       "<div class=\"realtime_view\">\n",
       "<div class=\"inner_realtime\">\n",
       "<div data-cloud-area=\"etc\">\n",
       "<div class=\"realtime_news\" data-cloud=\"pc_realtime_news\">\n",
       "<h3 class=\"txt_newsview\">이 시각 추천뉴스</h3>\n",
       "<ul class=\"list_realtime\">\n",
       "<li class=\"item_main item_realtime_news\"></li>\n",
       "<li class=\"item_main item_realtime_news\"></li>\n",
       "<li class=\"item_realtime_news\"></li>\n",
       "<li class=\"item_realtime_news\"></li>\n",
       "<li class=\"item_realtime_news\"></li>\n",
       "<li class=\"item_realtime_news\"></li>\n",
       "<li class=\"item_realtime_news\"></li>\n",
       "<li class=\"item_realtime_news\"></li>\n",
       "<li class=\"item_realtime_news\"></li>\n",
       "<li class=\"item_realtime_news\"></li>\n",
       "<li class=\"item_realtime_news\"></li>\n",
       "<li class=\"item_realtime_news\"></li>\n",
       "</ul>\n",
       "</div>\n",
       "</div>\n",
       "<div class=\"realtime_aside\" data-cloud-area=\"etc-aside\" id=\"realtime_aside\">\n",
       "<ins class=\"kakao_ad_area etc_bottom_ad\" data-ad-height=\"250\" data-ad-onfail=\"onFailEtcBottomAd\" data-ad-unit=\"DAN-kQxraZPBvpl52CWq\" data-ad-width=\"250\" data-cloud=\"pc_etc_bottom_ad\" style=\"display: block; width: 100%;\"> </ins>\n",
       "</div>\n",
       "</div>\n",
       "</div>\n",
       "<div data-cloud-area=\"etc-addition\">\n",
       "</div>\n",
       "</div>\n",
       "</div>\n",
       "<hr class=\"hide\"/>\n",
       "<div class=\"footer_comm\" data-cloud-area=\"footer\" id=\"kakaoFoot\" role=\"contentinfo\">\n",
       "<div class=\"inner_foot\" data-cloud=\"pc_footer\">\n",
       "<div class=\"direct_link\">\n",
       "<h2 class=\"tit_direct\">바로가기</h2>\n",
       "<div class=\"item_bundle\"> <a class=\"link_txt\" href=\"https://news.daum.net/\">뉴스홈</a> <a class=\"link_txt\" href=\"https://news.daum.net/society/\">사회</a> <a class=\"link_txt\" href=\"https://news.daum.net/politics/\">정치</a> <a class=\"link_txt\" href=\"https://news.daum.net/economic/\">경제</a> <a class=\"link_txt\" href=\"https://news.daum.net/foreign/\">국제</a> <a class=\"link_txt\" href=\"https://news.daum.net/culture/\">문화</a> <a class=\"link_txt\" href=\"https://news.daum.net/digital/\">IT</a> <a class=\"link_txt\" href=\"https://news.daum.net/photo/\">포토</a> <a class=\"link_txt\" href=\"https://news.daum.net/tv/\">TV</a>\n",
       "</div>\n",
       "<div class=\"item_bundle\"> <a class=\"link_txt\" href=\"https://news.daum.net/cp\">언론사별 뉴스</a>\n",
       "</div>\n",
       "<div class=\"item_bundle\"> <a class=\"link_txt\" href=\"https://news.daum.net/newsbox\">배열이력</a>\n",
       "</div>\n",
       "<div class=\"item_bundle\"> <a class=\"link_txt\" href=\"https://news.daum.net/breakingnews\">전체뉴스</a> <a class=\"link_txt\" href=\"https://news.daum.net/ranking/popular\">랭킹</a> <a class=\"link_txt\" href=\"https://news.daum.net/series\">연재</a>\n",
       "</div> <button class=\"btn_fold\" type=\"button\"><span class=\"ico_news\">바로가기 링크 더보기/접기</span></button>\n",
       "</div>\n",
       "<h2 class=\"screen_out\">서비스 이용정보</h2>\n",
       "<div class=\"footer_link\"> <a class=\"link_info\" href=\"https://news.daum.net/info/intro\">다음뉴스 소개</a> <span class=\"txt_dot\"> ・ </span> <a class=\"link_info\" href=\"https://news.daum.net/notice\">공지사항</a> <span class=\"txt_dot\"> ・ </span> <a class=\"link_info\" href=\"https://news.daum.net/info/bbsrule\">게시물 운영원칙</a> <span class=\"txt_dot\"> ・ </span> <a class=\"link_info\" href=\"https://policy.daum.net/info/info\">서비스 약관/정책</a> <span class=\"txt_dot\"> ・ </span> <a class=\"link_info\" href=\"https://with.kakao.com/media\">뉴스제휴</a> <span class=\"txt_dot\"> ・ </span> <a class=\"link_info\" href=\"https://business.kakao.com/\">비즈니스</a> <span class=\"txt_dot\"> ・ </span> <a class=\"link_info\" href=\"https://cs.daum.net/redbell/top.html\">권리침해신고</a> <span class=\"txt_dot\"> ・ </span> <a class=\"link_info\" href=\"https://cs.daum.net/faq/63.html\">다음뉴스 고객센터</a>\n",
       "</div>\n",
       "<div class=\"footer_link\"> <a class=\"link_info\" href=\"https://news.daum.net/info/newscenter24\">24시간 뉴스센터</a> <span class=\"txt_dot\"> ・ </span> <a class=\"link_info\" href=\"https://news.daum.net/info/edit\">서비스원칙</a> <span class=\"txt_dot\"> ・ </span> <a class=\"link_info\" href=\"https://news.daum.net/info/correct\">바로잡습니다</a> <span class=\"txt_dot\"> ・ </span> <span class=\"link_info\">기사배열책임자 : 김희정</span> <span class=\"txt_dot\"> ・ </span> <span class=\"link_info\">청소년보호책임자 : 이준목</span>\n",
       "</div>\n",
       "<div class=\"info_copyright\"> <strong class=\"info_warn\">위 내용에 대한 저작권 및 법적 책임은 자료제공사 또는 <br/>글쓴이에 있으며, Kakao의 입장과 다를 수 있습니다.</strong> <small class=\"txt_copyright\">Copyright © <strong class=\"txt_kakao\"><a class=\"link_kakao\" href=\"https://www.kakaocorp.com\">Kakao Corp.</a></strong> All rights reserved.</small>\n",
       "</div>\n",
       "</div>\n",
       "</div> <samp data-cloud-area=\"util\"> </samp>\n",
       "</div>\n",
       "<script src=\"//t1.daumcdn.net/harmony_static/cloud/2021/06/09/vendor.060f681fd55112aaf724.js\"></script>\n",
       "<script src=\"//t1.daumcdn.net/harmony_static/cloud/2021/06/09/common.8599c65961395aebbd79.js\"></script>\n",
       "<script src=\"//t1.daumcdn.net/kas/static/ba.min.js\"></script>\n",
       "<script src=\"//t1.daumcdn.net/kas/static/na.min.js\"></script>\n",
       "<script src=\"//m1.daumcdn.net/svc/original/U03/cssjs/userAgent/userAgent-1.0.12.min.js\"></script>\n",
       "<script>\"use strict\";function _classCallCheck(e,t){if(!(e instanceof t))throw new TypeError(\"Cannot call a class as a function\")}function _defineProperties(e,t){for(var a=0;a<t.length;a++){var n=t[a];n.enumerable=n.enumerable||!1,n.configurable=!0,\"value\"in n&&(n.writable=!0),Object.defineProperty(e,n.key,n)}}function _createClass(e,t,a){return t&&_defineProperties(e.prototype,t),a&&_defineProperties(e,a),e}!(function(){var a=\"<li>\\n <a href=\\\"https://search.daum.net/search?nil_suggest=btn&amp;w=tot&amp;DA=SBC&amp;q=<%= specialRegionName %>%20날씨\\\" class=\\\"link_cont\\\">\\n <span class=\\\"ico_weather ico_weather<%= weatherIconCode %>\\\"><%= specialRegionName %></span> \\n <span class=\\\"txt_weather\\\"><%= specialRegionName %>\\n <span class=\\\"num_heat\\\"><%= temperature %></span> \\n <span class=\\\"txt_heat\\\">℃</span>\\n </span>\\n </a>\\n </li>\",t=document.querySelector('.gnb_weather'),n=t.querySelector('ul'),e=\"\".concat(Conf.api.hadesRest,\"/pc_weather\");axios.get(e).then(function(e){var t=e.data.body.data,e=t.isNightIconYn,t=t.weatherData;n.dataset.nightyn=e,n.innerHTML=t.map(function(e){return _.template(a)(e)}).join('');new s(n)}).catch(function(e){t.parentNode.removeChild(t)});var s=(function(){function t(e){_classCallCheck(this,t),this.PAUSE_TIME=4e3,this.TRANSITION_TIME=500,this.list=e,this.frameId=null,this.pause=this.pause.bind(this),this.start=this.start.bind(this),this.moveUp=this.moveUp.bind(this),this.init(),this.start(),this.list.style.marginTop='0px'}return _createClass(t,[{key:\"start\",value:function(){this.frameId=setInterval(this.moveUp,this.PAUSE_TIME)}},{key:\"pause\",value:function(){clearInterval(this.frameId)}},{key:\"moveUp\",value:function(){var e=this.list,t=e.firstElementChild.cloneNode(!0);e.classList.add('slidein'),e.style.marginTop='-30px',setTimeout(function(){e.classList.remove('slidein'),e.style.marginTop='0px',e.removeChild(e.firstElementChild),e.appendChild(t)},this.TRANSITION_TIME)}},{key:\"init\",value:function(){var t=this,e=this.list;e.addEventListener('mouseenter',this.pause),e.addEventListener('mouseleave',this.start),e.querySelectorAll('a').forEach(function(e){e.addEventListener('focus',t.pause),e.addEventListener('blur',t.start)})}}]),t})()})();</script>\n",
       "<script>\"use strict\";!(function(){var e=-1<''.indexOf('tv_news')?'tv':'economic',t=document.querySelector('.gnb_comm');(t=e&&t.querySelector(\".\".concat(e)))&&t.setAttribute('class',\"\".concat(e,\" on\"))})();</script>\n",
       "<script src=\"https://t1.daumcdn.net/cssjs/jquery/jquery-1.9.0.min.js\"></script>\n",
       "<script src=\"https://search1.daumcdn.net/search/suggest_pc/suggest-1.2.16.min.js\"></script>\n",
       "<script>\"use strict\";!(function(){document.getElementById('search_news'),new suggest.Suggest(document.getElementById(\"search_news\"),{inputEl:'qVal',suggestBoxEl:'suggestBox',autoFocus:'NORMAL',suggestLimit:10,isReverse:!1,searchURL:'https://search.daum.net/search',APIServer:{host:'//dapi.kakao.com/suggest/v2/pc.json',apiType:suggest.Suggest.APITYPE.DAPISUGGEST,appkey:'d7022f6ca2a04430ce1b97b922da58e8',queries:{mod:'json',code:'utf_in_out'}}}).on('click-item',function(){var e=document.getElementById('kakaoSearch');e.querySelector(\"input[name='DA']\").value='23B',e.submit()});var t=document.getElementById('qVal');t.addEventListener?(t.addEventListener('focus',function(e){e&&e.preventDefault(),0<=t.value.length&&t.parentNode.classList.add('search_on')}),t.addEventListener('blur',function(e){e&&e.preventDefault(),0===t.value.length&&t.parentNode.classList.remove('search_on')})):(t.attachEvent('onfocus',function(e){e&&(e.preventDefault?e.preventDefault():e.returnValue=!1),0<=t.value.length&&t.parentNode.setAttribute('class','box_searchbar search_on')}),t.attachEvent('onblur',function(e){e&&(e.preventDefault?e.preventDefault():e.returnValue=!1),0===t.value.length&&t.parentNode.setAttribute('class','box_searchbar')}))})(jQuery);</script>\n",
       "<script src=\"//t1.daumcdn.net/daumtop_deco/socialshare/socialshare_nocss_pc-2.4.2.js\"></script>\n",
       "<script>\"use strict\";!(function(){var t=document.querySelector('.util_summary'),r=t.querySelector('.btn_summary'),e=t.querySelectorAll(\".layer_summary p\"),n=!1;function i(){t.classList.remove('layer_open'),r.setAttribute('aria-expanded',!1)}function a(e){if(e.target===r||e.target===r.children[0])return!1;i(),window.removeEventListener('click',a)}e.forEach(function(e){return e.classList.add(\"desc_news\")}),r.addEventListener('click',function(e){(n=!n)?(t.classList.add('layer_open'),r.setAttribute('aria-expanded',!0),window.addEventListener('click',a)):i()}),r.addEventListener('blur',function(e){n=!1,i()})})();</script>\n",
       "<script>\"use strict\";function _slicedToArray(e,t){return _arrayWithHoles(e)||_iterableToArrayLimit(e,t)||_unsupportedIterableToArray(e,t)||_nonIterableRest()}function _nonIterableRest(){throw new TypeError(\"Invalid attempt to destructure non-iterable instance.\\nIn order to be iterable, non-array objects must have a [Symbol.iterator]() method.\")}function _unsupportedIterableToArray(e,t){if(e){if(\"string\"==typeof e)return _arrayLikeToArray(e,t);var n=Object.prototype.toString.call(e).slice(8,-1);return\"Object\"===n&&e.constructor&&(n=e.constructor.name),\"Map\"===n||\"Set\"===n?Array.from(e):\"Arguments\"===n||/^(?:Ui|I)nt(?:8|16|32)(?:Clamped)?Array$/.test(n)?_arrayLikeToArray(e,t):void 0}}function _arrayLikeToArray(e,t){(null==t||t>e.length)&&(t=e.length);for(var n=0,r=new Array(t);n<t;n++)r[n]=e[n];return r}function _iterableToArrayLimit(e,t){if(\"undefined\"!=typeof Symbol&&Symbol.iterator in Object(e)){var n=[],r=!0,o=!1,a=void 0;try{for(var i,s=e[Symbol.iterator]();!(r=(i=s.next()).done)&&(n.push(i.value),!t||n.length!==t);r=!0);}catch(e){o=!0,a=e}finally{try{r||null==s[\"return\"]||s[\"return\"]()}finally{if(o)throw a}}return n}}function _arrayWithHoles(e){if(Array.isArray(e))return e}!(function(){var t,e,n,r,o,a='VIEW_TTS',i='v.daum.net',s={slow_Male:'http://k-v1.kakaocdn.net/dn/NOgW7/btqgKWvtqGv/CQTdjDUR8uSGZXdMgPZ7A1/original.m4a',normal_Male:'http://k-v1.kakaocdn.net/dn/cXPoNE/btqgLdpZ1XH/0kIcLNoARmcaqkhk2SHU4K/original.m4a',fast_Male:'http://k-v1.kakaocdn.net/dn/b66M8d/btqgLjKgomG/D2ix5CwksQaIhaKc9AfHL1/original.m4a',slow_Female:'http://k-v1.kakaocdn.net/dn/9mKZv/btqgLi5D021/JsjWeBVKUi4p9QRJq2yB40/original.m4a',normal_Female:'http://k-v1.kakaocdn.net/dn/l2fEG/btqgLdXP5vd/SuJrPdCJIMDyKW75c5vnk1/original.m4a',fast_Female:'http://k-v1.kakaocdn.net/dn/bn9fI7/btqgLkColIa/XkhP2boJTxpSGpaZ0Nnsjk/original.m4a'},l=document.querySelector('.util_view .tts_btn'),c=l.querySelectorAll('.list_tts input'),u=l.querySelector('.btn_tts'),d=l.querySelector('.ico_speak'),y=l.querySelector('.wrap_setlayer').querySelectorAll('.ico_newsview'),f=l.querySelector('#ttsPlayer');function m(){var e,t,n,r,o=(e=l.querySelector('input[name=ttsSpeed]:checked').value,t=l.querySelector('input[name=ttsGender]:checked').value,\"\".concat(e,\"_\").concat(t));f.setAttribute('src',s[o]),n=o,Cookies.set(a,'',{expires:-1}),Cookies.set(a,n,{domain:i,expires:new Date(1*new Date+365*864e5)}),r=o,u.className='btn_set btn_tts #util #tts #p_'+r}function p(e){'playOptions'==e?(m(),f.load(),f.play(),d.textContent='음성 기사 정지'):'play'==e?(f.load(),f.play(),d.textContent='음성 기사 정지'):(f[e](),d.textContent='음성 기사 듣기')}function v(){clearTimeout(n),t.classList.add('layer_open'),e.setAttribute('aria-expanded',!0)}function _(){r||(n=setTimeout(b,100))}function b(){t.classList.remove('layer_open'),e.setAttribute('aria-expanded',!1)}function L(e){e?t.classList.add('on'):t.classList.remove('on')}function h(e,t){document.getElementById(\"ttsSpeed\".concat(e)).checked=!0,document.getElementById(\"ttsGender\".concat(t)).checked=!0}t=(o={layer:l,btn:u,radios:c}).layer,e=o.btn,o=o.radios,r=!(n=0),t.addEventListener('mouseover',function(e){r=!0,v()}),t.addEventListener('mouseleave',function(e){r=!1,_()}),e.addEventListener('keydown',function(e){13===e.keyCode&&((r=!r)?v:b)()}),t.addEventListener('blur',function(e){r=!1,_()}),e.addEventListener('click',function(e){f.paused?(L(!0),p('play')):(L(!1),p('pause'))}),o.forEach(function(e){e.addEventListener('change',function(e){t.classList.add('on'),p('playOptions')}),e.addEventListener('blur',function(e){r=!1,_()}),e.addEventListener('focus',function(e){r=!0,v()})}),y=(o={icons:y,radios:c}).icons,c=o.radios,y.forEach(function(e){e.addEventListener('mouseover',function(e){this.classList.add('ico_focused')}),e.addEventListener('mouseleave',function(e){this.classList.remove('ico_focused')})}),c.forEach(function(e){e.addEventListener('focus',function(e){this.nextElementSibling.querySelector('span').classList.add('ico_focused')}),e.addEventListener('blur',function(e){this.nextElementSibling.querySelector('span').classList.remove('ico_focused')})}),f.addEventListener('ended',function(e){l.classList.remove('on')}),void 0===(o=Cookies.get(a))||o.includes('undefined')?h('Normal','Male'):(c=(y=_slicedToArray(o.split('_'),2))[0],y=y[1],h(c=(o=c).charAt(0).toUpperCase()+o.slice(1),y)),m()})();</script>\n",
       "<script>\"use strict\";!(function(){var n=document.createElement('DIV');n.innerHTML=\"\\n <div id=\\\"translatingLayer\\\" class=\\\"translate_layer\\\">\\n <div class=\\\"inner_translate_layer\\\">\\n <div class=\\\"layer_body\\\">\\n <strong class=\\\"tit_translate\\\">\\n 번역중 <span class=\\\"eng_tit\\\">Now in translation</span>\\n </strong>\\n </div>\\n </div>\\n </div>\\n\\n <div id=\\\"translateErrorLayer\\\" class=\\\"translate_layer\\\">\\n <div class=\\\"inner_translate_layer inner_error_layer\\\">\\n <div class=\\\"layer_body\\\">\\n <span class=\\\"ico_newsview ico_error\\\"></span>\\n <strong class=\\\"tit_translate\\\">\\n 잠시 후 다시 시도해 주세요 <span class=\\\"eng_tit\\\">Please try again in a moment</span>\\n </strong>\\n </div>\\n </div>\\n </div>\\n \",document.body.querySelector(\"#kakaoWrap\").appendChild(n)})();</script>\n",
       "<script>\"use strict\";function _toConsumableArray(e){return _arrayWithoutHoles(e)||_iterableToArray(e)||_unsupportedIterableToArray(e)||_nonIterableSpread()}function _nonIterableSpread(){throw new TypeError(\"Invalid attempt to spread non-iterable instance.\\nIn order to be iterable, non-array objects must have a [Symbol.iterator]() method.\")}function _unsupportedIterableToArray(e,t){if(e){if(\"string\"==typeof e)return _arrayLikeToArray(e,t);var n=Object.prototype.toString.call(e).slice(8,-1);return\"Object\"===n&&e.constructor&&(n=e.constructor.name),\"Map\"===n||\"Set\"===n?Array.from(e):\"Arguments\"===n||/^(?:Ui|I)nt(?:8|16|32)(?:Clamped)?Array$/.test(n)?_arrayLikeToArray(e,t):void 0}}function _iterableToArray(e){if(\"undefined\"!=typeof Symbol&&Symbol.iterator in Object(e))return Array.from(e)}function _arrayWithoutHoles(e){if(Array.isArray(e))return _arrayLikeToArray(e)}function _arrayLikeToArray(e,t){(null==t||t>e.length)&&(t=e.length);for(var n=0,r=new Array(t);n<t;n++)r[n]=e[n];return r}!(function(){var e,t,n,r,a=document.querySelector('.translate_btn'),o=a.querySelector('.btn_translate'),l=a.querySelector('.link_kakaoi'),s=a.querySelectorAll('.btn_lang'),i=document.getElementById('translatingLayer'),c=document.getElementById('translateErrorLayer'),y=document.getElementById('kakaoWrap');function u(){i.style.display='none',c.style.display='none',document.body.style.overflow=''}function d(){clearTimeout(e),t.classList.add('layer_open'),n.setAttribute('aria-expanded',!0)}function f(){t.classList.remove('layer_open'),n.setAttribute('aria-expanded',!1)}function p(){r||(e=setTimeout(f,1))}function m(e){var t=e.currentTarget.name;u(),i.style.display='block',document.body.style.overflow='hidden';try{HarmonyTranslator.translate('kr',t,_,b)}catch(e){console.error('번역 에러:',e)}}function _(e){var t=document.querySelector('#translateNotice'),e=e.targetLang;switch(e){case'en':case'id':y.classList.add('lang_type1'),y.classList.remove('lang_type2'),y.classList.remove('lang_type3');break;case'cn':case'jp':y.classList.remove('lang_type1'),y.classList.add('lang_type2'),y.classList.remove('lang_type3');break;case'vi':y.classList.remove('lang_type1'),y.classList.remove('lang_type2'),y.classList.add('lang_type3');break;default:y.classList.remove('lang_type1'),y.classList.remove('lang_type2'),y.classList.remove('lang_type3')}'kr'==e?(t.querySelectorAll('.notice_lang').forEach(function(e){e.style.display='none'}),t.style.display='none'):(t.querySelectorAll(\".notice_lang:not(.notice_lang_\".concat(e,\")\")).forEach(function(e){e.style.display='none'}),t.querySelector(\".notice_lang.notice_lang_\".concat(e)).style.display='block',t.style.display='block'),setTimeout(function(){u()},500)}function b(e,t){u(),c.style.display='block',document.body.style.overflow='hidden',setTimeout(function(){u()},2e3)}l={layer:a,btn:o,inputs:[l].concat(_toConsumableArray(s))},t=l.layer,n=l.btn,l=l.inputs,r=!1,n.addEventListener('click',function(){((r=!r)?d:p)()}),t.addEventListener('mouseover',function(){r=!0,d()}),t.addEventListener('mouseleave',function(){r=!1,f()}),l.forEach(function(e){e.addEventListener('focus',function(e){r=!0,d()}),e.addEventListener('blur',function(e){r=!1,p()})}),s.forEach(function(e){e.addEventListener('click',m)})})();</script>\n",
       "<script>\"use strict\";!(function(){var e,t=(o='잔금대출에도 DTI 규제 적용 검토',(c=document.createElement('div')).innerHTML=o,c.textContent),a='20170615203441266'||'nkhSoinQsa',n=\"\".concat(location.protocol,\"//\").concat(location.host,\"/v/\").concat(a),o=\"http://scrap.cafe.daum.net/_dss_/scrap?folder_id=100000&source_location_code=10&target_location_code=1&data_id=\".concat(a),c={shareType:'sendScrap',shareData:{requestUrl:n,templateId:7952,installTalk:!0,templateArgs:{'${EncodingUrl}':encodeURIComponent(n),'${webUrl}':n+'?f=p','${mobileWebUrl}':n+'?f=m'}}},r=document.querySelector('.share_btn'),i=document.getElementById('rSocialShareButton'),a=document.getElementById('rSocialShareLayerContainer'),d=new socialshareRenewal.Main(i,{moreViewContainer:a,action:'hover',link:n,prefix:t,service_name:'다음뉴스',cafe:o,kakaoAPI:{appkey:'53e566aa17534bc816eb1b5d8f7415ee',kakaoLinkData:c}}),s=!1;function l(){e=setTimeout(function(){s=!1,r.classList.remove('layer_open'),i.setAttribute('aria-expanded',!1),d.close()},100)}function u(){s=!0,m(),r.classList.add('layer_open'),i.setAttribute('aria-expanded',!0),d.open()}function m(){clearTimeout(e)}i.addEventListener('mouseenter',u),i.addEventListener('mouseleave',l),i.addEventListener('click',function(e){(s?l:u)()}),a.addEventListener('mouseenter',m),a.addEventListener('mouseleave',l),a.querySelectorAll('a').forEach(function(e){e.addEventListener('focus',m),e.addEventListener('blur',l)})})();</script>\n",
       "<script>\"use strict\";!(function(){var e,t,n,o,i=document.querySelector('.news_view'),s=document.querySelector('.font_btn'),c=s.querySelector('.btn_font'),r=s.querySelector('.list_font'),u=r.querySelectorAll('input'),a='GS_font_size',l='v.daum.net';function d(e){i.style.fontSize=\"\".concat(e,\"px\"),document.querySelector(\"#inpFont\".concat(e)).checked=!0,r.querySelectorAll('label').forEach(function(e){return e.classList.remove('on')}),r.querySelector(\"label[for=inpFont\".concat(e,\"]\")).classList.add('on'),e=e,Cookies.set(a,'',{expires:-1}),Cookies.set(a,e,{domain:l,expires:new Date(1*new Date+365*864e5)})}function f(){clearTimeout(e),t.classList.add('layer_open'),n.setAttribute('aria-expanded',!0)}function v(){t.classList.remove('layer_open'),n.setAttribute('aria-expanded',!1)}function p(){o&&(e=setTimeout(v,1))}d(Cookies.get(a)||17),u.forEach(function(e){e.addEventListener('change',function(e){d(e.target.value)})}),t=(c={layer:s,btn:c,inputs:u}).layer,n=c.btn,c=c.inputs,o=!1,t.addEventListener('mouseover',function(){o=!0,f()}),t.addEventListener('mouseleave',function(){o=!1,v()}),c.forEach(function(e){e.addEventListener('focus',f),e.addEventListener('blur',p)}),n.addEventListener('click',function(e){((o=!o)?f:v)()}),s={options:s.querySelectorAll('.ico_newsview'),inputs:u},u=s.options,s=s.inputs,u.forEach(function(e){e.addEventListener('mouseover',function(){this.classList.add('ico_focused')}),e.addEventListener('mouseleave',function(){this.classList.remove('ico_focused')})}),s.forEach(function(e){e.addEventListener('focus',function(){this.nextElementSibling.querySelector('span').classList.add('ico_focused')}),e.addEventListener('blur',function(){this.nextElementSibling.querySelector('span').classList.remove('ico_focused')})})})();</script>\n",
       "<script>\"use strict\";document.body.querySelector(\".btn_print\").parentNode.addEventListener(\"click\",function(t){t.preventDefault(),window.open('https://news.v.daum.net/v/20170615203441266?s=print_news','newsPrint','width=750,height=550,scrollbars=yes')});</script>\n",
       "<script src=\"//comment.daum.net/js/latest/alex.action.min.js\" type=\"text/javascript\"></script>\n",
       "<script>\"use strict\";!(function(){var s=\"20170615203441266\",e=\"\".concat(Conf.api.hadesRest,\"/pc_mc2_news?cate=\").concat(\"news\",\"&id=\").concat(s),a='<li class=\"on\"> <div class=\"inner_box\"><span class=\"link_txt\"><%= title %></span></div> </li>',i='<li> <div class=\"inner_box\"><a href=\"https://news.v.daum.net/v/<%= contentId %>\" class=\"link_txt\"><%= title %></a></div> </li>',c='//news.daum.net/series',r=document.querySelector('.relate_series'),o=r.querySelector('.title_series'),d=r.querySelector('.link_more'),l=r.querySelector('.list_series');function m(e){e&&e.parentNode.removeChild(e)}axios.get(e).then(function(e){var t,n=e.data.body.data.data;_.isEmpty(n)||'series'!==n[0].factor.type?m(r):(t=n[0],e=t.contents,n=t._id,t=t.title,e.length<3&&l.classList.add('relate_series2'),o.textContent=t,d.setAttribute('href',c+'/'+n),l.innerHTML=e.map(function(e){var t=e.contentId,e=e.title;return t==s?_.template(a)({title:e}):_.template(i)({contentId:t,title:e})}).join(''),(e=r)&&e.classList.remove('hide'))}).catch(function(e){console.error(\"[클러스터]: 데이터를 가져오는데 실패했습니다. 에러: \",e,\"에러 데이터: \",e.response.data),m(r)})})();</script>\n",
       "<script>\"use strict\";function cmRenderFailCallBack(e){e.parentElement.removeChild(e)}</script>\n",
       "<script>\"use strict\";document.addEventListener('DOMContentLoaded',function(){var t=\"\".concat(Conf.api.hadesRest)+\"/service_notice?id=\"+\"3393\",n=document.querySelector(\"#newsviewNotice\");axios.get(t).then(function(t){var e=t.data.body.data,t=e.noticeTitle,e=e.noticeUrl;null!==t?n.innerHTML=\"<strong class=\\\"tit_notice\\\">공지</strong><span class=\\\"txt_notice\\\"><a href=\\\"\".concat(e,\"\\\" class=\\\"link_txt\\\">\").concat(t,\"</a></span>\"):n.parentNode.removeChild(n)}).catch(function(t){console.log(\"댓글 공지 오류: \"+t),n.parentNode.removeChild(n)})});</script>\n",
       "<script src=\"//comment.daum.net/js/latest/alex.single.min.js\"></script>\n",
       "<script>\"use strict\";window.excludeCorejs=!1,window.alexConfig={label:{emptyImage:'//i1.daumcdn.net/img-section/enter2013/liveviewer/pc_emot_co.gif'},onLoad:function(){window.isLoadComment=!0}};</script>\n",
       "<script>\"use strict\";!(function(){var t,n,a=document.querySelector('.aside_popular'),e=document.querySelectorAll(\".tab_aside li a\"),i={\"뉴스\":\"news\",\"연예\":\"entertain\",\"스포츠\":\"sports\"},c={news:{el:e[0],korName:\"뉴스\",moreLink:\"https://news.daum.net/ranking/popular/all\"},entertain:{el:e[1],korName:\"연예\",moreLink:\"https://entertain.daum.net/ranking/popular\"},sports:{el:e[2],korName:\"스포츠\",moreLink:\"https://sports.daum.net/news/ranking\"}},r=c[\"news\"].el,l=1;function s(n){var e;r!==n&&((e=r.parentNode.querySelector(\".cont_aside\"))&&e.parentNode.removeChild(e),r.parentNode.classList.remove(\"on\"),n.parentNode.classList.add(\"on\"),l=1,o(n),r=n)}function o(n){var e=n.innerText,t=i[e],a=c[t].moreLink,s=document.createElement(\"div\"),t=d(t);function o(){var n=document.querySelector(\".cont_aside .list_ranking\"),e=r.innerText,e=i[e];l=this.classList.contains(\"btn_prev\")?1===l?3:l-1:3===l?1:l+1,n.innerHTML=d(e)}s.classList.add(\"cont_aside\"),s.innerHTML=\"\\n <strong class=\\\"screen_out\\\">\".concat(e,\"</strong>\\n <ol class=\\\"list_ranking\\\">\\n \").concat(t,\" \\n </ol>\\n <div class=\\\"util_aside\\\">\\n <button class=\\\"btn_slide btn_prev\\\"><span class=\\\"ico_newsview\\\">이전</span></button>\\n <button class=\\\"btn_slide btn_next\\\"><span class=\\\"ico_newsview\\\">다음</span></button>\\n <a href=\").concat(a,\" class=\\\"link_all\\\"><span class=\\\"txt_newsview\\\">전체 보기</span><span class=\\\"ico_newsview\\\"></span></a>\\n </div>\\n \"),n.parentNode.appendChild(s),s.querySelector(\".btn_prev\").addEventListener('click',o),s.querySelector(\".btn_next\").addEventListener('click',o)}function d(n){return c[n].contents.slice(10*(l-1),10*l).map(function(n){return\"\\n <li>\\n <em class=\\\"num_newsview num\".concat(n.index,\"\\\">\").concat(n.index,\"위</em>\\n <strong class=\\\"tit_g\\\"><a href=\\\"\").concat(n.pcLink,\"\\\" class=\\\"link_txt @\").concat(n.index,\"\\\">\").concat(n.title,\"</a></strong>\\n </li>\\n \")}).join('')}t=c,n=\"\".concat(Conf.api.hadesRest,\"/pc_popular_news?size=30\"),axios.get(n).then(function(n){var e=n.data.body.data;Object.keys(e).forEach(function(n){t[n].contents=e[n]}),o(r),a.classList.remove('hide')}).catch(function(n){a.parentNode.removeChild(a)}),e.forEach(function(n){n.addEventListener(\"mouseover\",function(n){return s(n.target)}),n.addEventListener(\"focus\",function(n){return s(n.target)})})})();</script>\n",
       "<script>\"use strict\";!(function(){var t=\"<li>\\n <a class=\\\"link_cont\\\" href=\\\"<%= url %>\\\">\\n <span class=\\\"wrap_thumb\\\">\\n <img class=\\\"thumb_g\\\" src=\\\"<%= thumbnail %>\\\" alt=\\\"\\\"/>\\n <span class=\\\"ico_phototv\\\">\\n <% if (type == 'photo') { %>\\n <span class=\\\"ico_newsview ico_photo\\\">포토</span>\\n <% } else { %>\\n <span class=\\\"ico_newsview ico_vod\\\">영상</span>\\n <% } %>\\n </span>\\n </span>\\n <strong class=\\\"tit_thumb\\\"><%= title %></strong>\\n </a>\\n </li>\",o=document.querySelector('.aside_phototv'),s=o.querySelector('.list_phototv'),n=\"\".concat(Conf.api.hadesRest,\"/pc_photo_tv\");function a(n){n&&n.parentNode.removeChild(n)}axios.get(n).then(function(n){n=n.data.body.data;_.isEmpty(n)?a(o):(s.innerHTML=n.map(function(n){return _.template(t)(n)}).join(''),(n=o)&&n.classList.remove('hide'))}).catch(function(n){console.error('[PC 뉴스 포토&TV]:',n),a(o)})})();</script>\n",
       "<script>\"use strict\";!(function(){var n='S570x320',e=\"20170615203441266\",t=encodeURIComponent(JSON.stringify({itemid:e,category:\"news\".replace('tain','')})),e={source:e},r=\"<a href=\\\"<%=obj.url%>\\\" class=\\\"link_cont\\\" data-itemid=\\\"<%=obj._id%>\\\"\\\" data-pos=\\\"<%=obj.pos%>\\\">\\n <span class=\\\"wrap_thumb\\\"><img src=\\\"<%=obj.thumbnail%>\\\" class=\\\"thumb_g\\\" alt=\\\"\\\"></span>\\n <strong class=\\\"tit_thumb\\\"><%=obj.title%></strong>\\n </a>\",o=\"<strong class=\\\"tit_g\\\">\\n <span class=\\\"info_news\\\"><%=obj.cp_name%></span>\\n <a href=\\\"<%=obj.url%>\\\" data-itemid=\\\"<%=obj._id%>\\\" data-pos=\\\"<%=obj.pos%>\\\" class=\\\"link_txt\\\"><%=obj.title%></a>\\n </strong>\",m=[];new Toros.Connector({url:'mediadaum/most_similar',queryParams:t,map:function(e){var t=e._id,a=e.title,i=e.image,e=e.cp_name,e={_id:t,url:\"https://v.daum.net/v/\".concat(t),title:a,thumbnail:StringUtil.makeThumbnail(i,n),cp_name:e};if(!(m.length<2&&i))return e;m.push(e)},svc:'mediadaum_sim',impLabel:'toros_mediadaum_sim_imp',impProps:e,viewLabel:'toros_mediadaum_sim_vimp',viewProps:e,clickLabel:'toros_mediadaum_sim_click',clickProps:e,customRender:function(e,i,n){var s=e.filter(function(e){return!!e._id});m.length<2||s.length<10?document.querySelector('.realtime_news').remove():document.querySelectorAll('.item_realtime_news').forEach(function(e,t){var a=t<2?{article:m.shift(),template:r}:{article:s.shift(),template:o},t=a.article,a=a.template;t?(e.insertAdjacentHTML('beforeend',_.template(a)(t)),e.classList.remove('item_realtime_news'),e.classList.length||e.removeAttribute('class'),t=e.querySelector('a'),i.observe(t),t.addEventListener('click',n)):e.remove()})}}).render()})();</script>\n",
       "<script>\"use strict\";function onFailEtcBottomAd(){var t;null!==(t=document.querySelector('.etc_bottom_ad'))&&void 0!==t&&t.remove()}</script>\n",
       "<script>\"use strict\";!(function(){var e=document.querySelector(\".direct_link\");e.querySelector(\".btn_fold\").addEventListener('click',function(){e.classList.toggle(\"direct_open\")})})();</script>\n",
       "<script>\n",
       "    window.minidaum_options = JSON.parse('{\"bgType\":\"white\",\"enableLogoutRetun\":true,\"returnUrl\":\"\",\"disableHotissue\":false,\"disableLogo\":false,\"disableTracker\":true,\"enableTopLink\":false}');\n",
       "</script>\n",
       "<script src=\"https://go.daum.net/minidaum_pc.daum\"></script>\n",
       "<script>\"use strict\";document.querySelectorAll('.kakao_ad_area').forEach(function(a){a.setAttribute('data-ad-param-channel','harmony'),a.setAttribute('data-ad-param-cp','49_pc_media_news')});</script>\n",
       "<script>\"use strict\";!(function(){var e,t,i,c='<div class=\"direct_view\" style=\"top:<%= top %>px; width:<%= width %>px; margin-left:<%= left %>px\"> <a href=\"<%= url %>\" class=\"link_view\"> <span class=\"txt_g\"><%= title %></span> <span class=\"ico_view\"> <span class=\"ico_newsview ico_gallery\">갤러리 이동</span> </span> </a> </div>';e='nkhSoinQsa',!(t='')||(i=document.querySelector('img[dmcf-mtype=\"image\"]'))&&!i.querySelector('.direct_vod')&&axios.get(\"\".concat(Conf.api.hadesRest,\"/photo_gallery_link_info?docId=\").concat(e,\"&galleryId=\").concat(parseInt(t,10))).then(function(e){var t,a=e.data.body.data;t=i,a=(e=a).title,e=e.pcLink,a&&e&&(e={title:a,url:e,top:t.clientHeight-62,width:a=t.clientWidth,left:a/2*-1},a=document.createElement('div'),t.parentNode.appendChild(a),a.outerHTML=_.template(c)(e))})})();</script>\n",
       "<script src=\"//search1.daumcdn.net/search/statics/common/js/g/search_dragselection.min.js\"></script>\n",
       "<script>\"use strict\";!(function(){var e=document.querySelector(\".head_media\"),n=document.getElementById(\"wrapMinidaum\").offsetHeight+e.offsetHeight,o=document.getElementById(\"barProgress\"),d=document.getElementById(\"mAside\"),s=document.getElementById(\"kakaoWrap\"),l=document.getElementById(\"kakaoGnb\"),r=document.getElementById(\"mArticle\"),a=document.querySelector(\".cmt_news\"),c=document.querySelector(\".aside_ad:first-child\"),f=document.querySelector(\".aside_ad:last-child\"),g=document.getElementById('realtime_aside');function t(){var e=window.scrollY||window.pageYOffset,t=document.body.offsetHeight,i=window.innerHeight;n<e?(i=100*e/(t-i),s.classList.add(\"header_fixed\"),o.style.width=parseInt(i,10)+\"%\"):s.classList.remove(\"header_fixed\")}function i(){var e=window.scrollX||window.pageXOffset,t=cMain.clientWidth,i=r.clientWidth,n=t-i-d.clientWidth,o=getComputedStyle(cMain),s=null;s=g?(t=g.getBoundingClientRect().left)<880?t+e:t:i+n+parseInt(o['marginLeft'],10)-e,r.offsetHeight<d.offsetHeight||(a.style.minHeight='250px',0<(n=(window.scrollY||window.pageYOffset)-cMain.offsetTop-8-c.clientHeight)?(o=r.offsetHeight-a.offsetHeight,(e=d.offsetHeight-f.offsetHeight)+n+8<o?(d.style.position='fixed',d.style.top=l.clientHeight-c.offsetHeight-74+'px',d.style.left=s+'px'):(d.style.position='relative',d.style.top=o-e+'px',d.style.left='inherit')):(d.style.position='static',d.style.top='inherit',d.style.left='inherit'))}'false'!='true'&&'news'=='news'?(window.addEventListener(\"resize\",_.throttle(i,100)),window.addEventListener(\"scroll\",_.throttle(function(){t(),i()},100)),t(),i()):(window.addEventListener(\"scroll\",_.throttle(function(){t()},100)),t())})();</script>\n",
       "<script src=\"//t1.daumcdn.net/tiara/js/v1/tiara.min.js\" type=\"text/javascript\"></script>\n",
       "<script>\"use strict\";!(function(){if(window.TiaraTracker){var c=!1,s=new Date,m=\"pc_news\",l=null;try{l=Cookies.get('DAUMTOP')||Cookies.get('HARMONY_TOROS_IMP')&&window.atob(Cookies.get('HARMONY_TOROS_IMP'))}catch(e){l=Cookies.get('DAUMTOP')}var u='',g='',y=TiaraTracker.getInstance().setSvcDomain(\"media.daum.net\").setPage(\"newsview\").trackPage(\"newsview\").setSection(\"economic\").setEnableAlwaysImage(!0),f={id:\"20170615203441266\",type:\"article\",name:\"\\uC794\\uAE08\\uB300\\uCD9C\\uC5D0\\uB3C4 DTI \\uADDC\\uC81C \\uC801\\uC6A9 \\uAC80\\uD1A0\",category_id:\"1041\",category:\"economic\",author:\"\\uAE40\\uB3D9\\uC6B1\",author_id:\"kdw1280@hankookilbo.com\",provider:\"\\uD55C\\uAD6D\\uC77C\\uBCF4\",provider_id:\"49\",regdate:\"2017-06-15 20:34:40\",plink:\"https://media.daum.net/v/20170615203441266\",image:\"https://t1.daumcdn.net/news/201706/15/hankooki/20170615044256378kzbd.jpg\",harmony_consumer_id:\"media\",media:\"pcweb\"},p={contentUniqueKey:\"hamny-\".concat(f.id),docId:\"nkhSoinQsa\",harmony_consumer_id:\"media\",media:\"pcweb\",reg_dt:\"2017-06-15 20:34:40\",reg_timestamp:\"1497526480954\"},e=function(){c||y.actionKind(\"ViewContent\").pageMeta(f).customProps(p).track()},t=function(){if(!c){c=!0;var e=document.body.scrollHeight,t=window.scrollY,a=e-t,o=window.innerHeight,n=Math.round(t/(e-o)*100),i={},o={duration:(new Date).getTime()-s.getTime(),scroll_percent:n,scroll_height:e,scroll_top:t,scroll_bottom:a,scroll_inner_height:o};try{var d,r=!1;!l||(d=JSON.parse(l)).contents_unique_key===p.contentUniqueKey&&(i={toros_imp_id:d.impression_id,toros_file_hash_key:d.toros_file_hash_key,toros_user_id_type:\"uuid\",toros_page_meta_id:p.contentUniqueKey,toros_event_meta_id:p.contentUniqueKey,toros_action_type:\"dwelltime\"},Cookies.remove('HARMONY_TOROS_IMP',{path:'/',domain:location.hostname.substring(location.hostname.indexOf('.'))}),Cookies.remove('DAUMTOP',{path:'/',domain:'.daum.net'}),r=!0),!r&&0<u.length&&(i={toros_imp_id:window.atob(u),toros_file_hash_key:window.atob(g),toros_user_id_type:\"uuid\",toros_page_meta_id:p.contentUniqueKey,toros_event_meta_id:p.contentUniqueKey,toros_action_type:\"dwelltime\"})}catch(e){}y.trackUsage().actionKind(\"UsagePage\").pageMeta(f).usage(o).customProps(_.assignIn(p,i)).track()}};\"onpagehide\"in window?(window.addEventListener(\"pageshow\",e,!1),window.addEventListener(\"pagehide\",t,!1)):(window.addEventListener(\"load\",e,!1),window.addEventListener(\"unload\",t,!1)),document.addEventListener(\"visibilitychange\",function(){(document[\"hidden\"]?t:e)()},!1),document.addEventListener(\"mousedown\",function(e){var t,a,o,n,i,d,r=e.target,c=r.closest(\"[data-cloud]\"),s=r.closest(\"a\")||r.closest(\"button\")||r.closest('div.selectionbox');s&&null!=c&&c.contains(s)&&((i=TiaraTracker.getClickInfo(e))&&(a=(null==(t=i.action)?void 0:t.name)||\"\",o=(null==t?void 0:t.kind)||\"\",n=_.assignIn(p,i.customProps),i=r.closest(\"[data-tiara]\"),r=s.querySelector(\"img\"),d=0,Array.from((c||i).querySelectorAll(\"a, button\")).map(function(e,t){e==s&&(d=t)}),e={layer1:m,layer2:c.dataset.cloud,layer3:(null==i?void 0:i.dataset.tiara)||\"\",click_url:s.href||\"\",ordnum:d,copy:s.classList.contains('selectionbox')?null==t?void 0:t.name:s.innerText,image:(null==r?void 0:r.src)||\"\",posX:e.clientX,posY:e.clientY},y.trackEvent(a).pageMeta(f).actionKind(o).customProps(n).click(e).track()))})}})();</script>\n",
       "</body>\n",
       "</html>"
      ]
     },
     "execution_count": 4,
     "metadata": {},
     "output_type": "execute_result"
    }
   ],
   "source": [
    "#읽을 수 있게 변환되어 나온다\n",
    "soup"
   ]
  },
  {
   "cell_type": "code",
   "execution_count": 5,
   "id": "2a16d7f3",
   "metadata": {
    "ExecuteTime": {
     "end_time": "2021-06-24T04:53:33.002468Z",
     "start_time": "2021-06-24T04:53:33.000685Z"
    }
   },
   "outputs": [
    {
     "name": "stdout",
     "output_type": "stream",
     "text": [
      "<title>잔금대출에도 DTI 규제 적용 검토</title>\n",
      "잔금대출에도 DTI 규제 적용 검토\n"
     ]
    }
   ],
   "source": [
    "#필요한 데이터 검색\n",
    "title = soup.find('title')\n",
    "print(title)\n",
    "\n",
    "#필요한 데이터 추출 (위에서 검색한 title 제목을 string으로 추출)\n",
    "print(title.get_text())"
   ]
  },
  {
   "cell_type": "markdown",
   "id": "6dee3511",
   "metadata": {},
   "source": [
    "## 다양한 라이브러리 활용"
   ]
  },
  {
   "cell_type": "markdown",
   "id": "b8da9f72",
   "metadata": {},
   "source": [
    "### find() vs find_all() "
   ]
  },
  {
   "cell_type": "markdown",
   "id": "e8be031c",
   "metadata": {},
   "source": [
    "+ find() : 가장 먼저 검색되는 태그 반환\n",
    "\n",
    "\n",
    "+ find_all() : 전체 태그 반환\n",
    "\n",
    "\n",
    "+ cf) soup.string은 Tag내 자식이 둘 이상이면 None을 반환. 하나이면 문자열로 반환\n",
    "https://hogni.tistory.com/21"
   ]
  },
  {
   "cell_type": "code",
   "execution_count": 6,
   "id": "77f99050",
   "metadata": {
    "ExecuteTime": {
     "end_time": "2021-06-24T04:53:33.005852Z",
     "start_time": "2021-06-24T04:53:33.003330Z"
    }
   },
   "outputs": [
    {
     "name": "stdout",
     "output_type": "stream",
     "text": [
      "<h1 id=\"title\">\n",
      "<p class=\"cssstyle\">웹페이지에서 필요한 데이터를 추출하는 것</p>\n",
      "<p align=\"center\" id=\"body\">파이썬을 중심으로 다양한 웹크롤링\n",
      "        기술 발달</p>\n",
      "</h1>\n",
      "---------------------\n",
      "None\n",
      "---------------------\n",
      "\n",
      "웹페이지에서 필요한 데이터를 추출하는 것\n",
      "파이썬을 중심으로 다양한 웹크롤링\n",
      "        기술 발달\n",
      "\n"
     ]
    }
   ],
   "source": [
    "#필요한 html을 만들어주자\n",
    "html = \"\"\"\n",
    "<html>\n",
    "    <body>\n",
    "        <h1 id='title'>\n",
    "        <p class='cssstyle'>웹페이지에서 필요한 데이터를 추출하는 것</p>\n",
    "        <p id='body' align='center'>파이썬을 중심으로 다양한 웹크롤링\n",
    "        기술 발달</p>\n",
    "    </body>\n",
    "</html>\n",
    "\"\"\"\n",
    "\n",
    "#위에서 html로 짜주었기 때문에 html.content 할 필요없이 그냥 html을 넣으면 됨\n",
    "soup = BeautifulSoup(html, 'html.parser')\n",
    "\n",
    "title_data = soup.find('h1')\n",
    "\n",
    "print(title_data)\n",
    "print('---------------------')\n",
    "print(title_data.string)\n",
    "print('---------------------')\n",
    "print(title_data.get_text())"
   ]
  },
  {
   "cell_type": "code",
   "execution_count": 7,
   "id": "19a60ec7",
   "metadata": {
    "ExecuteTime": {
     "end_time": "2021-06-24T04:53:33.010800Z",
     "start_time": "2021-06-24T04:53:33.008347Z"
    }
   },
   "outputs": [
    {
     "name": "stdout",
     "output_type": "stream",
     "text": [
      "<p class=\"cssstyle\">웹페이지에서 필요한 데이터를 추출하는 것</p>\n",
      "-----------------------\n"
     ]
    },
    {
     "data": {
      "text/plain": [
       "[<p class=\"cssstyle\">웹페이지에서 필요한 데이터를 추출하는 것</p>,\n",
       " <p align=\"center\" id=\"body\">파이썬을 중심으로 다양한 웹크롤링\n",
       "         기술 발달</p>]"
      ]
     },
     "execution_count": 7,
     "metadata": {},
     "output_type": "execute_result"
    }
   ],
   "source": [
    "#find : 가장 먼저 검색되는 태그를 반환\n",
    "paragraph_data = soup.find('p')\n",
    "\n",
    "print(paragraph_data)\n",
    "print('-----------------------')\n",
    "\n",
    "#find_all() : 모든 태그를 반환\n",
    "soup.find_all('p')"
   ]
  },
  {
   "cell_type": "code",
   "execution_count": 8,
   "id": "63925da4",
   "metadata": {
    "ExecuteTime": {
     "end_time": "2021-06-24T04:53:33.014285Z",
     "start_time": "2021-06-24T04:53:33.012248Z"
    }
   },
   "outputs": [
    {
     "name": "stdout",
     "output_type": "stream",
     "text": [
      "[<p class=\"cssstyle\">웹페이지에서 필요한 데이터를 추출하는 것</p>, <p align=\"center\" id=\"body\">파이썬을 중심으로 다양한 웹크롤링\n",
      "        기술 발달</p>]\n",
      "웹페이지에서 필요한 데이터를 추출하는 것\n",
      "파이썬을 중심으로 다양한 웹크롤링\n",
      "        기술 발달\n"
     ]
    }
   ],
   "source": [
    "#find_all() : 관련된 모든 데이터를 리스트 형태로 추출하는 함수 \n",
    "paragraph_data = soup.find_all('p')\n",
    "\n",
    "print(paragraph_data)\n",
    "print(paragraph_data[0].get_text())\n",
    "print(paragraph_data[1].get_text())"
   ]
  },
  {
   "cell_type": "markdown",
   "id": "689dbd7c",
   "metadata": {},
   "source": [
    "### 태그에 있는 id로 검색"
   ]
  },
  {
   "cell_type": "code",
   "execution_count": 9,
   "id": "f0d029e5",
   "metadata": {
    "ExecuteTime": {
     "end_time": "2021-06-24T04:53:33.017296Z",
     "start_time": "2021-06-24T04:53:33.015151Z"
    }
   },
   "outputs": [
    {
     "name": "stdout",
     "output_type": "stream",
     "text": [
      "<h1 id=\"title\">\n",
      "<p class=\"cssstyle\">웹페이지에서 필요한 데이터를 추출하는 것</p>\n",
      "<p align=\"center\" id=\"body\">파이썬을 중심으로 다양한 웹크롤링\n",
      "        기술 발달</p>\n",
      "</h1>\n",
      "--------------------\n",
      "None\n",
      "--------------------\n",
      "\n",
      "웹페이지에서 필요한 데이터를 추출하는 것\n",
      "파이썬을 중심으로 다양한 웹크롤링\n",
      "        기술 발달\n",
      "\n"
     ]
    }
   ],
   "source": [
    "title_data = soup.find(id='title')\n",
    "\n",
    "print(title_data)\n",
    "print('--------------------')\n",
    "print(title_data.string)\n",
    "print('--------------------')\n",
    "print(title_data.get_text())"
   ]
  },
  {
   "cell_type": "markdown",
   "id": "0af5cc6a",
   "metadata": {},
   "source": [
    "### HTML 태그와 CSS class를 활용해서 데이터 추출"
   ]
  },
  {
   "cell_type": "code",
   "execution_count": 10,
   "id": "8481eecf",
   "metadata": {
    "ExecuteTime": {
     "end_time": "2021-06-24T04:53:33.019709Z",
     "start_time": "2021-06-24T04:53:33.017913Z"
    }
   },
   "outputs": [
    {
     "name": "stdout",
     "output_type": "stream",
     "text": [
      "<p class=\"cssstyle\">웹페이지에서 필요한 데이터를 추출하는 것</p>\n",
      "--------------------\n",
      "웹페이지에서 필요한 데이터를 추출하는 것\n",
      "--------------------\n",
      "웹페이지에서 필요한 데이터를 추출하는 것\n"
     ]
    }
   ],
   "source": [
    "paragraph_data = soup.find(\"p\", class_=\"cssstyle\")\n",
    "# paragraph_data = soup.find('p', 'cssstyle') <- 이렇게 적어도 됨\n",
    "print(paragraph_data)\n",
    "print(\"--------------------\")\n",
    "print(paragraph_data.string)\n",
    "print(\"--------------------\")\n",
    "print(paragraph_data.get_text())"
   ]
  },
  {
   "cell_type": "markdown",
   "id": "5c44673e",
   "metadata": {},
   "source": [
    "### HTML 태그와 태그에 있는 속성값을 활용하여 데이터 추출"
   ]
  },
  {
   "cell_type": "code",
   "execution_count": 11,
   "id": "3b28dbbe",
   "metadata": {
    "ExecuteTime": {
     "end_time": "2021-06-24T04:53:33.022044Z",
     "start_time": "2021-06-24T04:53:33.020369Z"
    }
   },
   "outputs": [
    {
     "name": "stdout",
     "output_type": "stream",
     "text": [
      "<p align=\"center\" id=\"body\">파이썬을 중심으로 다양한 웹크롤링\n",
      "        기술 발달</p>\n",
      "--------------------\n",
      "파이썬을 중심으로 다양한 웹크롤링\n",
      "        기술 발달\n",
      "--------------------\n",
      "파이썬을 중심으로 다양한 웹크롤링\n",
      "        기술 발달\n"
     ]
    }
   ],
   "source": [
    "# p 태그 중 align 속성의 값이 center인 것을 가져온다\n",
    "paragraph_data = soup.find('p', attrs={'align': 'center'})\n",
    "\n",
    "print(paragraph_data)\n",
    "print(\"--------------------\")\n",
    "print(paragraph_data.string)\n",
    "print(\"--------------------\")\n",
    "print(paragraph_data.get_text())"
   ]
  },
  {
   "cell_type": "markdown",
   "id": "f7f8d1a2",
   "metadata": {},
   "source": [
    "### 태그가 아닌 문자열 자체로 검색, 정규표현식 "
   ]
  },
  {
   "cell_type": "code",
   "execution_count": 13,
   "id": "5a341c38",
   "metadata": {
    "ExecuteTime": {
     "end_time": "2021-06-24T04:53:43.395010Z",
     "start_time": "2021-06-24T04:53:43.391843Z"
    }
   },
   "outputs": [],
   "source": [
    "import re"
   ]
  },
  {
   "cell_type": "code",
   "execution_count": 14,
   "id": "6c272865",
   "metadata": {
    "ExecuteTime": {
     "end_time": "2021-06-24T04:53:45.099137Z",
     "start_time": "2021-06-24T04:53:44.797123Z"
    }
   },
   "outputs": [
    {
     "name": "stdout",
     "output_type": "stream",
     "text": [
      "['오대석']\n",
      "['오대석']\n",
      "[]\n",
      "[이주의해시태그-#네이버-클로바]쑥쑥 크는 네이버 AI\n"
     ]
    }
   ],
   "source": [
    "res = requests.get(\"http://v.media.daum.net/v/20170518153405933\")\n",
    "soup = BeautifulSoup(res.content, \"html5lib\")\n",
    "\n",
    "print(soup.find_all(string=\"오대석\"))\n",
    "print(soup.find_all(string=[\"[이주의해시태그-#네이버-클로바] 쑥쑥 크는 네이버 AI\", \"오대석\"]))\n",
    "print(soup.find_all(string=\"AI\"))\n",
    "print(soup.find_all(string=re.compile(\"AI\"))[0])  # AI로 시작하는 모든 것 가져와서 그 중 1번쨰 반환"
   ]
  },
  {
   "cell_type": "markdown",
   "id": "8f967fd3",
   "metadata": {},
   "source": [
    "# CSS Selector을 사용한 크롤링"
   ]
  },
  {
   "cell_type": "markdown",
   "id": "8dcc2f67",
   "metadata": {},
   "source": [
    "## Select() "
   ]
  },
  {
   "cell_type": "markdown",
   "id": "b07b0899",
   "metadata": {},
   "source": [
    "+ select 함수는 리스트 형태로 전체 반환\n",
    "\n",
    "\n",
    "+ select() 안에서 띄어쓰기가 있다면 하위 태그를 검색\n",
    "    - 바로 직계 자식이 아니어도 상관없다\n",
    "    - 그러나 '>'을 사용하면 바로 아래 자식만 검색"
   ]
  },
  {
   "cell_type": "code",
   "execution_count": 20,
   "id": "491b576a",
   "metadata": {
    "ExecuteTime": {
     "end_time": "2021-06-24T05:22:14.850246Z",
     "start_time": "2021-06-24T05:22:14.844667Z"
    }
   },
   "outputs": [
    {
     "name": "stdout",
     "output_type": "stream",
     "text": [
      "[<title>[이주의해시태그-#네이버-클로바]쑥쑥 크는 네이버 AI</title>]\n",
      "<title>[이주의해시태그-#네이버-클로바]쑥쑥 크는 네이버 AI</title>\n",
      "[이주의해시태그-#네이버-클로바]쑥쑥 크는 네이버 AI\n"
     ]
    }
   ],
   "source": [
    "soup.find('title')\n",
    "\n",
    "#select 함수는 리스트 형태로 전체 반환\n",
    "title = soup.select('title')[0]\n",
    "print(soup.select('title'))\n",
    "print(title)\n",
    "print(title.get_text())"
   ]
  },
  {
   "cell_type": "code",
   "execution_count": 25,
   "id": "13db66e7",
   "metadata": {
    "ExecuteTime": {
     "end_time": "2021-06-24T05:25:37.467742Z",
     "start_time": "2021-06-24T05:25:37.454292Z"
    }
   },
   "outputs": [
    {
     "name": "stdout",
     "output_type": "stream",
     "text": [
      "[이주의해시태그-#네이버-클로바]쑥쑥 크는 네이버 AI\n",
      "[이주의해시태그-#네이버-클로바]쑥쑥 크는 네이버 AI\n"
     ]
    },
    {
     "ename": "IndexError",
     "evalue": "list index out of range",
     "output_type": "error",
     "traceback": [
      "\u001b[0;31m---------------------------------------------------------------------------\u001b[0m",
      "\u001b[0;31mIndexError\u001b[0m                                Traceback (most recent call last)",
      "\u001b[0;32m<ipython-input-25-f9fdfdc7dfdc>\u001b[0m in \u001b[0;36m<module>\u001b[0;34m\u001b[0m\n\u001b[1;32m      9\u001b[0m \u001b[0;31m# '>' 를 사용하는 경우 바로 아래의 자식만 검색\u001b[0m\u001b[0;34m\u001b[0m\u001b[0;34m\u001b[0m\u001b[0;34m\u001b[0m\u001b[0m\n\u001b[1;32m     10\u001b[0m \u001b[0;31m# 바로 아래 자식이 아니기 때문에 에러 발생\u001b[0m\u001b[0;34m\u001b[0m\u001b[0;34m\u001b[0m\u001b[0;34m\u001b[0m\u001b[0m\n\u001b[0;32m---> 11\u001b[0;31m \u001b[0mtitle\u001b[0m \u001b[0;34m=\u001b[0m \u001b[0msoup\u001b[0m\u001b[0;34m.\u001b[0m\u001b[0mselect\u001b[0m\u001b[0;34m(\u001b[0m\u001b[0;34m'html > title'\u001b[0m\u001b[0;34m)\u001b[0m\u001b[0;34m[\u001b[0m\u001b[0;36m0\u001b[0m\u001b[0;34m]\u001b[0m\u001b[0;34m\u001b[0m\u001b[0;34m\u001b[0m\u001b[0m\n\u001b[0m\u001b[1;32m     12\u001b[0m \u001b[0mprint\u001b[0m\u001b[0;34m(\u001b[0m\u001b[0mtitle\u001b[0m\u001b[0;34m.\u001b[0m\u001b[0mget_text\u001b[0m\u001b[0;34m(\u001b[0m\u001b[0;34m)\u001b[0m\u001b[0;34m)\u001b[0m\u001b[0;34m\u001b[0m\u001b[0;34m\u001b[0m\u001b[0m\n\u001b[1;32m     13\u001b[0m \u001b[0;34m\u001b[0m\u001b[0m\n",
      "\u001b[0;31mIndexError\u001b[0m: list index out of range"
     ]
    }
   ],
   "source": [
    "# 띄어쓰기가 있다면 하위 태그를 검색\n",
    "title = soup.select(\"html head title\")[0]\n",
    "print(title.get_text())\n",
    "\n",
    "# 직계의 자식이 아니어도 상관없음\n",
    "title = soup.select(\"html title\")[0]\n",
    "print(title.get_text())\n",
    "\n",
    "# '>' 를 사용하는 경우 바로 아래의 자식만 검색\n",
    "# 바로 아래 자식이 아니기 때문에 에러 발생\n",
    "title = soup.select(\"html > title\")[0]\n",
    "print(title.get_text())"
   ]
  },
  {
   "cell_type": "code",
   "execution_count": 26,
   "id": "c7128627",
   "metadata": {
    "ExecuteTime": {
     "end_time": "2021-06-24T05:25:48.854507Z",
     "start_time": "2021-06-24T05:25:48.850566Z"
    }
   },
   "outputs": [
    {
     "name": "stdout",
     "output_type": "stream",
     "text": [
      "[이주의해시태그-#네이버-클로바]쑥쑥 크는 네이버 AI\n"
     ]
    }
   ],
   "source": [
    "# 바로 아래 자식을 검색하는 것은 > 사용 가능\n",
    "title = soup.select(\"head > title\")[0]\n",
    "print(title.get_text())"
   ]
  },
  {
   "cell_type": "markdown",
   "id": "a2fc0ad6",
   "metadata": {},
   "source": [
    "## '.' 의 역할 ( 태그의 클래스 검색)"
   ]
  },
  {
   "cell_type": "markdown",
   "id": "ec340af3",
   "metadata": {},
   "source": [
    "+ . 은 태그의 클래스를 검색!!"
   ]
  },
  {
   "cell_type": "code",
   "execution_count": 33,
   "id": "cc042895",
   "metadata": {
    "ExecuteTime": {
     "end_time": "2021-06-24T05:32:43.513658Z",
     "start_time": "2021-06-24T05:32:43.507873Z"
    }
   },
   "outputs": [
    {
     "name": "stdout",
     "output_type": "stream",
     "text": [
      "<class 'bs4.element.Tag'> 5\n",
      "\n",
      "\n",
      "\n",
      "네이버가 최근 인공지능(AI) 비서 앱 '네이버-클로바(Clova)' 시범 버전을 공개했다. 업계 예상보다 한두달 이른 출시다. 네이버와 자회사 라인이 공동 개발한 오감형 AI 플랫폼 '클로바(Clova)'가 처음 적용됐다. 네이버가 그동안 축적한 음성인식, 번역, 추천 등 다양한 AI 기술이 활용됐다.\n",
      "풍부한 한글 콘텐츠와 데이터(DB)를 활용한 게 강점이다. 이용자 만족도는 얼마나 양질의 DB를 보유했는지, 얼마나 연계가 긴밀한지에 따라 결정된다. 음성은 한국어 영어를 막론하고 잘 인식했다.\n",
      "'빅스비' '시리' 등 다른 AI 비서 서비스와 비교해 보니 한국어 이용자 의도에 가장 부합하는 결과를 제공했다. 클로바는 '최신 영화를 추천해 줘'라는 질문에 현재 극장에서 개봉 중인 영화를 보여줬다. 빅스비와 시리가 '공부를 더 해야겠어요' '토픽으로는 검색할 수 없어요' 등 모호한 대답을 한 것과 비교해 만족도가 높았다.\n",
      "'라라랜드 출연자가 누구야'라고 물으니 출연진을 모두 열거했다. 반면 다른 AI 비서는 응답하지 못했다. 검색 서비스 사업자의 강점이 잘 드러난다. 야구 결과를 물으면 한국 프로야구 결과를 우선 보여주는 것도 '한국화' 된 서비스라는 점이 느껴졌다. 다른 AI 비서가 기기 기반인 경우가 많은 반면 앱 기반이라 접근성이 높다는 점도 장점이다.\n",
      "\n",
      "\n",
      "\n",
      "3월 출시된 AI 대화형 엔진 '네이버아이(i)'와 차이점을 알기 위해 비교해 봤다. 클로바는 네이버i를 포함해 다양한 AI 알고리즘이 적용됐다. 네이버i가 검색 결과를 잘 제공하는 데 초점을 맞춘 반면 네이버-클로바는 스스로 판단하는 능력이 강화됐다. 80년대 여가수 음악을 들려달라고 주문하니 스스로 판단해 김완선의 '이젠 잊기로 해요'를 재생한다. 더욱 다양한 용도로 활용되기 적합하다.\n",
      "네이버i도 장소를 묻거나 음악을 들려 달라고 하면 해당 앱을 실행하는 '행동력'을 보여줬다. 클로바는 실행력이 더욱 강화됐다. 앱 자체에서 지하철, 자동차 등 교통수단에 따른 경로까지 바로 보여준다. '7시간 뒤에 깨워줘'라는 명령을 내리면 바로 알람 타이머가 시작된다.\n",
      "파파고 운영으로 쌓은 번역 능력도 특징이다. '학교 가기 싫어가 일본어로 뭐야'라고 물었더니 정확하게 번역해 답변해준다. '영어 공부하자'고 말하면 '영어 스피킹을 시작합니다'라고 안내하며 영어로 대화를 나누게 됐다. 아직 다양한 주제를 놓고 자연스러운 대화를 나누기는 힘들다. 향후 고도화가 필요한 부분이다.\n",
      "네이버-클로바는 시범 버전인 만큼 향후 개선이 기대되는 앱이다. 네이버i와 비교해 더욱 개선된 기능이 돋보인다. 사용을 많이 할수록 품질도 개선된다. 스스로 학습하기 때문에 이용자가 쓰는 만큼 개인 맞춤형 기능이 정교해진다.\n",
      "글로벌 성공을 목표로 하지만 역시 가장 경쟁력을 가진 곳은 한국이다. 보유한 데이터 경쟁력이 돋보였다. 모의고사를 무사히 마치고 올해 여름 공개되는 AI 스피커 '웨이브'에서 어떤 개선점을 보여줄지 기대된다.\n",
      "한줄평: 쑥쑥 크는 네이버 AI 현주소\n",
      "오대석기자 ods@etnews.com\n",
      "Copyright ⓒ 전자신문 & 전자신문인터넷, 무단전재 및 재배포 금지 \n"
     ]
    }
   ],
   "source": [
    "#class가 article_view인 태그 검색\n",
    "#==> class가 article_view 면 다 수집\n",
    "body = soup.select('.article_view')[0]\n",
    "print(type(body), len(body))\n",
    "\n",
    "#=> 위에서 수집 한 것중에서 태그가 p인 것만 따로 print\n",
    "for p in body.find_all('p'):\n",
    "    print(p.get_text())"
   ]
  },
  {
   "cell_type": "code",
   "execution_count": 40,
   "id": "e939ceeb",
   "metadata": {
    "ExecuteTime": {
     "end_time": "2021-06-24T05:37:51.426314Z",
     "start_time": "2021-06-24T05:37:51.421139Z"
    }
   },
   "outputs": [
    {
     "name": "stdout",
     "output_type": "stream",
     "text": [
      "<class 'bs4.element.Tag'> 5\n",
      "\n",
      "\n",
      "\n",
      "네이버가 최근 인공지능(AI) 비서 앱 '네이버-클로바(Clova)' 시범 버전을 공개했다. 업계 예상보다 한두달 이른 출시다. 네이버와 자회사 라인이 공동 개발한 오감형 AI 플랫폼 '클로바(Clova)'가 처음 적용됐다. 네이버가 그동안 축적한 음성인식, 번역, 추천 등 다양한 AI 기술이 활용됐다.\n",
      "풍부한 한글 콘텐츠와 데이터(DB)를 활용한 게 강점이다. 이용자 만족도는 얼마나 양질의 DB를 보유했는지, 얼마나 연계가 긴밀한지에 따라 결정된다. 음성은 한국어 영어를 막론하고 잘 인식했다.\n",
      "'빅스비' '시리' 등 다른 AI 비서 서비스와 비교해 보니 한국어 이용자 의도에 가장 부합하는 결과를 제공했다. 클로바는 '최신 영화를 추천해 줘'라는 질문에 현재 극장에서 개봉 중인 영화를 보여줬다. 빅스비와 시리가 '공부를 더 해야겠어요' '토픽으로는 검색할 수 없어요' 등 모호한 대답을 한 것과 비교해 만족도가 높았다.\n",
      "'라라랜드 출연자가 누구야'라고 물으니 출연진을 모두 열거했다. 반면 다른 AI 비서는 응답하지 못했다. 검색 서비스 사업자의 강점이 잘 드러난다. 야구 결과를 물으면 한국 프로야구 결과를 우선 보여주는 것도 '한국화' 된 서비스라는 점이 느껴졌다. 다른 AI 비서가 기기 기반인 경우가 많은 반면 앱 기반이라 접근성이 높다는 점도 장점이다.\n",
      "\n",
      "\n",
      "\n",
      "3월 출시된 AI 대화형 엔진 '네이버아이(i)'와 차이점을 알기 위해 비교해 봤다. 클로바는 네이버i를 포함해 다양한 AI 알고리즘이 적용됐다. 네이버i가 검색 결과를 잘 제공하는 데 초점을 맞춘 반면 네이버-클로바는 스스로 판단하는 능력이 강화됐다. 80년대 여가수 음악을 들려달라고 주문하니 스스로 판단해 김완선의 '이젠 잊기로 해요'를 재생한다. 더욱 다양한 용도로 활용되기 적합하다.\n",
      "네이버i도 장소를 묻거나 음악을 들려 달라고 하면 해당 앱을 실행하는 '행동력'을 보여줬다. 클로바는 실행력이 더욱 강화됐다. 앱 자체에서 지하철, 자동차 등 교통수단에 따른 경로까지 바로 보여준다. '7시간 뒤에 깨워줘'라는 명령을 내리면 바로 알람 타이머가 시작된다.\n",
      "파파고 운영으로 쌓은 번역 능력도 특징이다. '학교 가기 싫어가 일본어로 뭐야'라고 물었더니 정확하게 번역해 답변해준다. '영어 공부하자'고 말하면 '영어 스피킹을 시작합니다'라고 안내하며 영어로 대화를 나누게 됐다. 아직 다양한 주제를 놓고 자연스러운 대화를 나누기는 힘들다. 향후 고도화가 필요한 부분이다.\n",
      "네이버-클로바는 시범 버전인 만큼 향후 개선이 기대되는 앱이다. 네이버i와 비교해 더욱 개선된 기능이 돋보인다. 사용을 많이 할수록 품질도 개선된다. 스스로 학습하기 때문에 이용자가 쓰는 만큼 개인 맞춤형 기능이 정교해진다.\n",
      "글로벌 성공을 목표로 하지만 역시 가장 경쟁력을 가진 곳은 한국이다. 보유한 데이터 경쟁력이 돋보였다. 모의고사를 무사히 마치고 올해 여름 공개되는 AI 스피커 '웨이브'에서 어떤 개선점을 보여줄지 기대된다.\n",
      "한줄평: 쑥쑥 크는 네이버 AI 현주소\n",
      "오대석기자 ods@etnews.com\n",
      "Copyright ⓒ 전자신문 & 전자신문인터넷, 무단전재 및 재배포 금지 \n"
     ]
    }
   ],
   "source": [
    "# div 태그 중 class가 article_view인 태그 탐색\n",
    "body = soup.select(\"div.article_view\")[0]\n",
    "print(type(body), len(body))\n",
    "\n",
    "# div 안에서 p태그인 것을 찾아줌\n",
    "for p in body.find_all(\"p\"):\n",
    "    print(p.get_text())"
   ]
  },
  {
   "cell_type": "markdown",
   "id": "38434654",
   "metadata": {},
   "source": [
    "## '#'의 용도"
   ]
  },
  {
   "cell_type": "markdown",
   "id": "ace44bab",
   "metadata": {},
   "source": [
    "+ Select 함수에서 id를 탐색하는데 사용한다"
   ]
  },
  {
   "cell_type": "code",
   "execution_count": 41,
   "id": "02c00019",
   "metadata": {
    "ExecuteTime": {
     "end_time": "2021-06-24T05:38:46.255398Z",
     "start_time": "2021-06-24T05:38:46.250138Z"
    }
   },
   "outputs": [
    {
     "name": "stdout",
     "output_type": "stream",
     "text": [
      "[<div class=\"article_view\" data-translation-body=\"true\" id=\"harmonyContainer\"> \n",
      "         <section dmcf-sid=\"nRB6uoNubm\">\n",
      "          <figure class=\"figure_frm origin_fig\" dmcf-pid=\"n1uqIe1P5M\" dmcf-ptype=\"figure\">\n",
      "           <p class=\"link_figure\"><img alt=\"클로바 '80년대 여가수 음악을 들려줘'라는 질문에 대한 응답\" class=\"thumb_g_article\" data-org-src=\"http://t1.daumcdn.net/news/201705/18/etimesi/20170518153404544yjjn.jpg\" data-org-width=\"700\" dmcf-mid=\"npUvR89kzi\" dmcf-mtype=\"image\" height=\"auto\" src=\"https://img3.daumcdn.net/thumb/R658x0.q70/?fname=http://t1.daumcdn.net/news/201705/18/etimesi/20170518153404544yjjn.jpg\" width=\"658\"/></p>\n",
      "           <figcaption class=\"txt_caption default_figure\">\n",
      "            클로바 '80년대 여가수 음악을 들려줘'라는 질문에 대한 응답\n",
      "           </figcaption>\n",
      "          </figure>\n",
      "          <figure class=\"figure_frm origin_fig\" dmcf-pid=\"nKKD1N0HTd\" dmcf-ptype=\"figure\">\n",
      "           <p class=\"link_figure\"><img alt=\"빅스비 '80년대 여가수 음악을 들려줘'라는 질문에 대한 응답\" class=\"thumb_g_article\" data-org-src=\"http://t1.daumcdn.net/news/201705/18/etimesi/20170518153404721clln.jpg\" data-org-width=\"700\" dmcf-mid=\"nSmMG4OIx0\" dmcf-mtype=\"image\" height=\"auto\" src=\"https://img4.daumcdn.net/thumb/R658x0.q70/?fname=http://t1.daumcdn.net/news/201705/18/etimesi/20170518153404721clln.jpg\" width=\"658\"/></p>\n",
      "           <figcaption class=\"txt_caption default_figure\">\n",
      "            빅스비 '80년대 여가수 음악을 들려줘'라는 질문에 대한 응답\n",
      "           </figcaption>\n",
      "          </figure>\n",
      "          <figure class=\"figure_frm origin_fig\" dmcf-pid=\"nrGmHbrzNK\" dmcf-ptype=\"figure\">\n",
      "           <p class=\"link_figure\"><img alt=\"시리 '80년대 여가수 음악을 들려줘'라는 질문에 대한 응답\" class=\"thumb_g_article\" data-org-src=\"http://t1.daumcdn.net/news/201705/18/etimesi/20170518153404909wgso.jpg\" data-org-width=\"700\" dmcf-mid=\"niOI17oG0l\" dmcf-mtype=\"image\" height=\"auto\" src=\"https://img2.daumcdn.net/thumb/R658x0.q70/?fname=http://t1.daumcdn.net/news/201705/18/etimesi/20170518153404909wgso.jpg\" width=\"658\"/></p>\n",
      "           <figcaption class=\"txt_caption default_figure\">\n",
      "            시리 '80년대 여가수 음악을 들려줘'라는 질문에 대한 응답\n",
      "           </figcaption>\n",
      "          </figure>\n",
      "          <p dmcf-pid=\"nQMQzCjeAz\" dmcf-ptype=\"general\">네이버가 최근 인공지능(AI) 비서 앱 '네이버-클로바(Clova)' 시범 버전을 공개했다. 업계 예상보다 한두달 이른 출시다. 네이버와 자회사 라인이 공동 개발한 오감형 AI 플랫폼 '클로바(Clova)'가 처음 적용됐다. 네이버가 그동안 축적한 음성인식, 번역, 추천 등 다양한 AI 기술이 활용됐다.</p>\n",
      "          <p dmcf-pid=\"nDXgkkCZdG\" dmcf-ptype=\"general\">풍부한 한글 콘텐츠와 데이터(DB)를 활용한 게 강점이다. 이용자 만족도는 얼마나 양질의 DB를 보유했는지, 얼마나 연계가 긴밀한지에 따라 결정된다. 음성은 한국어 영어를 막론하고 잘 인식했다.</p>\n",
      "          <p dmcf-pid=\"nOKXQR6yJH\" dmcf-ptype=\"general\">'빅스비' '시리' 등 다른 AI 비서 서비스와 비교해 보니 한국어 이용자 의도에 가장 부합하는 결과를 제공했다. 클로바는 '최신 영화를 추천해 줘'라는 질문에 현재 극장에서 개봉 중인 영화를 보여줬다. 빅스비와 시리가 '공부를 더 해야겠어요' '토픽으로는 검색할 수 없어요' 등 모호한 대답을 한 것과 비교해 만족도가 높았다.</p>\n",
      "          <p dmcf-pid=\"nsEsUj5ZXc\" dmcf-ptype=\"general\">'라라랜드 출연자가 누구야'라고 물으니 출연진을 모두 열거했다. 반면 다른 AI 비서는 응답하지 못했다. 검색 서비스 사업자의 강점이 잘 드러난다. 야구 결과를 물으면 한국 프로야구 결과를 우선 보여주는 것도 '한국화' 된 서비스라는 점이 느껴졌다. 다른 AI 비서가 기기 기반인 경우가 많은 반면 앱 기반이라 접근성이 높다는 점도 장점이다.<br/></p>\n",
      "          <figure class=\"figure_frm origin_fig\" dmcf-pid=\"n04NE7muTG\" dmcf-ptype=\"figure\">\n",
      "           <p class=\"link_figure\"><img alt=\"'라라랜드 출연자가 누구야'라는 질문에 대한 클로바의 대답\" class=\"thumb_g_article\" data-org-src=\"http://t1.daumcdn.net/news/201705/18/etimesi/20170518153405065natq.jpg\" data-org-width=\"700\" dmcf-mid=\"nxAfxEIxL1\" dmcf-mtype=\"image\" height=\"auto\" src=\"https://img3.daumcdn.net/thumb/R658x0.q70/?fname=http://t1.daumcdn.net/news/201705/18/etimesi/20170518153405065natq.jpg\" width=\"658\"/></p>\n",
      "           <figcaption class=\"txt_caption default_figure\">\n",
      "            '라라랜드 출연자가 누구야'라는 질문에 대한 클로바의 대답\n",
      "           </figcaption>\n",
      "          </figure>\n",
      "          <figure class=\"figure_frm origin_fig\" dmcf-pid=\"nMrg2YqqwS\" dmcf-ptype=\"figure\">\n",
      "           <p class=\"link_figure\"><img alt=\"'라라랜드 출연자가 누구야'라는 질문에 대한 시리의 대답\" class=\"thumb_g_article\" data-org-src=\"http://t1.daumcdn.net/news/201705/18/etimesi/20170518153405245wzmr.jpg\" data-org-width=\"700\" dmcf-mid=\"nUaPuzu0Dg\" dmcf-mtype=\"image\" height=\"auto\" src=\"https://img2.daumcdn.net/thumb/R658x0.q70/?fname=http://t1.daumcdn.net/news/201705/18/etimesi/20170518153405245wzmr.jpg\" width=\"658\"/></p>\n",
      "           <figcaption class=\"txt_caption default_figure\">\n",
      "            '라라랜드 출연자가 누구야'라는 질문에 대한 시리의 대답\n",
      "           </figcaption>\n",
      "          </figure>\n",
      "          <figure class=\"figure_frm origin_fig\" dmcf-pid=\"nibIFPgPh6\" dmcf-ptype=\"figure\">\n",
      "           <p class=\"link_figure\"><img alt=\"'라라랜드 출연자가 누구야'라는 질문에 대한 빅스비 대답\" class=\"thumb_g_article\" data-org-src=\"http://t1.daumcdn.net/news/201705/18/etimesi/20170518153405419rciz.jpg\" data-org-width=\"700\" dmcf-mid=\"ncC0E64GY7\" dmcf-mtype=\"image\" height=\"auto\" src=\"https://img2.daumcdn.net/thumb/R658x0.q70/?fname=http://t1.daumcdn.net/news/201705/18/etimesi/20170518153405419rciz.jpg\" width=\"658\"/></p>\n",
      "           <figcaption class=\"txt_caption default_figure\">\n",
      "            '라라랜드 출연자가 누구야'라는 질문에 대한 빅스비 대답\n",
      "           </figcaption>\n",
      "          </figure>\n",
      "          <p dmcf-pid=\"nWX1cheoJU\" dmcf-ptype=\"general\">3월 출시된 AI 대화형 엔진 '네이버아이(i)'와 차이점을 알기 위해 비교해 봤다. 클로바는 네이버i를 포함해 다양한 AI 알고리즘이 적용됐다. 네이버i가 검색 결과를 잘 제공하는 데 초점을 맞춘 반면 네이버-클로바는 스스로 판단하는 능력이 강화됐다. 80년대 여가수 음악을 들려달라고 주문하니 스스로 판단해 김완선의 '이젠 잊기로 해요'를 재생한다. 더욱 다양한 용도로 활용되기 적합하다.</p>\n",
      "          <p dmcf-pid=\"nWwibl4QZz\" dmcf-ptype=\"general\">네이버i도 장소를 묻거나 음악을 들려 달라고 하면 해당 앱을 실행하는 '행동력'을 보여줬다. 클로바는 실행력이 더욱 강화됐다. 앱 자체에서 지하철, 자동차 등 교통수단에 따른 경로까지 바로 보여준다. '7시간 뒤에 깨워줘'라는 명령을 내리면 바로 알람 타이머가 시작된다.</p>\n",
      "          <p dmcf-pid=\"nEqTACNwm2\" dmcf-ptype=\"general\">파파고 운영으로 쌓은 번역 능력도 특징이다. '학교 가기 싫어가 일본어로 뭐야'라고 물었더니 정확하게 번역해 답변해준다. '영어 공부하자'고 말하면 '영어 스피킹을 시작합니다'라고 안내하며 영어로 대화를 나누게 됐다. 아직 다양한 주제를 놓고 자연스러운 대화를 나누기는 힘들다. 향후 고도화가 필요한 부분이다.</p>\n",
      "          <p dmcf-pid=\"nE4nRGO28M\" dmcf-ptype=\"general\">네이버-클로바는 시범 버전인 만큼 향후 개선이 기대되는 앱이다. 네이버i와 비교해 더욱 개선된 기능이 돋보인다. 사용을 많이 할수록 품질도 개선된다. 스스로 학습하기 때문에 이용자가 쓰는 만큼 개인 맞춤형 기능이 정교해진다.</p>\n",
      "          <p dmcf-pid=\"nfggLeUfXx\" dmcf-ptype=\"general\">글로벌 성공을 목표로 하지만 역시 가장 경쟁력을 가진 곳은 한국이다. 보유한 데이터 경쟁력이 돋보였다. 모의고사를 무사히 마치고 올해 여름 공개되는 AI 스피커 '웨이브'에서 어떤 개선점을 보여줄지 기대된다.</p>\n",
      "          <p dmcf-pid=\"nAWOpjRCM0\" dmcf-ptype=\"general\">한줄평: 쑥쑥 크는 네이버 AI 현주소</p>\n",
      "          <p dmcf-pid=\"nyr6ejBdM0\" dmcf-ptype=\"general\">오대석기자 ods@etnews.com</p>\n",
      "         </section> \n",
      "         <p data-translation=\"true\">Copyright ⓒ 전자신문 &amp; 전자신문인터넷, 무단전재 및 재배포 금지 </p> \n",
      "        </div>]\n"
     ]
    }
   ],
   "source": [
    "# div 태그 중 id가 harmonyContainer인 태그 탐색\n",
    "container = soup.select(\"#harmonyContainer\")\n",
    "print(container)"
   ]
  },
  {
   "cell_type": "code",
   "execution_count": 42,
   "id": "24837c09",
   "metadata": {
    "ExecuteTime": {
     "end_time": "2021-06-24T05:44:22.926232Z",
     "start_time": "2021-06-24T05:44:22.922054Z"
    }
   },
   "outputs": [
    {
     "name": "stdout",
     "output_type": "stream",
     "text": [
      " \n",
      "         \n",
      "          \n",
      "           \n",
      "           \n",
      "            클로바 '80년대 여가수 음악을 들려줘'라는 질문에 대한 응답\n",
      "           \n",
      "          \n",
      "          \n",
      "           \n",
      "           \n",
      "            빅스비 '80년대 여가수 음악을 들려줘'라는 질문에 대한 응답\n",
      "           \n",
      "          \n",
      "          \n",
      "           \n",
      "           \n",
      "            시리 '80년대 여가수 음악을 들려줘'라는 질문에 대한 응답\n",
      "           \n",
      "          \n",
      "          네이버가 최근 인공지능(AI) 비서 앱 '네이버-클로바(Clova)' 시범 버전을 공개했다. 업계 예상보다 한두달 이른 출시다. 네이버와 자회사 라인이 공동 개발한 오감형 AI 플랫폼 '클로바(Clova)'가 처음 적용됐다. 네이버가 그동안 축적한 음성인식, 번역, 추천 등 다양한 AI 기술이 활용됐다.\n",
      "          풍부한 한글 콘텐츠와 데이터(DB)를 활용한 게 강점이다. 이용자 만족도는 얼마나 양질의 DB를 보유했는지, 얼마나 연계가 긴밀한지에 따라 결정된다. 음성은 한국어 영어를 막론하고 잘 인식했다.\n",
      "          '빅스비' '시리' 등 다른 AI 비서 서비스와 비교해 보니 한국어 이용자 의도에 가장 부합하는 결과를 제공했다. 클로바는 '최신 영화를 추천해 줘'라는 질문에 현재 극장에서 개봉 중인 영화를 보여줬다. 빅스비와 시리가 '공부를 더 해야겠어요' '토픽으로는 검색할 수 없어요' 등 모호한 대답을 한 것과 비교해 만족도가 높았다.\n",
      "          '라라랜드 출연자가 누구야'라고 물으니 출연진을 모두 열거했다. 반면 다른 AI 비서는 응답하지 못했다. 검색 서비스 사업자의 강점이 잘 드러난다. 야구 결과를 물으면 한국 프로야구 결과를 우선 보여주는 것도 '한국화' 된 서비스라는 점이 느껴졌다. 다른 AI 비서가 기기 기반인 경우가 많은 반면 앱 기반이라 접근성이 높다는 점도 장점이다.\n",
      "          \n",
      "           \n",
      "           \n",
      "            '라라랜드 출연자가 누구야'라는 질문에 대한 클로바의 대답\n",
      "           \n",
      "          \n",
      "          \n",
      "           \n",
      "           \n",
      "            '라라랜드 출연자가 누구야'라는 질문에 대한 시리의 대답\n",
      "           \n",
      "          \n",
      "          \n",
      "           \n",
      "           \n",
      "            '라라랜드 출연자가 누구야'라는 질문에 대한 빅스비 대답\n",
      "           \n",
      "          \n",
      "          3월 출시된 AI 대화형 엔진 '네이버아이(i)'와 차이점을 알기 위해 비교해 봤다. 클로바는 네이버i를 포함해 다양한 AI 알고리즘이 적용됐다. 네이버i가 검색 결과를 잘 제공하는 데 초점을 맞춘 반면 네이버-클로바는 스스로 판단하는 능력이 강화됐다. 80년대 여가수 음악을 들려달라고 주문하니 스스로 판단해 김완선의 '이젠 잊기로 해요'를 재생한다. 더욱 다양한 용도로 활용되기 적합하다.\n",
      "          네이버i도 장소를 묻거나 음악을 들려 달라고 하면 해당 앱을 실행하는 '행동력'을 보여줬다. 클로바는 실행력이 더욱 강화됐다. 앱 자체에서 지하철, 자동차 등 교통수단에 따른 경로까지 바로 보여준다. '7시간 뒤에 깨워줘'라는 명령을 내리면 바로 알람 타이머가 시작된다.\n",
      "          파파고 운영으로 쌓은 번역 능력도 특징이다. '학교 가기 싫어가 일본어로 뭐야'라고 물었더니 정확하게 번역해 답변해준다. '영어 공부하자'고 말하면 '영어 스피킹을 시작합니다'라고 안내하며 영어로 대화를 나누게 됐다. 아직 다양한 주제를 놓고 자연스러운 대화를 나누기는 힘들다. 향후 고도화가 필요한 부분이다.\n",
      "          네이버-클로바는 시범 버전인 만큼 향후 개선이 기대되는 앱이다. 네이버i와 비교해 더욱 개선된 기능이 돋보인다. 사용을 많이 할수록 품질도 개선된다. 스스로 학습하기 때문에 이용자가 쓰는 만큼 개인 맞춤형 기능이 정교해진다.\n",
      "          글로벌 성공을 목표로 하지만 역시 가장 경쟁력을 가진 곳은 한국이다. 보유한 데이터 경쟁력이 돋보였다. 모의고사를 무사히 마치고 올해 여름 공개되는 AI 스피커 '웨이브'에서 어떤 개선점을 보여줄지 기대된다.\n",
      "          한줄평: 쑥쑥 크는 네이버 AI 현주소\n",
      "          오대석기자 ods@etnews.com\n",
      "          \n",
      "         Copyright ⓒ 전자신문 & 전자신문인터넷, 무단전재 및 재배포 금지  \n",
      "        \n"
     ]
    }
   ],
   "source": [
    "#div태그 중 id가 mArticle인 태그의 하위 태그 중 아이디가 article_title인 태그\n",
    "title = soup.select('div#mArticle div#harmonyContainer')[0]\n",
    "\n",
    "print(title.get_text())"
   ]
  },
  {
   "cell_type": "markdown",
   "id": "b842c9c4",
   "metadata": {},
   "source": [
    "## 정규표현식 활용"
   ]
  },
  {
   "cell_type": "code",
   "execution_count": 45,
   "id": "fc92fe3f",
   "metadata": {
    "ExecuteTime": {
     "end_time": "2021-06-24T05:53:14.240789Z",
     "start_time": "2021-06-24T05:53:13.961478Z"
    }
   },
   "outputs": [
    {
     "name": "stdout",
     "output_type": "stream",
     "text": [
      "http://search.daum.net/search?w=tot&DA=23W&rtmaxcoll=Z8T&q=서울특별시날씨\n",
      "http://search.daum.net/search?w=tot&DA=23W&rtmaxcoll=Z8T&q=수원시 권선구날씨\n",
      "http://search.daum.net/search?w=tot&DA=23W&rtmaxcoll=Z8T&q=인천광역시날씨\n",
      "http://search.daum.net/search?w=tot&DA=23W&rtmaxcoll=Z8T&q=대구광역시날씨\n",
      "http://search.daum.net/search?w=tot&DA=23W&rtmaxcoll=Z8T&q=대전광역시날씨\n",
      "http://search.daum.net/search?w=tot&DA=23W&rtmaxcoll=Z8T&q=광주광역시날씨\n",
      "http://search.daum.net/search?w=tot&DA=23W&rtmaxcoll=Z8T&q=부산광역시날씨\n",
      "http://search.daum.net/search?w=tot&DA=23W&rtmaxcoll=Z8T&q=울산광역시날씨\n",
      "http://search.daum.net/search?w=tot&DA=23W&rtmaxcoll=Z8T&q=울릉군날씨\n",
      "http://search.daum.net/search?w=tot&DA=23W&rtmaxcoll=Z8T&q=춘천시날씨\n",
      "http://search.daum.net/search?w=tot&DA=23W&rtmaxcoll=Z8T&q=강릉시날씨\n",
      "http://search.daum.net/search?w=tot&DA=23W&rtmaxcoll=Z8T&q=백령면날씨\n",
      "http://search.daum.net/search?w=tot&DA=23W&rtmaxcoll=Z8T&q=청주시 상당구날씨\n",
      "http://search.daum.net/search?w=tot&DA=23W&rtmaxcoll=Z8T&q=전주시 완산구날씨\n",
      "http://search.daum.net/search?w=tot&DA=23W&rtmaxcoll=Z8T&q=목포시날씨\n",
      "http://search.daum.net/search?w=tot&DA=23W&rtmaxcoll=Z8T&q=여수시날씨\n",
      "http://search.daum.net/search?w=tot&DA=23W&rtmaxcoll=Z8T&q=제주특별자치도날씨\n",
      "http://search.daum.net/search?w=tot&DA=23W&rtmaxcoll=Z8T&q=안동시날씨\n",
      "http://search.daum.net/search?w=tot&DA=23W&rtmaxcoll=Z8T&q=창원시 의창구날씨\n",
      "http://policy.daum.net/info/info\n",
      "http://cs.daum.net/faq/63.html\n",
      "http://www.kakaocorp.com/\n"
     ]
    }
   ],
   "source": [
    "import re\n",
    "\n",
    "res = requests.get(\"http://media.daum.net/economic/\")\n",
    "\n",
    "soup = BeautifulSoup(res.content, \"html.parser\")\n",
    "\n",
    "# a태그이면서 href 속성을 갖는 경우를 탐색, 리스트 타입으로 links 변수에 저장됨\n",
    "links = soup.select(\"a[href]\")\n",
    "\n",
    "# #select 결과가 list로 반환되기에\n",
    "# http:// 문자열 이후에 숫자 또는 문자[a-zA-Z0-9_]가 한 개 이상 있는 데이터\n",
    "# \\w 문자를 말함. + : 앞서온 것과 동일하게 등장하는 것을 1회이상 허용\n",
    "# search(a,b) : b에서 a를 찾는다.\n",
    "#link의 href에 해당하는 부분 중 http://~ 로 되어있는.. \n",
    "for link in links:\n",
    "    if re.search(\"http://\\w+\", link[\"href\"]):\n",
    "        print(link[\"href\"])"
   ]
  }
 ],
 "metadata": {
  "hide_input": false,
  "kernelspec": {
   "display_name": "Python 3",
   "language": "python",
   "name": "python3"
  },
  "language_info": {
   "codemirror_mode": {
    "name": "ipython",
    "version": 3
   },
   "file_extension": ".py",
   "mimetype": "text/x-python",
   "name": "python",
   "nbconvert_exporter": "python",
   "pygments_lexer": "ipython3",
   "version": "3.8.6"
  },
  "toc": {
   "base_numbering": 1,
   "nav_menu": {},
   "number_sections": true,
   "sideBar": true,
   "skip_h1_title": false,
   "title_cell": "Table of Contents",
   "title_sidebar": "Contents",
   "toc_cell": false,
   "toc_position": {},
   "toc_section_display": true,
   "toc_window_display": false
  },
  "varInspector": {
   "cols": {
    "lenName": 16,
    "lenType": 16,
    "lenVar": 40
   },
   "kernels_config": {
    "python": {
     "delete_cmd_postfix": "",
     "delete_cmd_prefix": "del ",
     "library": "var_list.py",
     "varRefreshCmd": "print(var_dic_list())"
    },
    "r": {
     "delete_cmd_postfix": ") ",
     "delete_cmd_prefix": "rm(",
     "library": "var_list.r",
     "varRefreshCmd": "cat(var_dic_list()) "
    }
   },
   "types_to_exclude": [
    "module",
    "function",
    "builtin_function_or_method",
    "instance",
    "_Feature"
   ],
   "window_display": false
  }
 },
 "nbformat": 4,
 "nbformat_minor": 5
}
